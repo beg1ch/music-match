{
 "cells": [
  {
   "cell_type": "markdown",
   "id": "23a79098",
   "metadata": {},
   "source": [
    "#### Music Match: Система рекомендации музыки по настроению"
   ]
  },
  {
   "cell_type": "code",
   "execution_count": 64,
   "id": "a932db2a",
   "metadata": {},
   "outputs": [],
   "source": [
    "import pandas as pd\n",
    "from transformers import pipeline\n",
    "from sklearn.cluster import KMeans\n",
    "import numpy as np\n",
    "from sklearn.metrics.pairwise import cosine_similarity"
   ]
  },
  {
   "cell_type": "code",
   "execution_count": 65,
   "id": "cdccf285-eb0c-4b80-a45b-789e32ab5e10",
   "metadata": {},
   "outputs": [
    {
     "data": {
      "application/vnd.microsoft.datawrangler.viewer.v0+json": {
       "columns": [
        {
         "name": "index",
         "rawType": "int64",
         "type": "integer"
        },
        {
         "name": "artist",
         "rawType": "object",
         "type": "string"
        },
        {
         "name": "song",
         "rawType": "object",
         "type": "string"
        },
        {
         "name": "text",
         "rawType": "object",
         "type": "string"
        }
       ],
       "conversionMethod": "pd.DataFrame",
       "ref": "792ade0a-2ff9-4d75-93d0-4294984872ab",
       "rows": [
        [
         "0",
         "ABBA",
         "Ahe's My Kind Of Girl",
         "Look at her face, it's a wonderful face  \nAnd it means something special to me  \nLook at the way that she smiles when she sees me  \nHow lucky can one fellow be?  \n  \nShe's just my kind of girl, she makes me feel fine  \nWho could ever believe that she could be mine?  \nShe's just my kind of girl, without her I'm blue  \nAnd if she ever leaves me what could I do, what could I do?  \n  \nAnd when we go for a walk in the park  \nAnd she holds me and squeezes my hand  \nWe'll go on walking for hours and talking  \nAbout all the things that we plan  \n  \nShe's just my kind of girl, she makes me feel fine  \nWho could ever believe that she could be mine?  \nShe's just my kind of girl, without her I'm blue  \nAnd if she ever leaves me what could I do, what could I do?\n\n"
        ],
        [
         "1",
         "ABBA",
         "Andante, Andante",
         "Take it easy with me, please  \nTouch me gently like a summer evening breeze  \nTake your time, make it slow  \nAndante, Andante  \nJust let the feeling grow  \n  \nMake your fingers soft and light  \nLet your body be the velvet of the night  \nTouch my soul, you know how  \nAndante, Andante  \nGo slowly with me now  \n  \nI'm your music  \n(I am your music and I am your song)  \nI'm your song  \n(I am your music and I am your song)  \nPlay me time and time again and make me strong  \n(Play me again 'cause you're making me strong)  \nMake me sing, make me sound  \n(You make me sing and you make me)  \nAndante, Andante  \nTread lightly on my ground  \nAndante, Andante  \nOh please don't let me down  \n  \nThere's a shimmer in your eyes  \nLike the feeling of a thousand butterflies  \nPlease don't talk, go on, play  \nAndante, Andante  \nAnd let me float away  \n  \nI'm your music  \n(I am your music and I am your song)  \nI'm your song  \n(I am your music and I am your song)  \nPlay me time and time again and make me strong  \n(Play me again 'cause you're making me strong)  \nMake me sing, make me sound  \n(You make me sing and you make me)  \nAndante, Andante  \nTread lightly on my ground  \nAndante, Andante  \nOh please don't let me down  \n  \nMake me sing, make me sound  \n(You make me sing and you make me)  \nAndante, Andante  \nTread lightly on my ground  \nAndante, Andante  \nOh please don't let me down  \nAndante, Andante  \nOh please don't let me down\n\n"
        ],
        [
         "2",
         "ABBA",
         "As Good As New",
         "I'll never know why I had to go  \nWhy I had to put up such a lousy rotten show  \nBoy, I was tough, packing all my stuff  \nSaying I don't need you anymore, I've had enough  \nAnd now, look at me standing here again 'cause I found out that  \nMa ma ma ma ma ma ma ma ma ma ma ma ma ma ma ma my life is here  \nGotta have you near  \n  \nAs good as new, my love for you  \nAnd keeping it that way is my intention  \nAs good as new and growing too  \nYes, I think it's taking on a new dimension  \nIt's as good as new, my love for you  \nJust like it used to be and even better  \nAs good as new, thank God it's true  \nDarling, we were always meant to stay together  \n  \nFeel like a creep, never felt so cheap  \nNever had a notion that my love could be so deep  \nHow could I make such a dumb mistake  \nNow I know I'm not entitled to another break  \nBut please, baby, I beg you to forgive 'cause I found out that  \nMa ma ma ma ma ma ma ma ma ma ma ma ma ma ma ma my life is here  \nGotta get you near  \n  \nI thought that our love was at an end but here I am again  \n  \nAs good as new, my love for you  \nAnd keeping it that way is my intention  \nAs good as new and growing too  \nYes, I think it's taking on a new dimension  \nIt's as good as new, my love for you  \nJust like it used to be and even better  \nAs good as new, thank God it's true  \nDarling, we were always meant to stay together  \n  \nYes the love I have for you feels as good as new  \nDarling, we were always meant to stay together\n\n"
        ],
        [
         "3",
         "ABBA",
         "Bang",
         "Making somebody happy is a question of give and take  \nYou can learn how to show it so come on, give yourself a break  \nEvery smile and every little touch  \nDon't you know that they mean so much  \nSweet sweet kisses so tender  \nAlways will return to sender  \n  \nLike a bang, a boom-a-boomerang  \nDum-be-dum-dum be-dum-be-dum-dum  \nOh bang, a boom-a-boomerang  \nLove is a tune you hum-de-hum-hum  \nSo give it away, I think you'll learn  \nYou'll get love in return  \nSo bang, a boom-a-boomerang is love  \nA boom-a-boomerang is love  \n  \nLove is always around and you can look for it anywhere  \nWhen you feel that you've found it my advice is to take good care  \nNever use it as a selfish tool  \nNever ever be such a fool  \nEvery feeling you're showing  \nIs a boomerang you're throwing  \n  \nYes a bang, a boom-a-boomerang  \nDum-be-dum-dum be-dum-be-dum-dum  \nOh bang, a boom-a-boomerang  \nLove is a tune you hum-de-hum-hum  \nSo give it away, I think you'll learn  \nYou'll get love in return  \nSo bang, a boom-a-boomerang is love  \n  \nAnd if you're warm and tender  \nI'll kiss you, return to sender  \nPlease surrender  \n  \nBang, a boom-a-boomerang  \nDum-be-dum-dum be-dum-be-dum-dum  \nOh bang, a boom-a-boomerang is love  \nA boom-a-boomerang is love\n\n"
        ],
        [
         "4",
         "ABBA",
         "Bang-A-Boomerang",
         "Making somebody happy is a question of give and take  \nYou can learn how to show it so come on, give yourself a break  \nEvery smile and every little touch  \nDon't you know that they mean so much  \nSweet sweet kisses so tender  \nAlways will return to sender  \n  \nLike a bang, a boom-a-boomerang  \nDumb-be-dumb-dumb be-dumb-be-dumb-dumb  \nOh bang, a boom-a-boomerang  \nLove is a tune you hum-de-hum-hum  \nBy giving away, I think you'll learn  \nYou'll get love in return  \nSo bang, a boom-a-boomerang is love  \nA boom-a-boomerang is love  \n  \nLove is always around and you can look for it anywhere  \nWhen you feel that you've found it my advice is to take good care  \nNever use it as a selfish tool  \nNever ever be such a fool  \nEvery feeling you're showing  \nIs a boomerang you're throwing  \n  \nYes a bang, a boom-a-boomerang  \nDumb-be-dumb-dumb be-dumb-be-dumb-dumb  \nOh bang, a boom-a-boomerang  \nLove is a tune you hum-de-hum-hum  \nBy giving away, I think you'll learn  \nYou'll get love in return  \nSo bang, a boom-a-boomerang is love  \n  \nAnd if you're warm and tender  \nI'll kiss you, return to sender  \nPlease surrender  \n  \nBang, a boom-a-boomerang  \nDumb-be-dumb-dumb be-dumb-be-dumb-dumb  \nOh bang, a boom-a-boomerang is love  \nA boom-a-boomerang is love\n\n"
        ],
        [
         "5",
         "ABBA",
         "Burning My Bridges",
         "Well, you hoot and you holler and you make me mad  \nAnd I've always been under your heel  \nHoly christ what a lousy deal  \nNow I'm sick and tired of your tedious ways  \nAnd I ain't gonna take it no more  \nOh no no - walkin' out that door  \n  \nBurning my bridges, cutting my tie  \nOnce again I wanna look into the eye  \nBeing myself  \nCounting my pride  \nNo un-right neighbour's gonna take me for a ride  \nBurning my bridges  \nMoving at last  \nGirl I'm leaving and I'm burying the past  \nGonna have peace now  \nYou can be free  \nNo one here will make a sucker out of me\n\n"
        ],
        [
         "6",
         "ABBA",
         "Cassandra",
         "Down in the street they're all singing and shouting  \nStaying alive though the city is dead  \nHiding their shame behind hollow laughter  \nWhile you are crying alone on your bed  \n  \nPity Cassandra that no one believed you  \nBut then again you were lost from the start  \nNow we must suffer and sell our secrets  \nBargain, playing smart, aching in our hearts  \n  \nSorry Cassandra I misunderstood  \nNow the last day is dawning  \nSome of us wanted but none of us would  \nListen to words of warning  \nBut on the darkest of nights  \nNobody knew how to fight  \nAnd we were caught in our sleep  \nSorry Cassandra I didn't believe  \nYou really had the power  \nI only saw it as dreams you would weave  \nUntil the final hour  \n  \nSo in the morning your ship will be sailing  \nNow that your father and sister are gone  \nThere is no reason for you to linger  \nYou're grieving deeply but still moving on  \n  \nYou know the future is casting a shadow  \nNo one else sees it but you know your fate  \nPacking your bags, being slow and thorough  \nKnowing, though you're late, that ship is sure to wait  \n  \nSorry Cassandra I misunderstood  \nNow the last day is dawning  \nSome of us wanted but none of us would  \nListen to words of warning  \nBut on the darkest of nights  \nNobody knew how to fight  \nAnd we were caught in our sleep  \nSorry Cassandra I didn't believe  \nYou really had the power  \nI only saw it as dreams you would weave  \nUntil the final hour  \n  \nI watched the ship leaving harbor at sunrise  \nSails almost slack in the cool morning rain  \nShe stood on deck, just a tiny figure  \nRigid and restrained, blue eyes filled with pain  \n  \nSorry Cassandra I misunderstood  \nNow the last day is dawning  \nSome of us wanted but none of us would  \nListen to words of warning  \nBut on the darkest of nights  \nNobody knew how to fight  \nAnd we were caught in our sleep  \nSorry Cassandra I didn't believe  \nYou really had the power  \nI only saw it as dreams you would weave  \nUntil the final hour  \n  \nI'm sorry Cassandra  \nI'm sorry Cassandra\n\n"
        ],
        [
         "7",
         "ABBA",
         "Chiquitita",
         "Chiquitita, tell me what's wrong  \nYou're enchained by your own sorrow  \nIn your eyes there is no hope for tomorrow  \nHow I hate to see you like this  \nThere is no way you can deny it  \nI can see that you're oh so sad, so quiet  \n  \nChiquitita, tell me the truth  \nI'm a shoulder you can cry on  \nYour best friend, I'm the one you must rely on  \nYou were always sure of yourself  \nNow I see you've broken a feather  \nI hope we can patch it up together  \n  \nChiquitita, you and I know  \nHow the heartaches come and they go and the scars they're leaving  \nYou'll be dancing once again and the pain will end  \nYou will have no time for grieving  \nChiquitita, you and I cry  \nBut the sun is still in the sky and shining above you  \nLet me hear you sing once more like you did before  \nSing a new song, Chiquitita  \nTry once more like you did before  \nSing a new song, Chiquitita  \n  \nSo the walls came tumbling down  \nAnd your love's a blown out candle  \nAll is gone and it seems too hard to handle  \nChiquitita, tell me the truth  \nThere is no way you can deny it  \nI see that you're oh so sad, so quiet  \n  \nChiquitita, you and I know  \nHow the heartaches come and they go and the scars they're leaving  \nYou'll be dancing once again and the pain will end  \nYou will have no time for grieving  \nChiquitita, you and I cry  \nBut the sun is still in the sky and shining above you  \nLet me hear you sing once more like you did before  \nSing a new song, Chiquitita  \nTry once more like you did before  \nSing a new song, Chiquitita  \nTry once more like you did before  \nSing a new song, Chiquitita\n\n"
        ],
        [
         "8",
         "ABBA",
         "Crazy World",
         "I was out with the morning sun  \nCouldn't sleep, so I thought I'd take a walk  \nI was thinking of you and me  \nAnd I went to your house, 'cause I had to talk  \n  \nI could hardly believe my eyes  \nWhen I saw this guy closing your front door  \nHad the feeling of emptiness like I never had before  \nAnd I closed my eyes, will you leave me girl  \n  \nThen I realized, it's a crazy world  \nAs he disapeared in his car  \nI was stunned and I didn't know what to do  \nEverything I had ever dreamed  \n  \nEverything in my life's part of you  \nAnd I just couldn't move my feet  \nSo I stood on the pavement as you came out  \nYou acted as you didn't know what it was all about  \n  \nAnd I closed my eyes, will you leave me girl  \nThen I realized, it's a crazy world  \nBaby, how could you do it  \nYou just told me lies  \n  \nAnd you meet behind my back  \nWith other guys  \nBaby, how could you tell me  \nThere was only me  \n  \nI was stupid to believe you  \nI was blind but now I see  \nThen you smiled and you took my hand  \n\"There is something\", you said, \"that you may not know  \n  \nThere's a couple of men in my life  \nAnd one of them is my brother Joe  \nHe's been gone for a long, long time  \nBut he's back and I think he's gonna stay  \n  \nYou'll be seeing a lot of him, he's so nice in every way\"  \nThen I closed my eyes, never leave me girl  \nThen I realized, it's a crazy world  \nSo I closed my eyes, never leave me girl  \n  \nThen I realized, it's a crazy world  \nSo I closed my eyes, never leave me girl  \nThen I realized, it's a crazy world\n\n"
        ],
        [
         "9",
         "ABBA",
         "Crying Over You",
         "I'm waitin' for you baby  \nI'm sitting all alone  \nI feel so cold without you  \nIt chills me to the bone  \nI never thought you'd leave me  \nBut now I know it's true  \nOh Lord I'm blue  \nI'm cryin' over you  \nI'm waitin' for you baby  \nI'm sittin' all alone  \nI feel so cold without you  \nIt chills me to the bone  \nI never thought you'd leave me  \nBut now I know it's true  \nOh Lord I'm blue  \nI'm cryin' over you  \n  \nCryin' over you  \nI'm cryin' over you  \nCryin' over  \nLittle memories of things we used to do  \nOh Lord I'm blue  \nI'm cryin' over you  \nOh Lord I'm blue  \nI'm cryin' over you  \nOh Lord I'm blue  \nI'm cryin' over you\n\n"
        ]
       ],
       "shape": {
        "columns": 3,
        "rows": 10
       }
      },
      "text/html": [
       "<div>\n",
       "<style scoped>\n",
       "    .dataframe tbody tr th:only-of-type {\n",
       "        vertical-align: middle;\n",
       "    }\n",
       "\n",
       "    .dataframe tbody tr th {\n",
       "        vertical-align: top;\n",
       "    }\n",
       "\n",
       "    .dataframe thead th {\n",
       "        text-align: right;\n",
       "    }\n",
       "</style>\n",
       "<table border=\"1\" class=\"dataframe\">\n",
       "  <thead>\n",
       "    <tr style=\"text-align: right;\">\n",
       "      <th></th>\n",
       "      <th>artist</th>\n",
       "      <th>song</th>\n",
       "      <th>text</th>\n",
       "    </tr>\n",
       "  </thead>\n",
       "  <tbody>\n",
       "    <tr>\n",
       "      <th>0</th>\n",
       "      <td>ABBA</td>\n",
       "      <td>Ahe's My Kind Of Girl</td>\n",
       "      <td>Look at her face, it's a wonderful face  \\nAnd...</td>\n",
       "    </tr>\n",
       "    <tr>\n",
       "      <th>1</th>\n",
       "      <td>ABBA</td>\n",
       "      <td>Andante, Andante</td>\n",
       "      <td>Take it easy with me, please  \\nTouch me gentl...</td>\n",
       "    </tr>\n",
       "    <tr>\n",
       "      <th>2</th>\n",
       "      <td>ABBA</td>\n",
       "      <td>As Good As New</td>\n",
       "      <td>I'll never know why I had to go  \\nWhy I had t...</td>\n",
       "    </tr>\n",
       "    <tr>\n",
       "      <th>3</th>\n",
       "      <td>ABBA</td>\n",
       "      <td>Bang</td>\n",
       "      <td>Making somebody happy is a question of give an...</td>\n",
       "    </tr>\n",
       "    <tr>\n",
       "      <th>4</th>\n",
       "      <td>ABBA</td>\n",
       "      <td>Bang-A-Boomerang</td>\n",
       "      <td>Making somebody happy is a question of give an...</td>\n",
       "    </tr>\n",
       "    <tr>\n",
       "      <th>5</th>\n",
       "      <td>ABBA</td>\n",
       "      <td>Burning My Bridges</td>\n",
       "      <td>Well, you hoot and you holler and you make me ...</td>\n",
       "    </tr>\n",
       "    <tr>\n",
       "      <th>6</th>\n",
       "      <td>ABBA</td>\n",
       "      <td>Cassandra</td>\n",
       "      <td>Down in the street they're all singing and sho...</td>\n",
       "    </tr>\n",
       "    <tr>\n",
       "      <th>7</th>\n",
       "      <td>ABBA</td>\n",
       "      <td>Chiquitita</td>\n",
       "      <td>Chiquitita, tell me what's wrong  \\nYou're enc...</td>\n",
       "    </tr>\n",
       "    <tr>\n",
       "      <th>8</th>\n",
       "      <td>ABBA</td>\n",
       "      <td>Crazy World</td>\n",
       "      <td>I was out with the morning sun  \\nCouldn't sle...</td>\n",
       "    </tr>\n",
       "    <tr>\n",
       "      <th>9</th>\n",
       "      <td>ABBA</td>\n",
       "      <td>Crying Over You</td>\n",
       "      <td>I'm waitin' for you baby  \\nI'm sitting all al...</td>\n",
       "    </tr>\n",
       "  </tbody>\n",
       "</table>\n",
       "</div>"
      ],
      "text/plain": [
       "  artist                   song  \\\n",
       "0   ABBA  Ahe's My Kind Of Girl   \n",
       "1   ABBA       Andante, Andante   \n",
       "2   ABBA         As Good As New   \n",
       "3   ABBA                   Bang   \n",
       "4   ABBA       Bang-A-Boomerang   \n",
       "5   ABBA     Burning My Bridges   \n",
       "6   ABBA              Cassandra   \n",
       "7   ABBA             Chiquitita   \n",
       "8   ABBA            Crazy World   \n",
       "9   ABBA        Crying Over You   \n",
       "\n",
       "                                                text  \n",
       "0  Look at her face, it's a wonderful face  \\nAnd...  \n",
       "1  Take it easy with me, please  \\nTouch me gentl...  \n",
       "2  I'll never know why I had to go  \\nWhy I had t...  \n",
       "3  Making somebody happy is a question of give an...  \n",
       "4  Making somebody happy is a question of give an...  \n",
       "5  Well, you hoot and you holler and you make me ...  \n",
       "6  Down in the street they're all singing and sho...  \n",
       "7  Chiquitita, tell me what's wrong  \\nYou're enc...  \n",
       "8  I was out with the morning sun  \\nCouldn't sle...  \n",
       "9  I'm waitin' for you baby  \\nI'm sitting all al...  "
      ]
     },
     "execution_count": 65,
     "metadata": {},
     "output_type": "execute_result"
    }
   ],
   "source": [
    "data = pd.read_csv(\"C:/Users/admin/OneDrive/Рабочий стол/Song Dataset.csv\")\n",
    "data = data.drop('link', axis=1)\n",
    "\n",
    "data.head(10)"
   ]
  },
  {
   "cell_type": "code",
   "execution_count": 66,
   "id": "d4529580-6047-4d8e-96fd-5e9fc03afbc9",
   "metadata": {},
   "outputs": [
    {
     "data": {
      "application/vnd.microsoft.datawrangler.viewer.v0+json": {
       "columns": [
        {
         "name": "index",
         "rawType": "int64",
         "type": "integer"
        },
        {
         "name": "artist",
         "rawType": "object",
         "type": "string"
        },
        {
         "name": "song",
         "rawType": "object",
         "type": "string"
        },
        {
         "name": "text",
         "rawType": "object",
         "type": "string"
        }
       ],
       "conversionMethod": "pd.DataFrame",
       "ref": "eb7b9920-4490-4775-96ba-e2ec9558c235",
       "rows": [
        [
         "56679",
         "Wishbone Ash",
         "Right Or Wrong",
         "Like to have you 'round  \nWith all the lies that you make  \nThe things or darkness and you  \nSome people say, have just a taste  \nRight or wrong, you might get burned  \nWhat you gain is what you learn  \n  \nGot one too many women  \nDon't know quite which way to go  \nThey're all gettin' so expensive  \nWhen they walk by themselves  \nRight or wrong, don't regret  \nWhat you went for is what you get  \n  \nNo point in bitter tears  \nWhen someone else has cut you down  \n'Cause there's a time for leavin'  \nAnd there's a time for stickin' around, hey  \nRight or wrong, you've got to live  \nSo what you collect is what you give\n\n"
        ],
        [
         "224",
         "Aerosmith",
         "This Little Light Of Mine",
         "This Little Light of Mine (Light of Mine),  \nI'm Let it shine (Aleilujah),  \nThis Little Light of Mine, I'm gonna let it shine,  \n  \nDown in my heart (In my heart),  \nI'm gonna let it shine (Aleilujah)  \nDown in my heart (In My heart)  \nI'm gonna let it, let it shine.  \n  \nAll over the world (All over the world),  \nI'm gonna let it shine (Let it shine, let it shine let it shine)  \nLet it shine, let it shine, let it shine, let it shine\n\n"
        ],
        [
         "32457",
         "Fall Out Boy",
         "Dance, Dance",
         "She says she's no good with words but I'm worse  \nBarely stuttered out  \nA joke of a romantic stuck to my tongue  \nAnd weighed down with words too overdramatic  \nTonight it's \"it can't get much worse\"  \nVs. \"no one should ever feel like..\"  \n  \nI'm two quarters and a heart down  \nAnd I don't want to forget how your voice sounds  \nThese words are all I have so I write them  \nI need them just to get by  \n  \nDance, dance  \nWe're falling apart to half time  \nDance, dance  \nAnd these are the lives you love to lead  \nDance this is the way they'd look  \nIf they knew how misery loved me  \n  \n  \nYou always fold just before you're found out  \nDrink up its last call  \nLast resort  \nBut only the first mistake and I  \n  \nI'm two quarters and a heart down  \nAnd I don't want to forget how your voice sounds  \nThese words are all I have so I write them  \nI need them just to get by  \n  \nWhy don't you show me a little bit of spine  \nYou've been saving for his mattress (love)  \n  \nDance, dance  \nWe're falling apart to half time  \nDance, dance  \nAnd these are the lives you love to lead  \nDance this is the way they'd look  \nIf they knew how misery loved me  \n  \nWhy don't you show me a little bit of spine  \nYou've been saving for his mattress (with love)  \nI only want sympathy in the form of you crawling into bed with me  \n  \nDance, dance, we're falling apart to half time  \nDance, dance, and these are the lives you love to lead  \nDance this is the way they'd look  \nIf they knew how misery loved me\n\n"
        ],
        [
         "9167",
         "Janis Joplin",
         "Easy Rider",
         "Hey mama, mama, come a look at sister,  \nShe's a-standing on the levee trying to do that twist,  \nBut easy rider don't you deny my name,  \nOh no, oh no.  \nWell, I got a girl with a diamond ring,  \nI'll tell you, boys, she knows how to shake that thing.  \nOh! Easy rider don't you deny my name,  \nOh no, oh no.  \nPlay it!  \nWell, I got a horse and he lives in a tree,  \nHe watches Huckleberry Hound on his tv.  \nBut easy rider don't you deny my name,  \nOh no, oh no.  \nI would buy you a plastic suit  \nAnd I would even buy you some cardboard fruit.  \nOh! But easy rider don't you deny my name,  \nOh no, oh no.  \nYeah, easy rider, don't you deny my name, pretty baby doll  \nI said, easy rider, don't you deny my name, pretty baby doll  \nI said, easy rider, don't you deny my name, pretty baby doll  \nI said, easy rider, don't you deny my name, pretty baby...\n\n"
        ],
        [
         "13270",
         "Moody Blues",
         "Peak Hour",
         "I see it all through my window it seems.  \nNever failing, like millions of eels.  \nAll that is wrong,  \nNo time to be won.  \nOnly to do  \nWhat can be done.  \nPeak hour,  \nPeak hour,  \nPeak hour.  \nMinds are subject to what should be done.  \nProblem solved, time cannot be won.  \nOne hour a day,  \nOne hour a night  \nSees crowds of people  \nHome-aimed for flight.  \nPeak hour,  \nPeak hour,  \nPeak hour.  \nIt makes me want to run out and tell them  \nThey've got time.  \nTake a step back out and warn them  \nI've found out I've got time.  \nMinds are subject to what should be done.  \nProblem solved, time cannot be won.  \nOne hour a day,  \nOne hour a night  \nSees crowds of people  \nHome-aimed for flight.  \nPeak hour,  \nPeak hour,  \nPeak hour.\n\n"
        ],
        [
         "33265",
         "Gary Numan",
         "Crazier",
         "The more I take a look inside, the more I'm fried  \nThe more I understand the ride, the more I slide  \nThe more you put me back in line, the more I tried  \nThe more you looked into my eyes, the more you lied  \nI come back crazier, but feel much better  \nYou come back crazier, you'll feel better  \nThe more I disregard the signs, the more I fly  \nThe more I walk across the lines, the more I glide  \nYou come back crazier, but feel much better  \nYou come back crazier, you'll feel better  \nYou come back crazier, but feel much better  \nYou come back crazier, you'll feel better  \n  \n\n"
        ],
        [
         "47395",
         "Pat Benatar",
         "Temptation",
         "We got it all but it ain't enough  \nNo, we're never ever happy with what we got  \nI see that look on your face, you know I've seen that look before  \nDon't you be fooled baby, you gonna show  \nIt's just Temptation, Whoa... Temptation  \nTemptation Whoa... Must be Temptation  \n  \nToo far to fall but we always do  \nThough we swore in our hearts to be true  \nYou say that hand that your holdin' feels a little cold sometime  \nBaby sooner or later, you're gonna find that true love..  \n  \nIs just like Temptation, Whoa... Temptation  \nTemptation Whoa... Feels like Temptation  \nNow listen here... Whoa... Temptation  \nWhoa... Temptation Whoa....  \n  \nWe want it all and we want it fast  \nNo time to think, no time to ask  \nBut you know that road that we're on don't always lead to happiness  \nYou can count on it baby  \nIt's a pretty good guess now all we got  \n  \nIs just Temptation, Whoa... Temptation  \nTemptation Whoa... Feels like Temptation  \nTemptation Whoa... Looks like Temptation  \nTemptation -- Must be Temptation Yeah\n\n"
        ],
        [
         "44707",
         "'n Sync",
         "Kiss Me At Midnight",
         "Kiss me at midnight  \n5...4...3...2...1  \nKiss me at midnight  \nDance into the morning light  \nParty into the new year  \nAll of my friends are here and when the time is right  \nKiss me at midnight (kiss)  \n  \nI've been waiting for this special night  \nTo be with you  \nThe colors of Christmas are still shining bright  \nAnd I know what we're gonna do  \n  \nAnticipating  \nMusic is playing  \nThe magic is in the air  \nAll through the season  \nYou've been the reason  \nI have so much love to share  \n  \nKiss me at midnight  \nDance into the morning light  \nParty into the new year  \nAll of my friends are here and when the time is right  \nKiss me at midnight (kiss)  \n  \nWe've been making promises in the dark  \nOur resolutions  \nAs a brand new year is about to start  \nAnd we're together  \nCelebrating  \nNo more waiting  \nOur time has arrived  \nFeel the beat of my heart  \nAs the countdown starts  \nJust look into my eyes  \n  \nKiss me at midnight  \nDance into the morning light  \nParty into the new year  \nAll of my friends are here and when the time is right  \nKiss me at midnight (kiss)  \n  \nBaby it's New Years Eve  \nA time we can believe  \nIn making wishes  \nDreams come true  \nJust for me and you  \n  \nKiss me at midnight  \nDance into the morning light  \nParty into the new year  \nAll of my friends are here and when the time is right  \nKiss me at midnight (kiss)  \nKiss me at midnight  \nDance into the morning light  \nParty into the new year  \nAll of my friends are here and when the time is right  \nKiss me at midnight (kiss)\n\n"
        ],
        [
         "51614",
         "Sia",
         "Little Black Sandals",
         "I'm being dragged down, down by the hand  \nThe hand of a golden giant man  \nHe's crushing my knuckles  \nSplitting my skin, he says he will  \nIf only I'd ask it of him  \n  \nHe says  \nGirl, it's your call  \nYou wanna fly  \nYou wanna fall  \nSo I shout  \nI wanna get away from you  \nAs fast as I can  \nI tell my feet to move it  \nI hope they have a plan  \n  \n[Chorus]  \nThese little black sandals  \nAre walking me away  \nThese little black sandals  \nAre heading the right way  \nThese little black sandals  \nAre walking me away  \nThese little black sandals  \nSaved my life today  \n  \nSo now I'm free  \nFree  \nFrom the big bad giant  \n  \nWho was stalking me  \nThank you feet, for guiding me  \nI'm glad somehow I got brains down there, at least  \n  \n[Chorus]  \n  \nSometimes I'm tempted  \nSometimes I am  \nI would be lying if I said I didn't miss that giant man  \nHe was the line between pleasure and pain  \nBut me and the feet have some years to reclaim  \n  \n[Chorus]\n\n"
        ],
        [
         "35076",
         "Hank Snow",
         "I Keep Dreaming Of You All The Time",
         "In my dreams an old friend came to see you  \nRight from the start he was the stealing kind  \nYou'll never know how much it hurt me darling  \nThe night you left his loving on your mind  \nI keep dreaming of you all the time  \nThen and only then you're really mine  \nThere's sadness when you go away and I face another day  \nYet I keep dreaming of you all the time  \n[ fiddle ]  \nLast night again I dreamed we were together  \nI held you close the way I used to do  \nI kissed your lips and said I found my heaven  \nYou whispered low how much you love me too  \nI keep dreaming of you...  \n  \n  \n\n"
        ],
        [
         "42741",
         "Marianne Faithfull",
         "Blood In My Eyes",
         "Woke up this morning, feeling blue  \nSeen a good looking girl, can I make love with you  \nHey, hey, babe, I got blood in my eyes for you  \nHey, hey, babe, I got blood in my eyes for you  \nI got blood in my eyes for you, baby  \nI don't care what in the world you do.  \n  \nI went back home, put on my tie  \nGonna get that girl that money will buy  \nHey, hey, babe, I got blood in my eyes for you  \nHey, hey, babe, I got blood in my eyes for you  \nI got blood in my eyes for you, baby  \nI don't care what in the world you do.  \n  \nShe looked at me, begin to smile  \nSaid, \"Hey, hey, man, can't you wait a little while?\"  \nNo, no babe, I got blood in my eyes for you  \nNo, no babe, I got blood in my eyes for you  \nGot blood in my eyes for you, baby  \nI don't care what in the world you do.  \n  \nNo, no, ma'am, I can't wait  \nYou got my money, now you're trying to break this date  \nHey, hey, babe, I got blood in my eyes for you  \nHey, hey, babe, I got blood in my eyes for you  \nGot blood in my eyes for you, baby  \nI don't care what in the world you do.  \n  \nI'll tell you something, tell you the facts  \nYou don't want to give my money back  \nHey, hey, babe, I got blood in my eyes for you  \nHey, hey, babe, I got blood in my eyes for you  \nI got blood in my eyes for you, baby  \nI don't care what in the world you do\n\n"
        ],
        [
         "49532",
         "Queensryche",
         "I Am I",
         "Beating with life you promised life,  \nSecurity, happiness.  \nUnfortunate son cornered,  \nCowering in the pit of  \nCircling panes of glass that  \nSurround and reveal the ever present \"It\".  \n  \n\"It\" is my move, my every look,  \nInterpreting gestures,  \nInforming other  \nWhat's undercover and  \nLurking beneath my mask  \nOf this year's featured model.  \nIs this too much?  \nClose your eyes.  \nCare to look inside? I am I!  \n  \nWhat may appear  \nMight easily be explained,  \nBut given the situation  \nOf info saturation,  \nWhat you feel can never go away.  \n  \nSteering perception? I am!  \nInviting contradiction? I am!  \nIt's my insistence  \nYou keep your distance  \nFrom the glare behind my stare.  \nSo this is the way  \nThe game is played.  \nYou can leave now...  \nBut I think you'll stay. I am I!\n\n"
        ],
        [
         "42071",
         "Lou Reed",
         "Hold On",
         "There's blacks with knives and whites with guns  \nfighting in Howard Beach  \nThere's no such thing as human rights  \nwhen you walk the N.Y. streets  \nA cop was shot in the head by a 10 year old kid named Buddah in  \nCentral Park last week  \nThe fathers are lined up by  \nthe coffins by the Statue of Bigotry  \nYou better hold on something's happening here  \nYou better hold on---meet you in Tompkins Square  \nThe dopers sent a message to the cops last weekend  \nThey shot him in the car where he sat  \nAnd Eleanor Bumpres and Michael Stewart must have appreciated that  \nThere's a rampaging rage rising up like a plague of bloody vials  \nwashing up on the beach  \nIt'll take more than the Angels or Iron Mike Tyson  \nto heal this bloody breach  \nA junkie ran down a lady a pregnant dancer  \nshe'll never dance but the baby was saved  \nHe shot up some China White and nodded out at the wheel  \nand he doesn't even remember a thing  \nThey shot that old lady  \n'cause they thought she was a witness  \nto a crime she didn't even see  \nWhose home is the home of the brave by the Statue of Bigotry  \nYou got a black .38 and a gravity knife  \nYou still have to ride the train  \nThere's the smelly essence of N.Y. down there  \nbut you ain't no Bernard Goetz  \nThere's no Mafia lawyer  \nto fight in your corner  \nfor that 15 minutes of fame  \nThe have and the have nots are bleeding in the tub  \nThat's New York's future not mine  \nOh you better hold on---something's happening here.  \n\n"
        ],
        [
         "21940",
         "Yello",
         "Pinball Cha Cha",
         "Welcome  \nIn Lucy's Bar  \nHey you gentlemen over there  \nCome on closer  \nSee me play  \nThe sensational game  \nIt's the only thing I've got in my life  \nAnd I play it every day  \nAnd, well, believe it or not,  \nIt's just, pinball  \nAnd for me it's  \nClaro Que Si  \nClaro Que Si  \n  \nCome, come close to me  \nI tell you man you will see  \nI'm like happy tree  \nCome close and then you will see  \n  \nEvery ball for me's another game  \nFor you this always looks the same  \nEvery ball for me's another game  \nFor you this always looks the same  \n  \nHey you, man you watch me  \nMight be right I am a fool  \nBut man why don't you tell me  \nIf you know a better tool  \n  \nAll the gates are lit  \nThis is very good for me  \nIt's like a kiss  \nWatch out man and you will see  \nNow all lights are on  \nBelieve me man that I have won  \nI know for you this doesn't look a lot  \nFor me this is the only thing I got  \n  \nI really couldn't care less  \nIf you take me a for a fool  \nI know you couldn't show me  \nAny better tool  \n  \nOy oy oy  \nI like my toy  \nClaro que si  \nIs yes for sure  \nOy oy oy  \nI like my toy  \nA knack inside  \nI win another game  \nI press the button and it's not the same\n\n"
        ],
        [
         "35738",
         "Helloween",
         "Kill It",
         "I'm your maker  \nMold your mind  \nIdea-creator  \nBias from behind  \n  \nPeople never wonder  \nHow the world goes round  \nThey who care go under  \nThat's what I'm about  \n  \nI kill it, kill it, kill it  \nKill it, kill it  \nCare must die  \nKill it, kill it, kill it  \nWhat we can't tie  \nWhat we can't buy  \nMust die  \n  \nI'm soul hunter  \nOf the might  \nUpright hatemonger  \nAngel of the blind  \n  \nPeople never wonder  \nHow the world goes round  \nThey who care go under  \nThat's what I'm about  \n  \nI kill it, kill it, kill it  \nKill it, kill it  \nCare must die  \nKill it, kill it, kill it  \n  \nPeople never wonder  \nHow the world goes round  \nThey who know must follow  \nThey who don't die bound  \n  \nI pay billions  \nAll got a price  \nPlain corruption  \nNo roll of the dice  \n  \nPeople never wonder  \nHow the world goes round  \nThey who care go under  \nThat's what I'm about  \n  \nI kill it, kill it, kill it  \nKill it, kill it  \nCare must die  \nKill it, kill it, kill it  \nWhat we can't tie  \nWhat we can't buy  \nMust die\n\n"
        ],
        [
         "40933",
         "Kyla",
         "I Feel For You",
         "Something inside,  \nMy heart,  \nAnd it feels like magic,  \nIt's changing my life.  \nSince you came to me,  \nEverything is so bright I see  \nYou touched my heart,  \nAnd gave me love so real.  \nThis time around I wanna let it show  \nThere's something special,  \nIn my heart you ought to know  \nI feel for you,  \nI mean I truly love you  \nIn my heart and in my soul  \nYou are my love  \nYou are my all  \nI feel for you  \nI mean always love you  \nBecause to me  \nYou are a dream  \nCome true  \nLove grows  \nEveryday  \nAnd it's hard to deny it  \nYou inspire me all the way  \nThe joy you bring  \nMakes my heart keep on singing  \nAnd all I wanna do  \nIs to remain close to you  \nThis time around I wanna let it show  \nThere's something special  \nIn my heart you ought to know  \nI feel for you  \nI mean I truly love you  \nIn my heart and in my soul  \nYou are my love you are my all  \nI feel for you  \nI mean I'll always love you  \nBecause to me you are a dream  \nCome true  \nYou are my angel in disguise  \nYou are the reason I survive  \nWith you each moment is worthwhile  \nYou make me smile  \nAnd if without you  \nSurely I cry  \nI feel for you  \nI mean I truly love you  \nIn my heart and in my soul  \nYou are my love you are my all  \nI feel for you  \nI mean I'll always love you  \nBecause to me you are a dream(3x)  \nThat's what I feel for you...  \n\n"
        ],
        [
         "14526",
         "O.A.R.",
         "Dareh Meyod",
         "Tuesday's coming my baby  \nI told you Wednesday morning  \nIt's not too late for us  \nMy bags aren't out the door baby  \ndon't you know life's a feeling  \nBut without you it's nothing  \nIt's not too late for us  \nMy bags aren't out the door baby  \nTuesday's coming and  \nI'm not gonna leave you here darling  \n  \nIt's a shame you can't hear me  \nScream my lungs out believe me  \nThe miles burn me up  \nI'm living just to watch your fire darling  \nI'm headed out for the road now  \nThe engines hold me while sleeping  \nA road might take me away  \nBut its sure enough to bring me home baby  \nTuesday's coming  \nAnd I'm not gonna leave you here darling  \n  \nTuesday's coming.\n\n"
        ],
        [
         "23213",
         "Alabama",
         "Right Where I Am",
         "Subways runnin' under the city  \nCondos reachin' to the sky  \nEach of this own, but I feel at home  \nStanding on this mountain high  \n  \nAnd right where I am  \nIs where I want to be  \nIt's all I want  \nIt's all I need  \nForever in your arms  \nIt's alright with me  \n'Cause right where I am's where I want to be  \n  \nTalk on the cell phone, checkin' her e-mail  \nThe fax is a way of life  \nShe's shoppin' at home with QVC on  \nAnd surfin' on-line  \n  \nAnd right where I am  \nIs where I want to be  \nIt's all I want  \nIt's all I need  \nForever in your arms  \nIt's alright with me  \n'Cause right where I am's where I want to be  \n  \nSatellite feed out in the country  \nOh what a way of life  \nTurn off the tv  \nShut down the pc  \nAnd click off the world tonight  \n  \nAnd right where I am  \nIs where I want to be  \nIt's all I want  \nIt's all I need  \nForever in your arms  \nIt's alright with me  \n'Cause right where I am's where I want to be  \n  \nYeah  \nRight where I am  \nWhere I want to be  \n  \nSubways runnin' under the city  \nSatellite feed out in the country  \nEach to his own I feel at home  \nStandin' on this mountain high  \nRight where I am  \nRight where I am, where I want to be  \nWhere I want to be\n\n"
        ],
        [
         "56354",
         "Who",
         "It's Hard",
         "Any tough can fight, few can play  \nAny tough can fight, few can play  \nAny fool can fall, few can lay  \nAny fool can fall, few can lay  \nAny stud can reproduce, few can please  \nAny stud can reproduce, few can please  \nAnyone can pay, few can lease  \nAnyone can pay, few can lease  \n  \nIt's hard  \nIt's hard  \n(It's a hard, hard hand to hold  \n(it's a hard, hard hand to hold  \nIt's a hard land to control)  \nIt's a hard land to control)  \n  \nAny man can claim, few can find  \nAny man can claim, few can find  \nAny girl can blink, few can lie  \nAny girl can blink, few can lie  \nAnyone can promise, few can raise  \nAnyone can promise, few can raise  \nAnyone can try, but a few can stay  \nAnyone can try, but a few can stay  \n  \nAny brain can hide, few can stand  \nAny brain can hide, few can stand  \nAny kid can fly, few can land  \nAny kid can fly, few can land  \nAny gang can scatter, few can form  \nAny gang can scatter, few can form  \nAny kid can chatter, few can inform  \nAny kid can chatter, few can inform  \n  \nIt's hard  \nIt's very, very, very, very hard, so very hard  \nIt's hard  \nIt's very, very, very, very hard, so very hard  \n  \nIt's hard  \nIt's hard  \n(It's a hard, hard hand to hold  \n(It's a hard, hard hand to hold  \nIt's a hard land to control)  \nIt's a hard land to control)  \n  \nAny soul can sleep, few can die  \nAny soul can sleep, few can die  \nAny wimp can weep, few can cry  \nAny wimp can weep, few can cry  \nEveryone complains, few can state  \nEveryone complains, few can state  \nAnyone can stop, few can wait  \nAnyone can stop, few can wait  \n  \nIt's hard  \nIt's very, very, very, very hard, so very hard  \nIt's hard  \nIt's very, very, very, very hard, so very hard  \n  \nAnyone can do anything if they hold the right card  \nAnyone can do anything if they hold the right card  \nSo, I'm thinking about my life now  \nSo, I'm thinking about my life now  \nI'm thinking very hard  \nI'm thinking very hard  \nDeal me another hand, Lord, this one's very hard  \nDeal me another hand, Lord, this one's very hard  \nDeal me another hand, Lord, this one's very hard  \nDeal me another hand, Lord, this one's very hard\n\n"
        ],
        [
         "10045",
         "Justin Timberlake",
         "Hallelujah",
         "Well I heard there was a secret chord  \nThat David played, and it pleased the lord  \nBut you don't really care for music, do ya?  \n  \nWell it goes like this, the fourth, the fifth  \nThe minor fall and the major lift  \nThe baffled king composing hallelujah  \n  \nHallelujah, hallelujah, hallelujah, hallelujah  \n  \nYour faith was strong but you needed proof  \nYou saw her bathing on the roof  \nHer beauty and the moonlight overthrew you  \nShe tied you to a kitchen chair  \nShe broke your throne, she cut your hair  \nAnd from your lips she drew the hallelujah  \n  \nHallelujah, hallelujah, hallelujah, hallelujah  \n  \nMaybe there's a god above  \nAll I ever learned from love  \nWas how to shoot somebody who outdrew you  \nAnd it's not a cry you can hear at night  \nNot somebody who's seen the light  \nIt's a cold and it's a broken hallelujah  \n  \nHallelujah, hallelujah, hallelujah, hallelujah  \n  \nHallelujah\n\n"
        ],
        [
         "57386",
         "Yoko Ono",
         "Light On The Other Side",
         "When I come to the dock and sit very still,  \nI wonder why on earth we fight and kill.  \nI see a light on the other side flickering to me,  \nAs if to say, you're alright, you'll find your way.  \n  \nThe world is so beautiful when I'm out here,  \nWhy can't it be the same when we're back there?  \n  \nAbove my head, straight ahead,  \nI see a bird gliding  \nAs if to say, I'm alright, I'll find my way.  \n  \nWindows are shattered,  \nStreets are battered,  \nKids are frightened,  \nMen are still at war.  \n  \nMoms are feeling sad,  \nDads are feeling bad.  \nI wanna know, I wanna know  \nIf the world's gone mad.  \n  \nAbove my head, straight ahead,  \nI see a bird gliding  \nAs if to say, I'm alright, I'll find my way.\n\n"
        ],
        [
         "31581",
         "Engelbert Humperdinck",
         "Say Goodnight",
         "When I say goodnight in your little room  \nAh, that's the time I love you best of all  \nWhen I say goodnight in your little room  \nThe shadow of your smile is on the wall  \nBut I can see the reason, it's just your way of teasin'  \nBut my, oh, my, my, my, I'll take it all  \nWhen I say goodnight in your little room  \nThe only place where we can be alone  \nWhen I say goodnight in your little room  \nTo hold you close this way, you say is wrong  \nBut I can see no reason, why you should keep on teasin'  \nIf you don't stop, our love just can't go on  \nBut I can see no reason, why you should keep on teasin'  \nWhy can't we let the night just linger on  \n\n"
        ],
        [
         "13656",
         "Ne-Yo",
         "Not Strong Enough",
         "First let me say, I know it's late  \nGirl I can tell you were sleeping  \nSo sorry to wake you, but what I'ma say to you tonight  \nGirl it just couldn't wait, no, not one more day  \nNo, not one more hour  \nMmm, we've been a... Some time, you went your way I went mine  \nMy manhood won't let me cry  \nBut you act like I'm alright is something I just can't do  \nSomething I just can't do  \nKeep it... That I'm walking without you  \nSo, something I just can't do  \nWhat if I could, I'm just not strong enough to, whoa  \nNot strong enough to who  \nKeep lying to you, babe,  \nI'm just not strong enough to, girl, girl, girl, girl, girl  \n  \nI can see you looking at me,  \nYou're thinking too little too late  \nCause it was me that said that we shouldn't be  \nBut that was before I could think straight  \nMy pride, it made me lie, lie, lie  \nTo you and to myself about what I need  \nSo now I walk around with this lie, truly dying inside  \nActing like I'm just fine, it's something I just can't do  \nSomething just I can't do, keep pretending  \nThat I'm okay without, just said something I just can't do  \nSomething I just can't do  \nWhat if could I'm just no strong enough to, whoa  \nNot strong enough to who  \nKeep lying to you, babe,  \nI'm just not strong enough to, girl, girl, girl, girl, girl  \n  \nSaid I'm trying to be honest, then making you a promise  \nI'm gonna be true to you  \nCause me trying to deny that without you I would die  \nSomething I just can no longer do  \nSaid I'm trying to be honest, then making you a promise  \nI'm gonna be true to you  \nCause me trying to deny that without you I would die  \nSomething I just can no longer do  \n  \nHey, hey, oho, oho, oho, hey  \nHey, hey, oho, oho, oho, hey\n\n"
        ],
        [
         "11061",
         "Kylie Minogue",
         "If I Was Your Lover",
         "You take a piece of me every time you leave  \nAnd never realize the way I feel about you  \nBut my tongue gets tied and my mouth gets dry  \nI wanna tell you but I don't know how to  \n  \nSo every night I dream (I dream)  \nHope and pray and believe  \nThat someday you'll be mine (I know)  \nWe'll live in ectascy - the world for you and me  \n  \nOne love - one life  \nEverything would be alright if I was your lover  \nOne soul - one mind  \nEverything could be so right if I was your lover  \n  \nAnother day goes by and I'd lose my mind  \nIf I didn't know that you were meant for me  \nUnder moonlit night, when the time is right  \nYou'll hold me in your arms from then on to infinity  \n  \nAnd every night I'll dream (I dream)  \nHope and pray and believe  \nSo happy that you're mine (I know)  \nWe'll live in ectascy - the world for you and me  \n  \nOne love - one life  \nEverything would be alright if I was your lover  \nOne soul - one mind  \nEverything could be so right if I was your lover  \n\n"
        ],
        [
         "476",
         "Alice Cooper",
         "Be With You Awhile",
         "I wish I could tell you something you didn't know  \nI wish I could give you something you didn't owe  \nI wish I could tell you a joke to make you smile  \nAnd I could be with you awhile  \n  \nJust want to be that someone you weren't looking for  \nSome nameless fascination that showed up at your door  \nAnd when you're sad and blue my jokes still make you smile  \nAnd I could be with you awhile  \n  \nI just want to take you somewhere you haven't been  \nFind an old time movie where we don't know the end  \nLost in the radio, drive another mile  \nSo I could be with you awhile  \n  \nJust want to be that someone you weren't looking for  \nSome nameless fascination that showed up at your door  \nAnd when you're sad and blue my jokes still make you smile  \nAnd I could be with you awhile  \n  \nTired of serious conversation  \nTangled up in situations  \nI feel so free 'cause you want nothing from me  \n  \nJust want to be that someone you weren't looking for  \nSome hopeless vagabond asleep there on your floor  \nAnd when you're old and gray my jokes still make you smile  \nAnd I could be with you awhile  \nJust want to be that someone you weren't looking for  \nSome nameless fascination that showed up at your door  \nAnd when you're old and gray my jokes still make you smile  \nAnd I could be with you awhile  \nI just want to be with you awhile  \nI just want to be with you awhile  \nI just want to be with you....\n\n"
        ],
        [
         "12136",
         "Louis Armstrong",
         "Christmas In New Orleans",
         "Magnolia trees at night  \nSparkling bright  \nFields of cotton look wintery white  \nWhen it's Christmas time  \nIn New Orleans  \n  \nA barefoot choir in prayer  \nFills the air  \nMississippi folks  \nAre gathering there  \nWhen it's Christmas time  \nIn New Orleans  \n  \nYou'll see a dixieland Santa Claus  \nLeading the band  \nTo a good old Creole beat  \nAnd golly what a spirit  \nYou can only hear it  \nDown on Basin Street  \nYour cares will disappear  \nWhen you hear  \nHallelujah St. Nicholas is here  \nWhen it's Christmas time  \nIn New Orleans  \n  \nYou'll see  \nA dixieland Santa Claus  \nLeading the band  \nTo a good old Creole beat  \nAnd golly what a spirit  \nYou can only hear it  \nDown on Basin Street  \nYour cares will disappear  \nWhen you hear  \nHallelujah old St. Nicholas is here  \nWhen it's Christmas time  \nIn New Orleans  \n  \nWhen it's Christmas time in  \nIt's Christmas time in in New Orleans\n\n"
        ],
        [
         "14018",
         "Nick Drake",
         "One Of These Things First",
         "I could have been a sailor, could have been a cook  \nA real live lover, could have been a book.  \nI could have been a signpost, could have been a clock  \nAs simple as a kettle, steady as a rock.  \nI could be  \nHere and now  \nI would be, I should be  \nBut how?  \nI could have been  \nOne of these things first  \nI could have been  \nOne of these things first.  \n  \nI could have been your pillar, could have been your door  \nI could have stayed beside you, could have stayed for more.  \nCould have been your statue, could have been your friend,  \nA whole long lifetime could have been the end.  \nI could be yours so true  \nI would be, I should be through and through  \nI could have been  \nOne of these things first  \nI could have been  \nOne of these things first.  \n  \nI could have been a whistle, could have been a flute  \nA real live giver, could have been a boot.  \nI could have been a signpost, could have been a clock  \nAs simple as a kettle, steady as a rock.  \nI could be even here  \nI would be, I should be so near  \nI could have been  \nOne of these things first  \nI could have been  \nOne of these things first.\n\n"
        ],
        [
         "39240",
         "Justin Timberlake",
         "Summer Love",
         "Ridin' in the drop-top with the top down  \nSaw you switchin' lanes, girl  \nPull up to the red light, lookin' right  \nCome on, let me get your name, girl  \n  \nTell me where your from, what you do, what you like  \nLet me get your brain, girl  \nAnd tell me how they that got that pretty little face  \nOn that pretty little frame girl  \n  \nBut let me show you 'round  \nLet me take you out  \nBetcha we can have some fun, girl  \n'Cause we can it do fast, fast, slow  \n  \nWhich ever way you wanna run, girl  \nBut let me buy you drinks, better yet rings  \nDo it how you want it done, girl  \nAnd who would of thought that you could be the one 'cause I  \n  \n[Chorus]  \nI can't wait to fall in love with you  \nYou can't wait to fall in love with me  \nThis just can't be summer love, you'll see  \nThis just can't be summer love-o-v-e  \n  \nCome on, and let me show you 'round  \nLet me take you out  \nBetcha we can have some fun, girl  \n'Cause you could dress it up, we could dress it down  \n  \nAny way you want it done, girl  \nOr we can stay home talkin' on the phone  \nRappin' till we see the sun, girl  \nDo what I gotta do just gotta show you  \n  \nThat I'm the one, girl  \nWell, I'm a freak ya right each and every night  \nI know how to do it insane, girl  \n'Cause I can make ya hot, make ya stop  \n  \nMake ya wanna say my name, girl  \nCome on, baby, please 'cause I'm on my knees  \nCan't get you off my brain, girl  \nBut who would of thought that you could be the one 'cause I  \n  \n[Chorus: x2]  \n  \nSummer's over for the both of us  \n(Summer's over)  \nBut that doesn't mean we should give up on us  \n(Don't give up)  \nYou're the one that I've been thinkin' of  \n(You're the one)  \nAnd I knew the day I met you you'd be the one  \n  \n[Chorus: x2]\n\n"
        ],
        [
         "45819",
         "Nightwish",
         "Whoever Brings The Night",
         "We seduce the dark with pain and rapture  \nLike two ships that pass in the night  \nYou and I, a whore and a bashful sailor  \nWelcome to a sunrise of a dirty mind  \n  \nAll your love is a lie  \nYou one-night butterfly  \nHurt me, be the one  \nWhoever brings the night  \n  \nThe dark, created to hide the innocent white, the lust of night  \nEyes so bright, seductive lies  \nCrimson masquerade where I merely played my part  \nPoison dart of desire  \n  \nAll your love is a lie  \nYou one-night butterfly  \nHurt me, be the one  \nWhoever brings the night  \n  \nChoose a bride tonight  \nA fantasy for a zombie  \nHurt me, I love to suffer  \nYour harems are dreams for free  \n  \nEnter  \nSuck form us and live for ever  \nRotten beauty  \nWill haunt you for a lifetime  \n  \nCome with me on underwater  \nAnd drown to despise me no more  \nUnholy, unworthy  \nMy night is a dream for free  \n  \nAll your love is a lie  \nYou one-night butterfly  \nHurt me, be the one  \nWhoever brings the night  \nAll your love is a lie  \nYou one-night butterfly  \nHurt me, be the one  \n  \nWhoever brings the night  \nWhoever brings the night\n\n"
        ],
        [
         "16703",
         "R. Kelly",
         "Bad Man",
         "You see really I don't  \nGive a damn what you may think of me  \n(That's right you're a bad ass nigga)  \nI'mma do what I'mma do, I'mma say what I'mma say  \n(You think you're a bad ass nigga)  \nYa understand what I'm saying?  \nWell you better  \n  \nI was born in these streets  \nRaised in these streets  \nWalked in these streets  \nTaught by these streets  \nLived in these streets  \nHustled in these streets  \nArrested in these streets  \nProtected by these streets  \n  \nYeah you know I walk  \nThrough the valley of these streets  \nI shall not fear these streets  \nBecause I run these streets  \n  \n(Whoa, whoa, whoa, whoa, whoa)  \nAnd I've paid my own dues  \nWith my own pennies and now  \n  \n(Chorus)  \nI'm a bad man  \nI'm not ashamed of  \nA bad man yeah  \nAnd don't need your love  \nI'm a bad man yeah  \nI'm not ashamed of  \nI'm a bad man  \nMy life's made me tough  \n  \nI've stood on these blocks  \nMore hood on these blocks  \nGot paid on these blocks  \nSprayed on these blocks  \nMoved in on these blocks  \nWent out on these blocks  \nI've been around the block  \nBeen watched on these blocks  \n  \nYeah you know I walk  \nThrough the valley of these blocks  \nI shall not fear these blocks  \nBecause I run these blocks, yeah  \n  \n(Whoa, whoa, whoa, whoa, whoa)  \nPaid my own dues with my own pennies  \nAnd I'm  \n  \n[Chorus]  \n  \nNow I believe the day will come  \nWhen my heart will decide to change  \nBut until then  \nSee everything will remain the same  \n  \n[Chorus]  \n  \nSee sometimes I gotta tell myself  \n(I'm a bad man)  \nTo keep surviving  \nAnd no matter what the cause  \n(I'm a bad man)  \nI gotta keep on keeping on yeah  \nCame up in these streets  \n(I'm a bad man)  \nThere was no father there for me, hey ooh  \n(I'm a bad man)  \nCause sometimes we would just have to go without eating  \nHey how you like me now?  \n(I'm a bad man)  \nGive my life for my brother  \nSee I'm a bad mother, shut your mouth  \n(I'm a bad man)  \nGo on, go on, go on, go on\n\n"
        ],
        [
         "13687",
         "Neil Diamond",
         "Be",
         "Lost  \nOn a painted sky  \nWhere the clouds are hung  \nFor the poet's eye  \nYou may find him  \nIf you may find him  \n  \nThere  \nOn a distant shore  \nBy the wings of dreams  \nThrough an open door  \nYou may know him  \nIf you may  \n  \nBe  \nAs a page that aches for words  \nWhich speaks on a theme that's timeless  \nWhile the Sun God will make for your day  \nSing  \nAs a song in search of a voice that is silent  \nAnd the one God will make for your way  \n  \nAnd we dance  \nTo a whispered voice  \nOverheard by the sould  \nUndertook by the heart  \nAnd you may know it  \nIf you may know it  \n  \nWhile the sand  \nWould become the stone  \nWhich begat the spark  \nTurned to living bone  \nHoly, holy  \nSanctus, sanctus  \n  \nBe  \nAs a page that aches for word  \nWhich speaks on a theme that is timeless  \nWhile the Sun God will make for your day  \nSing  \nAs a song in search of a voice that is silent  \nAnd the one God will make for your day\n\n"
        ],
        [
         "19210",
         "The Temptations",
         "The Way You Do The Things You Do",
         "You've got a smile so bright  \nYou know, you could've been a candle  \nI'm holding you so tight  \nYou know, you could've been a handle  \nThe way you swept me off my feet  \nYou know, you could've been a broom  \nThe way you smell so sweet  \nYou know, you could've been some perfume  \nWell, you could've been anything  \nThat you wanted to and I can tell  \nThe way you do the things you do  \n(The way you do the things you do,  \nThe way you do the things you do)  \nAs pretty as you are  \nYou know, you could've been a flower  \nIf good looks can cause a minute  \nYou know that you could be an hour  \nThe way you stole my heart  \nYou know, you could've been a cool crook  \nAnd baby, you're so smart  \nYou know, you could've been a schoolbook  \nWell, you could've been anything  \nThat you wanted to and I can tell  \nThe way you do the things you do  \n(The way you do the things you do,  \nThe way you do the things you do)  \nYou made my life so rich  \nYou know, you could've been some money  \nAnd baby, you're so sweet  \nYou know, you could've been some honey  \nWell, you could've been anything  \nThat you wanted to and I can tell  \nThe way you do the things you do  \n(The way you do the things you do)  \nYou really swept me off my feet  \n(The way you do the things you do)  \nYou made my life complete  \n(The way you do the things you do)  \nYou made my life so bright  \n(The way you do the things you do)  \nYou make me feel all right...\n\n"
        ],
        [
         "3836",
         "David Guetta",
         "Think About You",
         "I close my eyes, and there you are  \nI open my eyes, and there you are again  \nI try to eat, the food don't taste the same  \nIt ain't my fault, but still I take the blame  \nYou, you, you  \nIn my mind I already know  \nYou, you, you  \nBut my heart don't wanna let it go  \n  \nI don't wanna think about you  \nBut I can't stop if I wanted to  \nI don't wanna think about you  \nBut I can't stop if I wanted to  \nI don't wanna think about you  \nBut I can't stop if I wanted to  \nI don't wanna think about you  \nBut I can't stop if I wanted to  \nI don't wanna think about you  \nBut I can't stop if I wanted to  \nAll I do is think about you  \nBut I can't stop if I wanted to  \nAll I do is think about you  \nBut I can't stop  \n  \nI close my eyes, and there you are  \nI open my eyes, and there you are again  \nI try to sleep, but dreams just ain't the same  \nIt ain't my fault, but still I take the blame  \nYou, you, you  \nIn my mind I gotta face it  \nYou, you, you  \nBut my heart is badly aching  \n  \nI don't wanna think about you  \nBut I can't stop if I wanted to  \nI don't wanna think about you  \nBut I can't stop if I wanted to  \nI don't wanna think about you  \nBut I can't stop if I wanted to  \nI don't wanna think about you  \nBut I can't stop if I wanted to  \nI don't wanna think about you  \nBut I can't stop if I wanted to  \nAll I do is think about you  \nBut I can't stop if I wanted to  \nAll I do is think about you  \nBut I can't stop\n\n"
        ],
        [
         "7640",
         "Heart",
         "I Give Up",
         "I know you got a secret that you really don't want to show  \nYou hid something somebody did to you and you guard it like a lie  \nAnd I know what I'm talking about  \nCause I've seen it leaking out  \nBut I'm with you baby now, and I'm not sneaking out  \nCause I know and I feel you're not showing me  \nHow can I change what you won't let me see  \n  \n[Chorus]  \nI give up I give in  \nYou win this time  \nKnowing you means let you go  \nI give up I give in  \nYou win this time  \nBut don't belong  \nBaby don't belong I love you I love you  \n  \nI know eves droppers might find out more than they might wanna know  \nYeah I know but I feel you're loving me  \nHow can I change what you won't let me see  \n  \n[Chorus]\n\n"
        ],
        [
         "32768",
         "Foreigner",
         "Inside Information",
         "One man to the left  \nOne man to the right  \nOne man in the middle  \nOne man dressed in white  \n  \nOne man in the east  \nOne man from the west  \nOne man in the middle  \nOne man under house arrest  \n(Step back)  \n  \nGet hooked on the power  \nGotta stay in the game  \nbe the man of the hour  \nGotta make a name for yourself  \n  \nAnd the lady waits, so patiently  \nShe waits for the call  \nShe knows just what you need  \n  \nYou need inside, information  \nInformation at a very high price  \nShe gives you inside, information  \nThat can change your whole life overnight,  \nIn a minute  \n  \nOne man to the left  \nOne man to the right  \nOne man in the middle  \nCaught in the broad daylight  \n  \nJust a man on the street  \nAnother face in the crowd  \nOne man on the beat  \nWants everything that he's not allowed  \n  \nAnd the lady waits, so patiently  \nShe waits for the call  \nShe knows just what you need  \n  \nYou need inside, information  \nShe can get it at a very high price  \nA little, inside, information  \nIt can change your whole life overnight  \n  \nWith a little inside, information  \nYou get money, you get power, you get it all  \nYeah but that inside, information  \nCan leave you waiting for that hammer to fall  \n(Let it fall)  \n  \nShe gets that inside, information  \nInformation at a very high price  \nWith that inside, information  \nIt's danger with each roll of the dice  \n  \nYou want that inside, information  \nTake the money, take the power, take it all  \nTake that inside, information  \nBut get ready 'cause the hammer will fall  \nIt's gonna fall  \n  \nInside, information  \nInside, information  \n  \nIs she telling you straight  \nIs she telling you straight  \nIs she telling you straight\n\n"
        ],
        [
         "27715",
         "Christina Aguilera",
         "Move It",
         "This one  \nCan you feel it, feel the groove  \nLet the music take control and let your body move  \nJust relax and listen to the sound  \nOnce the music takes you you will finally have found  \nIt will take you away to another state of mind  \nWhere peace you'll find inside the sound  \nJust escape to a place  \nTroubles seem to flow away when you get away  \nGet this party going on, the feel of the rhythm  \nGotta, gotta make it strong, leave it going on  \nIf you wanna get away and ease your mind now  \nCome on everybody stay and let the song take you away, yeah  \nAlright  \nCan you feel it, feel the groove  \nLet the music take control and let your body move  \nJust relax and listen to the sound  \nOnce the music takes you you will finally have found  \nIt will take you away to another state of mind  \nWhere peace you'll find inside the sound  \nJust escape to a place  \nTroubles seem to flow away when you get away  \nGet this party going on, the feel of the rhythm  \nGotta, gotta make it strong, leave it going on  \nIf you wanna get away and ease your mind now  \nCome on everybody stay and let the song take you away, yeah  \n...  \n\n"
        ],
        [
         "10241",
         "Kelly Clarkson",
         "Forever Part Of Me",
         "I've been wonderin' if it's time  \nTo say what's on my mind  \n'Cause I'm in the dark  \nWhat was in your heart  \n  \n(What's in your heart)  \nI don't even know your name  \nBut the thought of you remains  \nSuddenly my pulse is jumping  \nDo you feel the same  \n  \nTalk it over with my friends  \nAnd I guess it all depends  \nHow you really feel, but can you comprehend  \nYou could be just around the corner now  \nHoping this love is yet to be found  \n  \nIt's not too late to call my name  \nSo don't you look the other way  \nOpen your eyes and you'll see  \nMy heart won't wait, don't hesitate  \nWe got a chance, we've gotta take  \nIt feels like you could be  \nForever part of me  \n  \nCan be right under my skin (right under my skin)  \nI don't know where to begin  \nWould I look the fool  \nShould I play it cool  \nOr jump right in  \n  \nHow am I supposed to know  \nWhether I should come or go  \nThink it's time we let our feelings show  \nWe might let the moment just pass us by  \nThen it's gone in the blink of an eye  \n  \nIt's not too late to call my name  \nSo don't you look the other way  \nOpen your eyes and you'll see  \nMy heart won't wait, don't hesitate  \nWe got a chance we've gotta take  \nIt feels like you could be  \nForever part of me\n\n"
        ],
        [
         "36150",
         "Hooverphonic",
         "2 Wicky",
         "(Wah-wah)  \n(Wah-wah)  \n  \nProphet 60091, this is the flight number of our galactic sun.  \nProphet 60091, before we start you should know that you're not the only one\nwho can hurt me.  \n  \nSH10151, this is the serial number of our orbital gun.  \nSH10151, you better be sure before you leave me for another one, you can hurt\nme.  \nI can hurt you.  \nYou can hurt.  \nYou can hurt me.  \nI can hurt you.  \nBut you better be sure before you leave me for another one, I can hurt you.  \nYou can hurt me.  \nBut you better be sure before you leave me for another one...\n\n"
        ],
        [
         "8971",
         "The Jam",
         "I Need You For Someone",
         "I need you to keep me straight,  \nWhen the world don't seem so great,  \nAnd it's hard enough you know  \nI need you to be around  \nWhen my conscience brings me down  \nAnd the world seems so obscure  \nI want you to be the one  \nWho tells me off when I do wrong,  \nAnd you know I can be bad  \nI need you, I need you  \nSay you'll stay, make my day  \nNow what have I done,  \nWas it something I said - oh dear  \nI need you to turn me off,  \nWhen you think I've said enough,  \nTo the extent of being a bore  \nI need you to tell me no  \nSlap my wrists and send me home  \nTell me I can't come again  \nNow why are you crying -  \nHave I gone too far - again  \nI need you keep me straight,  \nwhen the world don't seem so great  \nand its hard enough you know  \nI need you, I need you  \nSay you'll stay  \nMake my day\n\n"
        ],
        [
         "1866",
         "Bonnie Raitt",
         "Not Cause I Wanted To",
         "Well I'm calling you  \n'Cause you deserve to know  \nYou are not the reason that I had to go,  \nLate at night in these hotel rooms  \nI think of all I've lost,  \nWhat I've put you through  \n  \nAnd if I knew the reason  \nI would tell you why somehow  \nThe feeling slipped away  \nI only did what I had to do  \nNot 'cause I wanted to  \n  \nI've got a guilty heart  \nAnd a troubled mind  \nNo matter where I go  \nYou're never far behind  \nI'd like to think  \nThat you've forgiven me  \nBut forgiveness ain't enough  \nTo wash my conscience clean  \n  \nOh and if I knew the reason  \nI would tell you why somehow  \nThe feeling slipped away  \nI only did what I had to do  \nNot 'cause I wanted to  \n  \nI only did what I had to do  \nNot 'cause I wanted to\n\n"
        ],
        [
         "48069",
         "Peter Cetera",
         "Only Love Knows Why",
         "One more sad tomorrow  \nAnd I'm not very good at hiding my sorrow  \nIt's not the same without you  \nSo alone and so afraid  \nI thought we had it made  \nWhat about us, what about the way  \nWe were so in love, when we were together  \nI thought you'd never leave  \nNow I know this time you're gone forever  \n  \n[Chorus]  \nOnly love can break your heart  \nFill you with desire  \nAnd tear you all apart  \nOnly love can make you cry  \nOnly love knows why  \n  \nOne more night without you  \nI'm just trying to pretend that you're coming back again  \nYou know I never meant to doubt you, oh no  \nWe were young and we were free  \nNow I can't believe this has happened to me  \n  \nWhat about us, what about the way  \nWe were so in love, when we were together  \n  \n[Chorus]  \n  \nGonna be a long hard road without you  \nAnd there's one thing you should know  \nTell me who will I turn to  \nWhen I get in trouble  \nI really don't want you to go, no  \n  \nTell me who can I turn to  \nWhen I get in trouble  \nBaby please don't leave me  \nCan't you see you must believe me  \n  \nOnly love can break your heart  \nFill you with desire  \nAnd tear you down, the minute that you fall apart  \n  \nOnly love can make you cry  \nOnly love knows why, oh no  \nOnly love can tear you down  \nOnly love knows why, oh no  \n  \nOnly love will make you cry\n\n"
        ],
        [
         "33955",
         "Gino Vannelli",
         "Father And Son",
         "Once in a life there comes a man like you  \nAnd you bear a son so much like yourself  \nAnd it's hard to believe that he's a grown man  \nBut pop I understand  \n  \nOnce every night I thank my lucky stars  \nYou've given me some guiding light  \nBut there comes a time when a father and a son  \nCan no longer be as one  \n  \nIt took me so long to recover  \nFrom the pain of having denied the love I once relied upon  \nIt takes more than time to discover  \nThat for both the young and old  \nThe truth is sometimes cold but right  \n  \nThis is my life  \nAnd I've got to hold my own  \nEven if it means hurting us both  \nAnd the wrongs become right when  \nWe stop and wonder how  \nLook at us  \nWe're better friends now\n\n"
        ],
        [
         "47110",
         "Overkill",
         "Gasoline Dream",
         "Wishful thinking, eyes are blinking,  \nIn the sun the garbage stinking.  \nTo ignore the rancid, won't make it go away.  \n  \nUntruth spoke through blistered lip,  \nUnclean thoughts that take the step,  \nDown upon the roaches,  \nWon't go away.  \n  \nBorn! to follow!  \nTo be the first to swallow,  \nGarbage from the plate.  \nNow! to borrow!  \nA match, ignite the gasoline,  \nTo burn away.  \n  \nSurviving through a gasoline dream,  \nIn the month the razon blade gleam,  \nSlashing up the tongue, won't make it go away.  \nOn a binge of self destruction,  \n  \nChildren of the reconstruction,  \nSuck the tit of discontent,  \nGo away.  \n  \nSlam! slam down!  \nRespond in kind malcontent,  \nDon't go away.  \nBurn! burn down!  \n  \nTemple of the conscience,  \nDon't go away.  \n  \nI was soaked in gasoline,  \nPlayin' with a match.  \nI was everything I seemed,  \nThey stood and watched.  \n  \nAte from your table!  \nAte from your hand!  \nEight days of waiting!  \nBuried in the sand!  \n  \nBurn in a gasoline dream, burn away my love.  \nBurn away the conscience, burn away, my love.  \nTake away my dignity, take away my pain,  \nTake just for taking, we are one in the same...  \n  \nBurn... Burn...  \nBurn in a gasoline dream, burn away my love.  \nBurn away the conscience, burn away, my love.\n\n"
        ],
        [
         "2593",
         "Chicago",
         "Anyway You Want",
         "Anyway you want to be  \nIt's alright with me  \nAnything you want  \nIt's alright with me  \n  \nKnow that I love you  \nKnow that I need you  \nAnyway you want  \nIt's alright with me  \n  \nBaby let me love you  \nDo what I want to do  \nAnyway you want  \nIt's alright with me  \n  \nFeels so good  \nKnow that I love you  \nKnow that I need you  \nAnyway you want  \n  \nIt's alright with me  \nAnyway you want  \nIt's alright with me  \nAnyway you want  \n  \nIt's alright with me  \nAnyway you want  \nIt's alright with me  \nAnyway you want  \n  \nWoah now  \nIt's alright it's alright  \nBaby now  \nIt's alright it's alright  \n  \nBaby let me love you  \nYeah yeah  \nYeah Yeah  \n  \nIt's alright it's alright it's alright  \nIt's alright it's alright it's alright\n\n"
        ],
        [
         "5223",
         "Enrique Iglesias",
         "Can You Hear Me",
         "I am numb but I can still feel you  \nSometimes I'm blind but I see you  \nYou are here but so far away  \n  \nThe times when you wanna, I'm missing you  \nMakes me feel like I'm spinning  \nSometimes you get what you gain  \n  \nI'm on a coaster-collision  \nAm not about to give in  \nCan't explain my position or the condition that I'm in.  \n  \nWhere I am is no limit, no walls, no ceilings  \nNo intermission, so let  \nLet the party begin.  \n  \n[Chorus]  \nHey  \nHey  \nHey all the way  \nDJ let it play.  \nHey hey can you hear me?  \nHey  \nHey  \nHey all the way  \nDJ let it play.  \nHey hey can you hear me?  \n  \nCan you hear me? can you hear me? can you hear me? can you hear me?  \n  \nDon't you mean that you're my vision  \nI gotta make a decision  \nDo I go, do I stay? (stay)  \n  \nYou've gotten into my system  \nYou are in control of my mental  \nI'm in a euphoric state  \n  \nI'm on a coaster-collision  \nAm not about to give in  \nCan't explain my position or the condition that I'm in.  \n  \nWhere I am is no limit, no walls, no ceilings  \nNo intermission, so let  \nLet the party begin  \n  \n[Chorus]  \n  \nCan you hear me? [Repeats]  \n  \n[Repeat: x5]  \nHey  \nHey  \nHey all the way  \nDJ let it play.  \nHey hey can you hear me?  \nCan you hear me?  \n  \nEnrique, yea I can  \nThis is Mr Morales\n\n"
        ],
        [
         "47370",
         "Pat Benatar",
         "I've Got Papers On You",
         "I've got papers on you baby  \nYou gotta do what I say  \nI've got papers on you baby  \nYou gotta do what I say  \nI mean business darlin', I'm too old to play  \nI've got papers on you baby  \nAnd I mean you're mine, all mine  \nI've got papers on you baby  \nAnd I mean you're mine, all mine  \nIf you do just what I tell you darlin'  \nWe're gonna get along real fine  \n  \nNow the red light means stop  \nGreen light means go  \nTell you something once  \nI ain't gonna tell you no more  \n  \nI've got papers on you baby  \nYou gotta do what I say  \nI got old baby, and I'm too old to play  \n  \nWell I see that you eat  \nAnd I see that you got a place to stay  \nI see that you eat  \nAnd I see you got a place to stay  \nBut as long as live in this house  \nI ain't gonna let you have your way  \n  \nI've got papers on you baby  \nAnd I mean in black and white  \nI've got papers on you  \nAnd I mean in black and white  \n  \nNow I ain't hard to get along with  \nBut you just gotta treat me right\n\n"
        ],
        [
         "49673",
         "Quincy Punx",
         "Cereal Killer",
         "Wake in the morning my mind is all confused  \nDon't no where to turn or what to do, pour myself  \nA great big bowl of crispy bits of rice, the cereal  \nThat talks gives me some advice  \n  \n[Chorus]  \nMy rice krispies told me to kill you tonight  \nMy rice krispies never lie  \nMy rice krispies  \n  \nTold me so many things you see, like how the  \nPhone company killed kennedy, how oprah is an  \nAlien and nixon never lied, and by tommorow  \nMorning you gotta die [chorus] this morning  \nBreakfast message was so crystal clear  \nIt was so strange I couldn't believe my ears  \n  \nMy cereal informed me your an agent for  \nThe feds, the CIA they want me dead  \n  \n[Chorus]  \n  \nElvis is alive living in New Jersey  \nThat's right they gotta give me a lobotomy  \nOne day the aliens are gonna come for me  \nI gotta kill you if I wanna be free\n\n"
        ],
        [
         "23920",
         "America",
         "This Time",
         "When the whistle blows  \nAnd the goodbye hugs are over  \nThen the train pulls out of the station and rolls towards the dawn  \nWith that old suitcase in hand and a surefire plan gone over  \nThis time it will work it can't go wrong  \nCause I've got all of our dreams mixed up with my schemes  \nRollin' around in my mind  \nI know the sun's gonna shine  \nShine on me this time  \nIn a week or two  \nI'll be writing to you with good news  \nAnd I can just see your smile as you read about all that I've done  \nCause I've got all of our plans right here in my hands  \nAnd things are gonna work out just fine  \nCause I know the sun's gonna shine  \nShine on me this time  \nI've seen confusion in your eyes  \nI've seen uncertainty and fear  \nKeep on lookin' for tomorrow  \nSoon it will be here  \nThis time, it's gonna be this time  \nThis time, it's gotta be this time  \nThis time, this time (it's never never)  \nThis time, this time (the day is coming)  \nThis time, this time (it's never never)  \nThis time, this time (the day is coming)  \n\n"
        ],
        [
         "29988",
         "Dolly Parton",
         "How Great Thou Art",
         "Oh Lord my God when I in awesome wonder  \nConsider all the worlds Thy hands have made  \nNow I see the stars and I hear the rolling thunder  \nThy art throughout the universe displayed  \nThen sings my soul my Saviour God to Thee  \nHow great Thou art oh  \nHow great Thou art  \nThen sings my soul my Saviour God to Thee  \nHow great Thou art  \nHow great Thou art  \nWhen Christ shall come with shouts of acclamation  \nTo take me home what joy shall fill my heart  \nThen I shall kneel in humble adoration and there proclaim my God  \nHow great Thou art  \nThen sings my soul\n\n"
        ],
        [
         "9367",
         "John Denver",
         "Don't Be Kind",
         "You've been sweet, you've been good  \nI've been better than you ever cook  \nI've been yours, you've been mine  \nDon't be kind  \nYou got dreams, I've got plans  \nI'll be gone before you understand  \nI betrayed, you've been blind  \nDon't be kind  \n(Don't be kind)  \nShoot it straight as an arrow  \n(Don't be kind)  \nTo the quick, to the marrow  \nYou can say what you've got on your mind  \nDon't be kind  \nWe've been friends, we've been folks  \nWe've been lovers clinging so close  \nWe've believed but not this time  \nDon't be kind  \nWhen you hurt me, oh, you hurt me  \nThen you feel you must be nice  \nWell, it's bad enough to take it once  \nBeing kind makes it twice  \nIt's been great, it's been real  \nIt's been soft as silk and tough as steel  \nYou be yours and I'll be mine  \nDon't be kind  \n(Don't be kind)  \nShoot it straight as an arrow  \n(Don't be kind)  \nTo the quick, to the marrow  \nYou can say what you've got on your mind  \nDon't be kind  \nDon't be kind  \nYou can say what you got on your mind  \n(Don't be kind)  \nShoot it straight as an arrow  \n(Don't be kind)  \nTo the quick, to the marrow  \nYou can say what you've got on your mind  \nDon't be kind  \nDon't be kind  \nYou can say what you've got on your mind  \nDon't be kind  \nDon't be kind  \nYou can say what you've got on your mind  \nDon't be kind  \nDon't be kind  \n\n"
        ]
       ],
       "shape": {
        "columns": 3,
        "rows": 1000
       }
      },
      "text/html": [
       "<div>\n",
       "<style scoped>\n",
       "    .dataframe tbody tr th:only-of-type {\n",
       "        vertical-align: middle;\n",
       "    }\n",
       "\n",
       "    .dataframe tbody tr th {\n",
       "        vertical-align: top;\n",
       "    }\n",
       "\n",
       "    .dataframe thead th {\n",
       "        text-align: right;\n",
       "    }\n",
       "</style>\n",
       "<table border=\"1\" class=\"dataframe\">\n",
       "  <thead>\n",
       "    <tr style=\"text-align: right;\">\n",
       "      <th></th>\n",
       "      <th>artist</th>\n",
       "      <th>song</th>\n",
       "      <th>text</th>\n",
       "    </tr>\n",
       "  </thead>\n",
       "  <tbody>\n",
       "    <tr>\n",
       "      <th>56679</th>\n",
       "      <td>Wishbone Ash</td>\n",
       "      <td>Right Or Wrong</td>\n",
       "      <td>Like to have you 'round  \\nWith all the lies t...</td>\n",
       "    </tr>\n",
       "    <tr>\n",
       "      <th>224</th>\n",
       "      <td>Aerosmith</td>\n",
       "      <td>This Little Light Of Mine</td>\n",
       "      <td>This Little Light of Mine (Light of Mine),  \\n...</td>\n",
       "    </tr>\n",
       "    <tr>\n",
       "      <th>32457</th>\n",
       "      <td>Fall Out Boy</td>\n",
       "      <td>Dance, Dance</td>\n",
       "      <td>She says she's no good with words but I'm wors...</td>\n",
       "    </tr>\n",
       "    <tr>\n",
       "      <th>9167</th>\n",
       "      <td>Janis Joplin</td>\n",
       "      <td>Easy Rider</td>\n",
       "      <td>Hey mama, mama, come a look at sister,  \\nShe'...</td>\n",
       "    </tr>\n",
       "    <tr>\n",
       "      <th>13270</th>\n",
       "      <td>Moody Blues</td>\n",
       "      <td>Peak Hour</td>\n",
       "      <td>I see it all through my window it seems.  \\nNe...</td>\n",
       "    </tr>\n",
       "    <tr>\n",
       "      <th>...</th>\n",
       "      <td>...</td>\n",
       "      <td>...</td>\n",
       "      <td>...</td>\n",
       "    </tr>\n",
       "    <tr>\n",
       "      <th>20276</th>\n",
       "      <td>Used</td>\n",
       "      <td>Generation Throwaway</td>\n",
       "      <td>Whoa  \\nGeneration throwaway  \\nWhoa  \\nGenera...</td>\n",
       "    </tr>\n",
       "    <tr>\n",
       "      <th>21464</th>\n",
       "      <td>Who</td>\n",
       "      <td>Bucket T</td>\n",
       "      <td>Bucket bucket T T, bucket T bucket T,  \\nBucke...</td>\n",
       "    </tr>\n",
       "    <tr>\n",
       "      <th>51282</th>\n",
       "      <td>Santana</td>\n",
       "      <td>America</td>\n",
       "      <td>This is America  \\nPOD and Santana live in La ...</td>\n",
       "    </tr>\n",
       "    <tr>\n",
       "      <th>56824</th>\n",
       "      <td>X</td>\n",
       "      <td>Burning House Of Love</td>\n",
       "      <td>Drive by my house late at night  \\nYou can see...</td>\n",
       "    </tr>\n",
       "    <tr>\n",
       "      <th>280</th>\n",
       "      <td>Air Supply</td>\n",
       "      <td>I Don't Believe You</td>\n",
       "      <td>Who are we to say who we must obey  \\nto get m...</td>\n",
       "    </tr>\n",
       "  </tbody>\n",
       "</table>\n",
       "<p>1000 rows × 3 columns</p>\n",
       "</div>"
      ],
      "text/plain": [
       "             artist                       song  \\\n",
       "56679  Wishbone Ash             Right Or Wrong   \n",
       "224       Aerosmith  This Little Light Of Mine   \n",
       "32457  Fall Out Boy               Dance, Dance   \n",
       "9167   Janis Joplin                 Easy Rider   \n",
       "13270   Moody Blues                  Peak Hour   \n",
       "...             ...                        ...   \n",
       "20276          Used       Generation Throwaway   \n",
       "21464           Who                   Bucket T   \n",
       "51282       Santana                    America   \n",
       "56824             X      Burning House Of Love   \n",
       "280      Air Supply        I Don't Believe You   \n",
       "\n",
       "                                                    text  \n",
       "56679  Like to have you 'round  \\nWith all the lies t...  \n",
       "224    This Little Light of Mine (Light of Mine),  \\n...  \n",
       "32457  She says she's no good with words but I'm wors...  \n",
       "9167   Hey mama, mama, come a look at sister,  \\nShe'...  \n",
       "13270  I see it all through my window it seems.  \\nNe...  \n",
       "...                                                  ...  \n",
       "20276  Whoa  \\nGeneration throwaway  \\nWhoa  \\nGenera...  \n",
       "21464  Bucket bucket T T, bucket T bucket T,  \\nBucke...  \n",
       "51282  This is America  \\nPOD and Santana live in La ...  \n",
       "56824  Drive by my house late at night  \\nYou can see...  \n",
       "280    Who are we to say who we must obey  \\nto get m...  \n",
       "\n",
       "[1000 rows x 3 columns]"
      ]
     },
     "execution_count": 66,
     "metadata": {},
     "output_type": "execute_result"
    }
   ],
   "source": [
    "new_data = data.sample(n=1000, random_state=42)\n",
    "new_data"
   ]
  },
  {
   "cell_type": "markdown",
   "id": "d77d0064",
   "metadata": {},
   "source": [
    "**\"bhadresh-savani/distilbert-base-uncased-emotion\"** - Это модель на базе DistilBERT (облегчённая версия BERT — одной из самых популярных моделей для обработки текста), которую обучили распознавать эмоции в английских текстах. Она была создана на основе открытого датасета GoEmotions от Google, который содержит высказывания из интернета с пометками эмоций.\n"
   ]
  },
  {
   "cell_type": "code",
   "execution_count": 67,
   "id": "a8888c79-cb77-469a-8ef0-63b645625f2c",
   "metadata": {},
   "outputs": [
    {
     "name": "stderr",
     "output_type": "stream",
     "text": [
      "Device set to use cpu\n"
     ]
    }
   ],
   "source": [
    "emotion_model = pipeline(\"text-classification\", model=\"bhadresh-savani/distilbert-base-uncased-emotion\", top_k=3, truncation=True)\n",
    "HF_HUB_DISABLE_SYMLINKS_WARNING=1"
   ]
  },
  {
   "cell_type": "markdown",
   "id": "32e5d25a",
   "metadata": {},
   "source": [
    "Она принимает на вход текст и выдаёт, какие эмоции в нём выражены, например:"
   ]
  },
  {
   "cell_type": "code",
   "execution_count": 68,
   "id": "f6535885",
   "metadata": {},
   "outputs": [
    {
     "data": {
      "text/plain": [
       "[[{'label': 'joy', 'score': 0.9990272521972656},\n",
       "  {'label': 'love', 'score': 0.00028907699743285775},\n",
       "  {'label': 'sadness', 'score': 0.0002408125001238659}]]"
      ]
     },
     "execution_count": 68,
     "metadata": {},
     "output_type": "execute_result"
    }
   ],
   "source": [
    "emotion_model(\"I'm feeling really happy today!\")"
   ]
  },
  {
   "cell_type": "code",
   "execution_count": 69,
   "id": "b4242e92-0ebf-4f14-aec1-ac107f9da5ed",
   "metadata": {},
   "outputs": [],
   "source": [
    "# Функция принимает текст, запускает модель определения эмоций, и возвращает словарь эмоций с их \"оценками\" от 0 до 1.\n",
    "\n",
    "def get_emotions(text):\n",
    "    try:\n",
    "        result = emotion_model(text) \n",
    "        emotions = result[0] \n",
    "        return {item['label']: item['score'] for item in emotions}\n",
    "    except:\n",
    "        return {}"
   ]
  },
  {
   "cell_type": "code",
   "execution_count": 70,
   "id": "bdd03c99-517a-476d-9d41-412f53e542df",
   "metadata": {},
   "outputs": [],
   "source": [
    "# преобразуем словарь эмоций в числовой вектор\n",
    "emotion_list = ['joy','love', 'sadness', 'surprise', 'fear','anger', 'no_emotion' ]\n",
    "\n",
    "def to_emotion_vector(emotion_dict):\n",
    "    return [emotion_dict.get(e, 0.0) for e in emotion_list]"
   ]
  },
  {
   "cell_type": "markdown",
   "id": "0d44c0d2",
   "metadata": {},
   "source": [
    "Мы используем две функции для анализа эмоций в текстах песен:\n",
    "\n",
    "**get_emotions(text)** — извлекает эмоции из текста с помощью обученной модели.\n",
    "\n",
    "**to_emotion_vector(emotion_dict)** — преобразует результат в числовой вектор фиксированной длины.\n",
    "\n",
    "Так мы получаем эмоциональный профиль каждой песни:"
   ]
  },
  {
   "cell_type": "code",
   "execution_count": null,
   "id": "85b95c7d-432a-456b-9086-73afef905576",
   "metadata": {},
   "outputs": [
    {
     "data": {
      "application/vnd.microsoft.datawrangler.viewer.v0+json": {
       "columns": [
        {
         "name": "index",
         "rawType": "int64",
         "type": "integer"
        },
        {
         "name": "artist",
         "rawType": "object",
         "type": "string"
        },
        {
         "name": "song",
         "rawType": "object",
         "type": "string"
        },
        {
         "name": "emotion_dict",
         "rawType": "object",
         "type": "unknown"
        },
        {
         "name": "emotion_vector",
         "rawType": "object",
         "type": "unknown"
        }
       ],
       "conversionMethod": "pd.DataFrame",
       "ref": "00050ced-7ecd-4579-96c0-a61812e1ccb2",
       "rows": [
        [
         "56679",
         "Wishbone Ash",
         "Right Or Wrong",
         "{'anger': 0.8817856907844543, 'sadness': 0.10941384732723236, 'joy': 0.0047196513041853905}",
         "[0.0047196513041853905, 0.0, 0.10941384732723236, 0.0, 0.0, 0.8817856907844543, 0.0]"
        ],
        [
         "224",
         "Aerosmith",
         "This Little Light Of Mine",
         "{'joy': 0.8830875754356384, 'anger': 0.08506548404693604, 'sadness': 0.015944965183734894}",
         "[0.8830875754356384, 0.0, 0.015944965183734894, 0.0, 0.0, 0.08506548404693604, 0.0]"
        ],
        [
         "32457",
         "Fall Out Boy",
         "Dance, Dance",
         "{'love': 0.8936543464660645, 'joy': 0.04676710069179535, 'sadness': 0.04499901458621025}",
         "[0.04676710069179535, 0.8936543464660645, 0.04499901458621025, 0.0, 0.0, 0.0, 0.0]"
        ],
        [
         "9167",
         "Janis Joplin",
         "Easy Rider",
         "{'anger': 0.9330032467842102, 'joy': 0.025860704481601715, 'sadness': 0.02339109405875206}",
         "[0.025860704481601715, 0.0, 0.02339109405875206, 0.0, 0.0, 0.9330032467842102, 0.0]"
        ],
        [
         "13270",
         "Moody Blues",
         "Peak Hour",
         "{'joy': 0.8706589341163635, 'anger': 0.10376585274934769, 'sadness': 0.016657516360282898}",
         "[0.8706589341163635, 0.0, 0.016657516360282898, 0.0, 0.0, 0.10376585274934769, 0.0]"
        ],
        [
         "33265",
         "Gary Numan",
         "Crazier",
         "{'joy': 0.997892439365387, 'sadness': 0.0008832535240799189, 'anger': 0.00035838622716255486}",
         "[0.997892439365387, 0.0, 0.0008832535240799189, 0.0, 0.0, 0.00035838622716255486, 0.0]"
        ],
        [
         "47395",
         "Pat Benatar",
         "Temptation",
         "{'anger': 0.9950315952301025, 'fear': 0.0019453208660706878, 'joy': 0.0010609899181872606}",
         "[0.0010609899181872606, 0.0, 0.0, 0.0, 0.0019453208660706878, 0.9950315952301025, 0.0]"
        ],
        [
         "44707",
         "'n Sync",
         "Kiss Me At Midnight",
         "{'joy': 0.9949157238006592, 'love': 0.003832531161606312, 'anger': 0.00043673536856658757}",
         "[0.9949157238006592, 0.003832531161606312, 0.0, 0.0, 0.0, 0.00043673536856658757, 0.0]"
        ],
        [
         "51614",
         "Sia",
         "Little Black Sandals",
         "{'joy': 0.7083041667938232, 'anger': 0.25340545177459717, 'love': 0.01975947804749012}",
         "[0.7083041667938232, 0.01975947804749012, 0.0, 0.0, 0.0, 0.25340545177459717, 0.0]"
        ],
        [
         "35076",
         "Hank Snow",
         "I Keep Dreaming Of You All The Time",
         "{'sadness': 0.5550774335861206, 'love': 0.32233184576034546, 'fear': 0.07728689908981323}",
         "[0.0, 0.32233184576034546, 0.5550774335861206, 0.0, 0.07728689908981323, 0.0, 0.0]"
        ],
        [
         "42741",
         "Marianne Faithfull",
         "Blood In My Eyes",
         "{'joy': 0.8359001874923706, 'anger': 0.12944141030311584, 'sadness': 0.021330654621124268}",
         "[0.8359001874923706, 0.0, 0.021330654621124268, 0.0, 0.0, 0.12944141030311584, 0.0]"
        ],
        [
         "49532",
         "Queensryche",
         "I Am I",
         "{'sadness': 0.5386090278625488, 'anger': 0.3485746681690216, 'joy': 0.0781654343008995}",
         "[0.0781654343008995, 0.0, 0.5386090278625488, 0.0, 0.0, 0.3485746681690216, 0.0]"
        ],
        [
         "42071",
         "Lou Reed",
         "Hold On",
         "{'anger': 0.961238443851471, 'sadness': 0.016290249302983284, 'fear': 0.011836996302008629}",
         "[0.0, 0.0, 0.016290249302983284, 0.0, 0.011836996302008629, 0.961238443851471, 0.0]"
        ],
        [
         "21940",
         "Yello",
         "Pinball Cha Cha",
         "{'joy': 0.9969127178192139, 'anger': 0.0010325778275728226, 'sadness': 0.0007553978357464075}",
         "[0.9969127178192139, 0.0, 0.0007553978357464075, 0.0, 0.0, 0.0010325778275728226, 0.0]"
        ],
        [
         "35738",
         "Helloween",
         "Kill It",
         "{'anger': 0.9296579957008362, 'joy': 0.042732954025268555, 'sadness': 0.014058763161301613}",
         "[0.042732954025268555, 0.0, 0.014058763161301613, 0.0, 0.0, 0.9296579957008362, 0.0]"
        ],
        [
         "40933",
         "Kyla",
         "I Feel For You",
         "{'joy': 0.9985818862915039, 'love': 0.0007148247095756233, 'sadness': 0.00025000888854265213}",
         "[0.9985818862915039, 0.0007148247095756233, 0.00025000888854265213, 0.0, 0.0, 0.0, 0.0]"
        ],
        [
         "14526",
         "O.A.R.",
         "Dareh Meyod",
         "{'sadness': 0.5754299759864807, 'joy': 0.2532557249069214, 'anger': 0.12945061922073364}",
         "[0.2532557249069214, 0.0, 0.5754299759864807, 0.0, 0.0, 0.12945061922073364, 0.0]"
        ],
        [
         "23213",
         "Alabama",
         "Right Where I Am",
         "{'joy': 0.9906345009803772, 'anger': 0.0035792572889477015, 'sadness': 0.00247771292924881}",
         "[0.9906345009803772, 0.0, 0.00247771292924881, 0.0, 0.0, 0.0035792572889477015, 0.0]"
        ],
        [
         "56354",
         "Who",
         "It's Hard",
         "{'anger': 0.8786942958831787, 'joy': 0.052629899233579636, 'sadness': 0.049386799335479736}",
         "[0.052629899233579636, 0.0, 0.049386799335479736, 0.0, 0.0, 0.8786942958831787, 0.0]"
        ],
        [
         "10045",
         "Justin Timberlake",
         "Hallelujah",
         "{'fear': 0.8764322996139526, 'anger': 0.10814370214939117, 'surprise': 0.010056848637759686}",
         "[0.0, 0.0, 0.0, 0.010056848637759686, 0.8764322996139526, 0.10814370214939117, 0.0]"
        ],
        [
         "57386",
         "Yoko Ono",
         "Light On The Other Side",
         "{'sadness': 0.9987236857414246, 'joy': 0.0004569442826323211, 'love': 0.00027367047732695937}",
         "[0.0004569442826323211, 0.00027367047732695937, 0.9987236857414246, 0.0, 0.0, 0.0, 0.0]"
        ],
        [
         "31581",
         "Engelbert Humperdinck",
         "Say Goodnight",
         "{'sadness': 0.963361382484436, 'anger': 0.023872418329119682, 'joy': 0.006793926004320383}",
         "[0.006793926004320383, 0.0, 0.963361382484436, 0.0, 0.0, 0.023872418329119682, 0.0]"
        ],
        [
         "13656",
         "Ne-Yo",
         "Not Strong Enough",
         "{'joy': 0.9912915825843811, 'sadness': 0.005942258518189192, 'anger': 0.0011308856774121523}",
         "[0.9912915825843811, 0.0, 0.005942258518189192, 0.0, 0.0, 0.0011308856774121523, 0.0]"
        ],
        [
         "11061",
         "Kylie Minogue",
         "If I Was Your Lover",
         "{'joy': 0.9928922653198242, 'love': 0.0029009240679442883, 'sadness': 0.002039652317762375}",
         "[0.9928922653198242, 0.0029009240679442883, 0.002039652317762375, 0.0, 0.0, 0.0, 0.0]"
        ],
        [
         "476",
         "Alice Cooper",
         "Be With You Awhile",
         "{'joy': 0.996441662311554, 'sadness': 0.0016645160503685474, 'anger': 0.0006681607919745147}",
         "[0.996441662311554, 0.0, 0.0016645160503685474, 0.0, 0.0, 0.0006681607919745147, 0.0]"
        ],
        [
         "12136",
         "Louis Armstrong",
         "Christmas In New Orleans",
         "{'joy': 0.9094553589820862, 'sadness': 0.05392449349164963, 'anger': 0.025616610422730446}",
         "[0.9094553589820862, 0.0, 0.05392449349164963, 0.0, 0.0, 0.025616610422730446, 0.0]"
        ],
        [
         "14018",
         "Nick Drake",
         "One Of These Things First",
         "{'joy': 0.9820258021354675, 'anger': 0.01021477859467268, 'fear': 0.003053911728784442}",
         "[0.9820258021354675, 0.0, 0.0, 0.0, 0.003053911728784442, 0.01021477859467268, 0.0]"
        ],
        [
         "39240",
         "Justin Timberlake",
         "Summer Love",
         "{'anger': 0.54328453540802, 'joy': 0.26971369981765747, 'love': 0.14634837210178375}",
         "[0.26971369981765747, 0.14634837210178375, 0.0, 0.0, 0.0, 0.54328453540802, 0.0]"
        ],
        [
         "45819",
         "Nightwish",
         "Whoever Brings The Night",
         "{'anger': 0.341156929731369, 'sadness': 0.310107558965683, 'love': 0.1952238231897354}",
         "[0.0, 0.1952238231897354, 0.310107558965683, 0.0, 0.0, 0.341156929731369, 0.0]"
        ],
        [
         "16703",
         "R. Kelly",
         "Bad Man",
         "{'sadness': 0.9799725413322449, 'anger': 0.015303530730307102, 'joy': 0.0030470292549580336}",
         "[0.0030470292549580336, 0.0, 0.9799725413322449, 0.0, 0.0, 0.015303530730307102, 0.0]"
        ],
        [
         "13687",
         "Neil Diamond",
         "Be",
         "{'joy': 0.9959404468536377, 'love': 0.00233910558745265, 'sadness': 0.0010248678736388683}",
         "[0.9959404468536377, 0.00233910558745265, 0.0010248678736388683, 0.0, 0.0, 0.0, 0.0]"
        ],
        [
         "19210",
         "The Temptations",
         "The Way You Do The Things You Do",
         "{'joy': 0.8352712392807007, 'love': 0.16184833645820618, 'sadness': 0.0010935288155451417}",
         "[0.8352712392807007, 0.16184833645820618, 0.0010935288155451417, 0.0, 0.0, 0.0, 0.0]"
        ],
        [
         "3836",
         "David Guetta",
         "Think About You",
         "{'sadness': 0.9918547868728638, 'anger': 0.003614126006141305, 'love': 0.001986992545425892}",
         "[0.0, 0.001986992545425892, 0.9918547868728638, 0.0, 0.0, 0.003614126006141305, 0.0]"
        ],
        [
         "7640",
         "Heart",
         "I Give Up",
         "{'love': 0.9952504634857178, 'joy': 0.0018230394925922155, 'sadness': 0.0010039533954113722}",
         "[0.0018230394925922155, 0.9952504634857178, 0.0010039533954113722, 0.0, 0.0, 0.0, 0.0]"
        ],
        [
         "32768",
         "Foreigner",
         "Inside Information",
         "{'anger': 0.638547956943512, 'joy': 0.2989250123500824, 'fear': 0.03982154279947281}",
         "[0.2989250123500824, 0.0, 0.0, 0.0, 0.03982154279947281, 0.638547956943512, 0.0]"
        ],
        [
         "27715",
         "Christina Aguilera",
         "Move It",
         "{'joy': 0.9985001087188721, 'love': 0.0004284206952434033, 'sadness': 0.00041412300197407603}",
         "[0.9985001087188721, 0.0004284206952434033, 0.00041412300197407603, 0.0, 0.0, 0.0, 0.0]"
        ],
        [
         "10241",
         "Kelly Clarkson",
         "Forever Part Of Me",
         "{'joy': 0.9985601305961609, 'love': 0.00038349858368746936, 'sadness': 0.00034456350840628147}",
         "[0.9985601305961609, 0.00038349858368746936, 0.00034456350840628147, 0.0, 0.0, 0.0, 0.0]"
        ],
        [
         "36150",
         "Hooverphonic",
         "2 Wicky",
         "{'sadness': 0.6405306458473206, 'anger': 0.2660362124443054, 'fear': 0.07308482378721237}",
         "[0.0, 0.0, 0.6405306458473206, 0.0, 0.07308482378721237, 0.2660362124443054, 0.0]"
        ],
        [
         "8971",
         "The Jam",
         "I Need You For Someone",
         "{'joy': 0.9979004859924316, 'surprise': 0.000634911993984133, 'sadness': 0.0005529167829081416}",
         "[0.9979004859924316, 0.0, 0.0005529167829081416, 0.000634911993984133, 0.0, 0.0, 0.0]"
        ],
        [
         "1866",
         "Bonnie Raitt",
         "Not Cause I Wanted To",
         "{'sadness': 0.9985309839248657, 'anger': 0.0004918158520013094, 'joy': 0.00047311719390563667}",
         "[0.00047311719390563667, 0.0, 0.9985309839248657, 0.0, 0.0, 0.0004918158520013094, 0.0]"
        ],
        [
         "48069",
         "Peter Cetera",
         "Only Love Knows Why",
         "{'sadness': 0.5309432744979858, 'anger': 0.35104960203170776, 'fear': 0.056896671652793884}",
         "[0.0, 0.0, 0.5309432744979858, 0.0, 0.056896671652793884, 0.35104960203170776, 0.0]"
        ],
        [
         "33955",
         "Gino Vannelli",
         "Father And Son",
         "{'anger': 0.9690859913825989, 'sadness': 0.0173958707600832, 'joy': 0.007704771123826504}",
         "[0.007704771123826504, 0.0, 0.0173958707600832, 0.0, 0.0, 0.9690859913825989, 0.0]"
        ],
        [
         "47110",
         "Overkill",
         "Gasoline Dream",
         "{'anger': 0.7374000549316406, 'sadness': 0.2040177881717682, 'joy': 0.04170520231127739}",
         "[0.04170520231127739, 0.0, 0.2040177881717682, 0.0, 0.0, 0.7374000549316406, 0.0]"
        ],
        [
         "2593",
         "Chicago",
         "Anyway You Want",
         "{'joy': 0.9986948370933533, 'love': 0.0005092443898320198, 'sadness': 0.0003544259525369853}",
         "[0.9986948370933533, 0.0005092443898320198, 0.0003544259525369853, 0.0, 0.0, 0.0, 0.0]"
        ],
        [
         "5223",
         "Enrique Iglesias",
         "Can You Hear Me",
         "{'sadness': 0.9873607158660889, 'fear': 0.006932743825018406, 'joy': 0.002947703003883362}",
         "[0.002947703003883362, 0.0, 0.9873607158660889, 0.0, 0.006932743825018406, 0.0, 0.0]"
        ],
        [
         "47370",
         "Pat Benatar",
         "I've Got Papers On You",
         "{'joy': 0.9934919476509094, 'anger': 0.0029208676423877478, 'sadness': 0.001385809970088303}",
         "[0.9934919476509094, 0.0, 0.001385809970088303, 0.0, 0.0, 0.0029208676423877478, 0.0]"
        ],
        [
         "49673",
         "Quincy Punx",
         "Cereal Killer",
         "{'fear': 0.4714796245098114, 'anger': 0.437774658203125, 'sadness': 0.07985074073076248}",
         "[0.0, 0.0, 0.07985074073076248, 0.0, 0.4714796245098114, 0.437774658203125, 0.0]"
        ],
        [
         "23920",
         "America",
         "This Time",
         "{'joy': 0.9753299355506897, 'anger': 0.014243105426430702, 'sadness': 0.006137013901025057}",
         "[0.9753299355506897, 0.0, 0.006137013901025057, 0.0, 0.0, 0.014243105426430702, 0.0]"
        ],
        [
         "29988",
         "Dolly Parton",
         "How Great Thou Art",
         "{'joy': 0.9579612612724304, 'sadness': 0.018707910552620888, 'anger': 0.017901023849844933}",
         "[0.9579612612724304, 0.0, 0.018707910552620888, 0.0, 0.0, 0.017901023849844933, 0.0]"
        ],
        [
         "9367",
         "John Denver",
         "Don't Be Kind",
         "{'joy': 0.9679515361785889, 'love': 0.019521912559866905, 'anger': 0.008123288862407207}",
         "[0.9679515361785889, 0.019521912559866905, 0.0, 0.0, 0.0, 0.008123288862407207, 0.0]"
        ]
       ],
       "shape": {
        "columns": 4,
        "rows": 1000
       }
      },
      "text/html": [
       "<div>\n",
       "<style scoped>\n",
       "    .dataframe tbody tr th:only-of-type {\n",
       "        vertical-align: middle;\n",
       "    }\n",
       "\n",
       "    .dataframe tbody tr th {\n",
       "        vertical-align: top;\n",
       "    }\n",
       "\n",
       "    .dataframe thead th {\n",
       "        text-align: right;\n",
       "    }\n",
       "</style>\n",
       "<table border=\"1\" class=\"dataframe\">\n",
       "  <thead>\n",
       "    <tr style=\"text-align: right;\">\n",
       "      <th></th>\n",
       "      <th>artist</th>\n",
       "      <th>song</th>\n",
       "      <th>emotion_dict</th>\n",
       "      <th>emotion_vector</th>\n",
       "    </tr>\n",
       "  </thead>\n",
       "  <tbody>\n",
       "    <tr>\n",
       "      <th>56679</th>\n",
       "      <td>Wishbone Ash</td>\n",
       "      <td>Right Or Wrong</td>\n",
       "      <td>{'anger': 0.8817856907844543, 'sadness': 0.109...</td>\n",
       "      <td>[0.0047196513041853905, 0.0, 0.109413847327232...</td>\n",
       "    </tr>\n",
       "    <tr>\n",
       "      <th>224</th>\n",
       "      <td>Aerosmith</td>\n",
       "      <td>This Little Light Of Mine</td>\n",
       "      <td>{'joy': 0.8830875754356384, 'anger': 0.0850654...</td>\n",
       "      <td>[0.8830875754356384, 0.0, 0.015944965183734894...</td>\n",
       "    </tr>\n",
       "    <tr>\n",
       "      <th>32457</th>\n",
       "      <td>Fall Out Boy</td>\n",
       "      <td>Dance, Dance</td>\n",
       "      <td>{'love': 0.8936543464660645, 'joy': 0.04676710...</td>\n",
       "      <td>[0.04676710069179535, 0.8936543464660645, 0.04...</td>\n",
       "    </tr>\n",
       "    <tr>\n",
       "      <th>9167</th>\n",
       "      <td>Janis Joplin</td>\n",
       "      <td>Easy Rider</td>\n",
       "      <td>{'anger': 0.9330032467842102, 'joy': 0.0258607...</td>\n",
       "      <td>[0.025860704481601715, 0.0, 0.0233910940587520...</td>\n",
       "    </tr>\n",
       "    <tr>\n",
       "      <th>13270</th>\n",
       "      <td>Moody Blues</td>\n",
       "      <td>Peak Hour</td>\n",
       "      <td>{'joy': 0.8706589341163635, 'anger': 0.1037658...</td>\n",
       "      <td>[0.8706589341163635, 0.0, 0.016657516360282898...</td>\n",
       "    </tr>\n",
       "    <tr>\n",
       "      <th>...</th>\n",
       "      <td>...</td>\n",
       "      <td>...</td>\n",
       "      <td>...</td>\n",
       "      <td>...</td>\n",
       "    </tr>\n",
       "    <tr>\n",
       "      <th>20276</th>\n",
       "      <td>Used</td>\n",
       "      <td>Generation Throwaway</td>\n",
       "      <td>{'joy': 0.9516360759735107, 'fear': 0.02675172...</td>\n",
       "      <td>[0.9516360759735107, 0.0, 0.0, 0.0, 0.02675172...</td>\n",
       "    </tr>\n",
       "    <tr>\n",
       "      <th>21464</th>\n",
       "      <td>Who</td>\n",
       "      <td>Bucket T</td>\n",
       "      <td>{'joy': 0.913567304611206, 'anger': 0.07027292...</td>\n",
       "      <td>[0.913567304611206, 0.0, 0.009503941982984543,...</td>\n",
       "    </tr>\n",
       "    <tr>\n",
       "      <th>51282</th>\n",
       "      <td>Santana</td>\n",
       "      <td>America</td>\n",
       "      <td>{'joy': 0.9988148212432861, 'love': 0.00043445...</td>\n",
       "      <td>[0.9988148212432861, 0.0004344580229371786, 0....</td>\n",
       "    </tr>\n",
       "    <tr>\n",
       "      <th>56824</th>\n",
       "      <td>X</td>\n",
       "      <td>Burning House Of Love</td>\n",
       "      <td>{'sadness': 0.6608747243881226, 'anger': 0.233...</td>\n",
       "      <td>[0.0, 0.0, 0.6608747243881226, 0.0, 0.09542193...</td>\n",
       "    </tr>\n",
       "    <tr>\n",
       "      <th>280</th>\n",
       "      <td>Air Supply</td>\n",
       "      <td>I Don't Believe You</td>\n",
       "      <td>{'joy': 0.9975436329841614, 'sadness': 0.00076...</td>\n",
       "      <td>[0.9975436329841614, 0.0, 0.000768109166529029...</td>\n",
       "    </tr>\n",
       "  </tbody>\n",
       "</table>\n",
       "<p>1000 rows × 4 columns</p>\n",
       "</div>"
      ],
      "text/plain": [
       "             artist                       song  \\\n",
       "56679  Wishbone Ash             Right Or Wrong   \n",
       "224       Aerosmith  This Little Light Of Mine   \n",
       "32457  Fall Out Boy               Dance, Dance   \n",
       "9167   Janis Joplin                 Easy Rider   \n",
       "13270   Moody Blues                  Peak Hour   \n",
       "...             ...                        ...   \n",
       "20276          Used       Generation Throwaway   \n",
       "21464           Who                   Bucket T   \n",
       "51282       Santana                    America   \n",
       "56824             X      Burning House Of Love   \n",
       "280      Air Supply        I Don't Believe You   \n",
       "\n",
       "                                            emotion_dict  \\\n",
       "56679  {'anger': 0.8817856907844543, 'sadness': 0.109...   \n",
       "224    {'joy': 0.8830875754356384, 'anger': 0.0850654...   \n",
       "32457  {'love': 0.8936543464660645, 'joy': 0.04676710...   \n",
       "9167   {'anger': 0.9330032467842102, 'joy': 0.0258607...   \n",
       "13270  {'joy': 0.8706589341163635, 'anger': 0.1037658...   \n",
       "...                                                  ...   \n",
       "20276  {'joy': 0.9516360759735107, 'fear': 0.02675172...   \n",
       "21464  {'joy': 0.913567304611206, 'anger': 0.07027292...   \n",
       "51282  {'joy': 0.9988148212432861, 'love': 0.00043445...   \n",
       "56824  {'sadness': 0.6608747243881226, 'anger': 0.233...   \n",
       "280    {'joy': 0.9975436329841614, 'sadness': 0.00076...   \n",
       "\n",
       "                                          emotion_vector  \n",
       "56679  [0.0047196513041853905, 0.0, 0.109413847327232...  \n",
       "224    [0.8830875754356384, 0.0, 0.015944965183734894...  \n",
       "32457  [0.04676710069179535, 0.8936543464660645, 0.04...  \n",
       "9167   [0.025860704481601715, 0.0, 0.0233910940587520...  \n",
       "13270  [0.8706589341163635, 0.0, 0.016657516360282898...  \n",
       "...                                                  ...  \n",
       "20276  [0.9516360759735107, 0.0, 0.0, 0.0, 0.02675172...  \n",
       "21464  [0.913567304611206, 0.0, 0.009503941982984543,...  \n",
       "51282  [0.9988148212432861, 0.0004344580229371786, 0....  \n",
       "56824  [0.0, 0.0, 0.6608747243881226, 0.0, 0.09542193...  \n",
       "280    [0.9975436329841614, 0.0, 0.000768109166529029...  \n",
       "\n",
       "[1000 rows x 4 columns]"
      ]
     },
     "execution_count": 71,
     "metadata": {},
     "output_type": "execute_result"
    }
   ],
   "source": [
    "new_data['emotion_dict'] = new_data['text'].apply(get_emotions)\n",
    "new_data['emotion_vector'] = new_data['emotion_dict'].apply(to_emotion_vector)\n",
    "new_data[['artist', 'song', 'emotion_dict', 'emotion_vector']]"
   ]
  },
  {
   "cell_type": "markdown",
   "id": "50aa9c9b",
   "metadata": {},
   "source": [
    "### Кластеризация песен по их эмоциональным вектором с помощью алгоритма K-Means\n",
    "\n",
    "K-Means разбивает все данные на K кластеров (в нашем случае на 6) так, чтобы объекты внутри каждой группы были максимально похожи друг на друга и отличались от объектов из других групп."
   ]
  },
  {
   "cell_type": "code",
   "execution_count": 72,
   "id": "e916626e",
   "metadata": {},
   "outputs": [
    {
     "data": {
      "application/vnd.microsoft.datawrangler.viewer.v0+json": {
       "columns": [
        {
         "name": "index",
         "rawType": "int64",
         "type": "integer"
        },
        {
         "name": "artist",
         "rawType": "object",
         "type": "string"
        },
        {
         "name": "song",
         "rawType": "object",
         "type": "string"
        },
        {
         "name": "text",
         "rawType": "object",
         "type": "string"
        },
        {
         "name": "emotion_dict",
         "rawType": "object",
         "type": "unknown"
        },
        {
         "name": "emotion_vector",
         "rawType": "object",
         "type": "unknown"
        },
        {
         "name": "cluster",
         "rawType": "int32",
         "type": "integer"
        }
       ],
       "conversionMethod": "pd.DataFrame",
       "ref": "3d0bdf5b-5aa1-4710-9cfd-554b418e4c58",
       "rows": [
        [
         "56679",
         "Wishbone Ash",
         "Right Or Wrong",
         "Like to have you 'round  \nWith all the lies that you make  \nThe things or darkness and you  \nSome people say, have just a taste  \nRight or wrong, you might get burned  \nWhat you gain is what you learn  \n  \nGot one too many women  \nDon't know quite which way to go  \nThey're all gettin' so expensive  \nWhen they walk by themselves  \nRight or wrong, don't regret  \nWhat you went for is what you get  \n  \nNo point in bitter tears  \nWhen someone else has cut you down  \n'Cause there's a time for leavin'  \nAnd there's a time for stickin' around, hey  \nRight or wrong, you've got to live  \nSo what you collect is what you give\n\n",
         "{'anger': 0.8817856907844543, 'sadness': 0.10941384732723236, 'joy': 0.0047196513041853905}",
         "[0.0047196513041853905, 0.0, 0.10941384732723236, 0.0, 0.0, 0.8817856907844543, 0.0]",
         "5"
        ],
        [
         "224",
         "Aerosmith",
         "This Little Light Of Mine",
         "This Little Light of Mine (Light of Mine),  \nI'm Let it shine (Aleilujah),  \nThis Little Light of Mine, I'm gonna let it shine,  \n  \nDown in my heart (In my heart),  \nI'm gonna let it shine (Aleilujah)  \nDown in my heart (In My heart)  \nI'm gonna let it, let it shine.  \n  \nAll over the world (All over the world),  \nI'm gonna let it shine (Let it shine, let it shine let it shine)  \nLet it shine, let it shine, let it shine, let it shine\n\n",
         "{'joy': 0.8830875754356384, 'anger': 0.08506548404693604, 'sadness': 0.015944965183734894}",
         "[0.8830875754356384, 0.0, 0.015944965183734894, 0.0, 0.0, 0.08506548404693604, 0.0]",
         "0"
        ],
        [
         "32457",
         "Fall Out Boy",
         "Dance, Dance",
         "She says she's no good with words but I'm worse  \nBarely stuttered out  \nA joke of a romantic stuck to my tongue  \nAnd weighed down with words too overdramatic  \nTonight it's \"it can't get much worse\"  \nVs. \"no one should ever feel like..\"  \n  \nI'm two quarters and a heart down  \nAnd I don't want to forget how your voice sounds  \nThese words are all I have so I write them  \nI need them just to get by  \n  \nDance, dance  \nWe're falling apart to half time  \nDance, dance  \nAnd these are the lives you love to lead  \nDance this is the way they'd look  \nIf they knew how misery loved me  \n  \n  \nYou always fold just before you're found out  \nDrink up its last call  \nLast resort  \nBut only the first mistake and I  \n  \nI'm two quarters and a heart down  \nAnd I don't want to forget how your voice sounds  \nThese words are all I have so I write them  \nI need them just to get by  \n  \nWhy don't you show me a little bit of spine  \nYou've been saving for his mattress (love)  \n  \nDance, dance  \nWe're falling apart to half time  \nDance, dance  \nAnd these are the lives you love to lead  \nDance this is the way they'd look  \nIf they knew how misery loved me  \n  \nWhy don't you show me a little bit of spine  \nYou've been saving for his mattress (with love)  \nI only want sympathy in the form of you crawling into bed with me  \n  \nDance, dance, we're falling apart to half time  \nDance, dance, and these are the lives you love to lead  \nDance this is the way they'd look  \nIf they knew how misery loved me\n\n",
         "{'love': 0.8936543464660645, 'joy': 0.04676710069179535, 'sadness': 0.04499901458621025}",
         "[0.04676710069179535, 0.8936543464660645, 0.04499901458621025, 0.0, 0.0, 0.0, 0.0]",
         "3"
        ],
        [
         "9167",
         "Janis Joplin",
         "Easy Rider",
         "Hey mama, mama, come a look at sister,  \nShe's a-standing on the levee trying to do that twist,  \nBut easy rider don't you deny my name,  \nOh no, oh no.  \nWell, I got a girl with a diamond ring,  \nI'll tell you, boys, she knows how to shake that thing.  \nOh! Easy rider don't you deny my name,  \nOh no, oh no.  \nPlay it!  \nWell, I got a horse and he lives in a tree,  \nHe watches Huckleberry Hound on his tv.  \nBut easy rider don't you deny my name,  \nOh no, oh no.  \nI would buy you a plastic suit  \nAnd I would even buy you some cardboard fruit.  \nOh! But easy rider don't you deny my name,  \nOh no, oh no.  \nYeah, easy rider, don't you deny my name, pretty baby doll  \nI said, easy rider, don't you deny my name, pretty baby doll  \nI said, easy rider, don't you deny my name, pretty baby doll  \nI said, easy rider, don't you deny my name, pretty baby...\n\n",
         "{'anger': 0.9330032467842102, 'joy': 0.025860704481601715, 'sadness': 0.02339109405875206}",
         "[0.025860704481601715, 0.0, 0.02339109405875206, 0.0, 0.0, 0.9330032467842102, 0.0]",
         "5"
        ],
        [
         "13270",
         "Moody Blues",
         "Peak Hour",
         "I see it all through my window it seems.  \nNever failing, like millions of eels.  \nAll that is wrong,  \nNo time to be won.  \nOnly to do  \nWhat can be done.  \nPeak hour,  \nPeak hour,  \nPeak hour.  \nMinds are subject to what should be done.  \nProblem solved, time cannot be won.  \nOne hour a day,  \nOne hour a night  \nSees crowds of people  \nHome-aimed for flight.  \nPeak hour,  \nPeak hour,  \nPeak hour.  \nIt makes me want to run out and tell them  \nThey've got time.  \nTake a step back out and warn them  \nI've found out I've got time.  \nMinds are subject to what should be done.  \nProblem solved, time cannot be won.  \nOne hour a day,  \nOne hour a night  \nSees crowds of people  \nHome-aimed for flight.  \nPeak hour,  \nPeak hour,  \nPeak hour.\n\n",
         "{'joy': 0.8706589341163635, 'anger': 0.10376585274934769, 'sadness': 0.016657516360282898}",
         "[0.8706589341163635, 0.0, 0.016657516360282898, 0.0, 0.0, 0.10376585274934769, 0.0]",
         "0"
        ],
        [
         "33265",
         "Gary Numan",
         "Crazier",
         "The more I take a look inside, the more I'm fried  \nThe more I understand the ride, the more I slide  \nThe more you put me back in line, the more I tried  \nThe more you looked into my eyes, the more you lied  \nI come back crazier, but feel much better  \nYou come back crazier, you'll feel better  \nThe more I disregard the signs, the more I fly  \nThe more I walk across the lines, the more I glide  \nYou come back crazier, but feel much better  \nYou come back crazier, you'll feel better  \nYou come back crazier, but feel much better  \nYou come back crazier, you'll feel better  \n  \n\n",
         "{'joy': 0.997892439365387, 'sadness': 0.0008832535240799189, 'anger': 0.00035838622716255486}",
         "[0.997892439365387, 0.0, 0.0008832535240799189, 0.0, 0.0, 0.00035838622716255486, 0.0]",
         "0"
        ],
        [
         "47395",
         "Pat Benatar",
         "Temptation",
         "We got it all but it ain't enough  \nNo, we're never ever happy with what we got  \nI see that look on your face, you know I've seen that look before  \nDon't you be fooled baby, you gonna show  \nIt's just Temptation, Whoa... Temptation  \nTemptation Whoa... Must be Temptation  \n  \nToo far to fall but we always do  \nThough we swore in our hearts to be true  \nYou say that hand that your holdin' feels a little cold sometime  \nBaby sooner or later, you're gonna find that true love..  \n  \nIs just like Temptation, Whoa... Temptation  \nTemptation Whoa... Feels like Temptation  \nNow listen here... Whoa... Temptation  \nWhoa... Temptation Whoa....  \n  \nWe want it all and we want it fast  \nNo time to think, no time to ask  \nBut you know that road that we're on don't always lead to happiness  \nYou can count on it baby  \nIt's a pretty good guess now all we got  \n  \nIs just Temptation, Whoa... Temptation  \nTemptation Whoa... Feels like Temptation  \nTemptation Whoa... Looks like Temptation  \nTemptation -- Must be Temptation Yeah\n\n",
         "{'anger': 0.9950315952301025, 'fear': 0.0019453208660706878, 'joy': 0.0010609899181872606}",
         "[0.0010609899181872606, 0.0, 0.0, 0.0, 0.0019453208660706878, 0.9950315952301025, 0.0]",
         "5"
        ],
        [
         "44707",
         "'n Sync",
         "Kiss Me At Midnight",
         "Kiss me at midnight  \n5...4...3...2...1  \nKiss me at midnight  \nDance into the morning light  \nParty into the new year  \nAll of my friends are here and when the time is right  \nKiss me at midnight (kiss)  \n  \nI've been waiting for this special night  \nTo be with you  \nThe colors of Christmas are still shining bright  \nAnd I know what we're gonna do  \n  \nAnticipating  \nMusic is playing  \nThe magic is in the air  \nAll through the season  \nYou've been the reason  \nI have so much love to share  \n  \nKiss me at midnight  \nDance into the morning light  \nParty into the new year  \nAll of my friends are here and when the time is right  \nKiss me at midnight (kiss)  \n  \nWe've been making promises in the dark  \nOur resolutions  \nAs a brand new year is about to start  \nAnd we're together  \nCelebrating  \nNo more waiting  \nOur time has arrived  \nFeel the beat of my heart  \nAs the countdown starts  \nJust look into my eyes  \n  \nKiss me at midnight  \nDance into the morning light  \nParty into the new year  \nAll of my friends are here and when the time is right  \nKiss me at midnight (kiss)  \n  \nBaby it's New Years Eve  \nA time we can believe  \nIn making wishes  \nDreams come true  \nJust for me and you  \n  \nKiss me at midnight  \nDance into the morning light  \nParty into the new year  \nAll of my friends are here and when the time is right  \nKiss me at midnight (kiss)  \nKiss me at midnight  \nDance into the morning light  \nParty into the new year  \nAll of my friends are here and when the time is right  \nKiss me at midnight (kiss)\n\n",
         "{'joy': 0.9949157238006592, 'love': 0.003832531161606312, 'anger': 0.00043673536856658757}",
         "[0.9949157238006592, 0.003832531161606312, 0.0, 0.0, 0.0, 0.00043673536856658757, 0.0]",
         "0"
        ],
        [
         "51614",
         "Sia",
         "Little Black Sandals",
         "I'm being dragged down, down by the hand  \nThe hand of a golden giant man  \nHe's crushing my knuckles  \nSplitting my skin, he says he will  \nIf only I'd ask it of him  \n  \nHe says  \nGirl, it's your call  \nYou wanna fly  \nYou wanna fall  \nSo I shout  \nI wanna get away from you  \nAs fast as I can  \nI tell my feet to move it  \nI hope they have a plan  \n  \n[Chorus]  \nThese little black sandals  \nAre walking me away  \nThese little black sandals  \nAre heading the right way  \nThese little black sandals  \nAre walking me away  \nThese little black sandals  \nSaved my life today  \n  \nSo now I'm free  \nFree  \nFrom the big bad giant  \n  \nWho was stalking me  \nThank you feet, for guiding me  \nI'm glad somehow I got brains down there, at least  \n  \n[Chorus]  \n  \nSometimes I'm tempted  \nSometimes I am  \nI would be lying if I said I didn't miss that giant man  \nHe was the line between pleasure and pain  \nBut me and the feet have some years to reclaim  \n  \n[Chorus]\n\n",
         "{'joy': 0.7083041667938232, 'anger': 0.25340545177459717, 'love': 0.01975947804749012}",
         "[0.7083041667938232, 0.01975947804749012, 0.0, 0.0, 0.0, 0.25340545177459717, 0.0]",
         "0"
        ],
        [
         "35076",
         "Hank Snow",
         "I Keep Dreaming Of You All The Time",
         "In my dreams an old friend came to see you  \nRight from the start he was the stealing kind  \nYou'll never know how much it hurt me darling  \nThe night you left his loving on your mind  \nI keep dreaming of you all the time  \nThen and only then you're really mine  \nThere's sadness when you go away and I face another day  \nYet I keep dreaming of you all the time  \n[ fiddle ]  \nLast night again I dreamed we were together  \nI held you close the way I used to do  \nI kissed your lips and said I found my heaven  \nYou whispered low how much you love me too  \nI keep dreaming of you...  \n  \n  \n\n",
         "{'sadness': 0.5550774335861206, 'love': 0.32233184576034546, 'fear': 0.07728689908981323}",
         "[0.0, 0.32233184576034546, 0.5550774335861206, 0.0, 0.07728689908981323, 0.0, 0.0]",
         "2"
        ],
        [
         "42741",
         "Marianne Faithfull",
         "Blood In My Eyes",
         "Woke up this morning, feeling blue  \nSeen a good looking girl, can I make love with you  \nHey, hey, babe, I got blood in my eyes for you  \nHey, hey, babe, I got blood in my eyes for you  \nI got blood in my eyes for you, baby  \nI don't care what in the world you do.  \n  \nI went back home, put on my tie  \nGonna get that girl that money will buy  \nHey, hey, babe, I got blood in my eyes for you  \nHey, hey, babe, I got blood in my eyes for you  \nI got blood in my eyes for you, baby  \nI don't care what in the world you do.  \n  \nShe looked at me, begin to smile  \nSaid, \"Hey, hey, man, can't you wait a little while?\"  \nNo, no babe, I got blood in my eyes for you  \nNo, no babe, I got blood in my eyes for you  \nGot blood in my eyes for you, baby  \nI don't care what in the world you do.  \n  \nNo, no, ma'am, I can't wait  \nYou got my money, now you're trying to break this date  \nHey, hey, babe, I got blood in my eyes for you  \nHey, hey, babe, I got blood in my eyes for you  \nGot blood in my eyes for you, baby  \nI don't care what in the world you do.  \n  \nI'll tell you something, tell you the facts  \nYou don't want to give my money back  \nHey, hey, babe, I got blood in my eyes for you  \nHey, hey, babe, I got blood in my eyes for you  \nI got blood in my eyes for you, baby  \nI don't care what in the world you do\n\n",
         "{'joy': 0.8359001874923706, 'anger': 0.12944141030311584, 'sadness': 0.021330654621124268}",
         "[0.8359001874923706, 0.0, 0.021330654621124268, 0.0, 0.0, 0.12944141030311584, 0.0]",
         "0"
        ],
        [
         "49532",
         "Queensryche",
         "I Am I",
         "Beating with life you promised life,  \nSecurity, happiness.  \nUnfortunate son cornered,  \nCowering in the pit of  \nCircling panes of glass that  \nSurround and reveal the ever present \"It\".  \n  \n\"It\" is my move, my every look,  \nInterpreting gestures,  \nInforming other  \nWhat's undercover and  \nLurking beneath my mask  \nOf this year's featured model.  \nIs this too much?  \nClose your eyes.  \nCare to look inside? I am I!  \n  \nWhat may appear  \nMight easily be explained,  \nBut given the situation  \nOf info saturation,  \nWhat you feel can never go away.  \n  \nSteering perception? I am!  \nInviting contradiction? I am!  \nIt's my insistence  \nYou keep your distance  \nFrom the glare behind my stare.  \nSo this is the way  \nThe game is played.  \nYou can leave now...  \nBut I think you'll stay. I am I!\n\n",
         "{'sadness': 0.5386090278625488, 'anger': 0.3485746681690216, 'joy': 0.0781654343008995}",
         "[0.0781654343008995, 0.0, 0.5386090278625488, 0.0, 0.0, 0.3485746681690216, 0.0]",
         "2"
        ],
        [
         "42071",
         "Lou Reed",
         "Hold On",
         "There's blacks with knives and whites with guns  \nfighting in Howard Beach  \nThere's no such thing as human rights  \nwhen you walk the N.Y. streets  \nA cop was shot in the head by a 10 year old kid named Buddah in  \nCentral Park last week  \nThe fathers are lined up by  \nthe coffins by the Statue of Bigotry  \nYou better hold on something's happening here  \nYou better hold on---meet you in Tompkins Square  \nThe dopers sent a message to the cops last weekend  \nThey shot him in the car where he sat  \nAnd Eleanor Bumpres and Michael Stewart must have appreciated that  \nThere's a rampaging rage rising up like a plague of bloody vials  \nwashing up on the beach  \nIt'll take more than the Angels or Iron Mike Tyson  \nto heal this bloody breach  \nA junkie ran down a lady a pregnant dancer  \nshe'll never dance but the baby was saved  \nHe shot up some China White and nodded out at the wheel  \nand he doesn't even remember a thing  \nThey shot that old lady  \n'cause they thought she was a witness  \nto a crime she didn't even see  \nWhose home is the home of the brave by the Statue of Bigotry  \nYou got a black .38 and a gravity knife  \nYou still have to ride the train  \nThere's the smelly essence of N.Y. down there  \nbut you ain't no Bernard Goetz  \nThere's no Mafia lawyer  \nto fight in your corner  \nfor that 15 minutes of fame  \nThe have and the have nots are bleeding in the tub  \nThat's New York's future not mine  \nOh you better hold on---something's happening here.  \n\n",
         "{'anger': 0.961238443851471, 'sadness': 0.016290249302983284, 'fear': 0.011836996302008629}",
         "[0.0, 0.0, 0.016290249302983284, 0.0, 0.011836996302008629, 0.961238443851471, 0.0]",
         "5"
        ],
        [
         "21940",
         "Yello",
         "Pinball Cha Cha",
         "Welcome  \nIn Lucy's Bar  \nHey you gentlemen over there  \nCome on closer  \nSee me play  \nThe sensational game  \nIt's the only thing I've got in my life  \nAnd I play it every day  \nAnd, well, believe it or not,  \nIt's just, pinball  \nAnd for me it's  \nClaro Que Si  \nClaro Que Si  \n  \nCome, come close to me  \nI tell you man you will see  \nI'm like happy tree  \nCome close and then you will see  \n  \nEvery ball for me's another game  \nFor you this always looks the same  \nEvery ball for me's another game  \nFor you this always looks the same  \n  \nHey you, man you watch me  \nMight be right I am a fool  \nBut man why don't you tell me  \nIf you know a better tool  \n  \nAll the gates are lit  \nThis is very good for me  \nIt's like a kiss  \nWatch out man and you will see  \nNow all lights are on  \nBelieve me man that I have won  \nI know for you this doesn't look a lot  \nFor me this is the only thing I got  \n  \nI really couldn't care less  \nIf you take me a for a fool  \nI know you couldn't show me  \nAny better tool  \n  \nOy oy oy  \nI like my toy  \nClaro que si  \nIs yes for sure  \nOy oy oy  \nI like my toy  \nA knack inside  \nI win another game  \nI press the button and it's not the same\n\n",
         "{'joy': 0.9969127178192139, 'anger': 0.0010325778275728226, 'sadness': 0.0007553978357464075}",
         "[0.9969127178192139, 0.0, 0.0007553978357464075, 0.0, 0.0, 0.0010325778275728226, 0.0]",
         "0"
        ],
        [
         "35738",
         "Helloween",
         "Kill It",
         "I'm your maker  \nMold your mind  \nIdea-creator  \nBias from behind  \n  \nPeople never wonder  \nHow the world goes round  \nThey who care go under  \nThat's what I'm about  \n  \nI kill it, kill it, kill it  \nKill it, kill it  \nCare must die  \nKill it, kill it, kill it  \nWhat we can't tie  \nWhat we can't buy  \nMust die  \n  \nI'm soul hunter  \nOf the might  \nUpright hatemonger  \nAngel of the blind  \n  \nPeople never wonder  \nHow the world goes round  \nThey who care go under  \nThat's what I'm about  \n  \nI kill it, kill it, kill it  \nKill it, kill it  \nCare must die  \nKill it, kill it, kill it  \n  \nPeople never wonder  \nHow the world goes round  \nThey who know must follow  \nThey who don't die bound  \n  \nI pay billions  \nAll got a price  \nPlain corruption  \nNo roll of the dice  \n  \nPeople never wonder  \nHow the world goes round  \nThey who care go under  \nThat's what I'm about  \n  \nI kill it, kill it, kill it  \nKill it, kill it  \nCare must die  \nKill it, kill it, kill it  \nWhat we can't tie  \nWhat we can't buy  \nMust die\n\n",
         "{'anger': 0.9296579957008362, 'joy': 0.042732954025268555, 'sadness': 0.014058763161301613}",
         "[0.042732954025268555, 0.0, 0.014058763161301613, 0.0, 0.0, 0.9296579957008362, 0.0]",
         "5"
        ],
        [
         "40933",
         "Kyla",
         "I Feel For You",
         "Something inside,  \nMy heart,  \nAnd it feels like magic,  \nIt's changing my life.  \nSince you came to me,  \nEverything is so bright I see  \nYou touched my heart,  \nAnd gave me love so real.  \nThis time around I wanna let it show  \nThere's something special,  \nIn my heart you ought to know  \nI feel for you,  \nI mean I truly love you  \nIn my heart and in my soul  \nYou are my love  \nYou are my all  \nI feel for you  \nI mean always love you  \nBecause to me  \nYou are a dream  \nCome true  \nLove grows  \nEveryday  \nAnd it's hard to deny it  \nYou inspire me all the way  \nThe joy you bring  \nMakes my heart keep on singing  \nAnd all I wanna do  \nIs to remain close to you  \nThis time around I wanna let it show  \nThere's something special  \nIn my heart you ought to know  \nI feel for you  \nI mean I truly love you  \nIn my heart and in my soul  \nYou are my love you are my all  \nI feel for you  \nI mean I'll always love you  \nBecause to me you are a dream  \nCome true  \nYou are my angel in disguise  \nYou are the reason I survive  \nWith you each moment is worthwhile  \nYou make me smile  \nAnd if without you  \nSurely I cry  \nI feel for you  \nI mean I truly love you  \nIn my heart and in my soul  \nYou are my love you are my all  \nI feel for you  \nI mean I'll always love you  \nBecause to me you are a dream(3x)  \nThat's what I feel for you...  \n\n",
         "{'joy': 0.9985818862915039, 'love': 0.0007148247095756233, 'sadness': 0.00025000888854265213}",
         "[0.9985818862915039, 0.0007148247095756233, 0.00025000888854265213, 0.0, 0.0, 0.0, 0.0]",
         "0"
        ],
        [
         "14526",
         "O.A.R.",
         "Dareh Meyod",
         "Tuesday's coming my baby  \nI told you Wednesday morning  \nIt's not too late for us  \nMy bags aren't out the door baby  \ndon't you know life's a feeling  \nBut without you it's nothing  \nIt's not too late for us  \nMy bags aren't out the door baby  \nTuesday's coming and  \nI'm not gonna leave you here darling  \n  \nIt's a shame you can't hear me  \nScream my lungs out believe me  \nThe miles burn me up  \nI'm living just to watch your fire darling  \nI'm headed out for the road now  \nThe engines hold me while sleeping  \nA road might take me away  \nBut its sure enough to bring me home baby  \nTuesday's coming  \nAnd I'm not gonna leave you here darling  \n  \nTuesday's coming.\n\n",
         "{'sadness': 0.5754299759864807, 'joy': 0.2532557249069214, 'anger': 0.12945061922073364}",
         "[0.2532557249069214, 0.0, 0.5754299759864807, 0.0, 0.0, 0.12945061922073364, 0.0]",
         "2"
        ],
        [
         "23213",
         "Alabama",
         "Right Where I Am",
         "Subways runnin' under the city  \nCondos reachin' to the sky  \nEach of this own, but I feel at home  \nStanding on this mountain high  \n  \nAnd right where I am  \nIs where I want to be  \nIt's all I want  \nIt's all I need  \nForever in your arms  \nIt's alright with me  \n'Cause right where I am's where I want to be  \n  \nTalk on the cell phone, checkin' her e-mail  \nThe fax is a way of life  \nShe's shoppin' at home with QVC on  \nAnd surfin' on-line  \n  \nAnd right where I am  \nIs where I want to be  \nIt's all I want  \nIt's all I need  \nForever in your arms  \nIt's alright with me  \n'Cause right where I am's where I want to be  \n  \nSatellite feed out in the country  \nOh what a way of life  \nTurn off the tv  \nShut down the pc  \nAnd click off the world tonight  \n  \nAnd right where I am  \nIs where I want to be  \nIt's all I want  \nIt's all I need  \nForever in your arms  \nIt's alright with me  \n'Cause right where I am's where I want to be  \n  \nYeah  \nRight where I am  \nWhere I want to be  \n  \nSubways runnin' under the city  \nSatellite feed out in the country  \nEach to his own I feel at home  \nStandin' on this mountain high  \nRight where I am  \nRight where I am, where I want to be  \nWhere I want to be\n\n",
         "{'joy': 0.9906345009803772, 'anger': 0.0035792572889477015, 'sadness': 0.00247771292924881}",
         "[0.9906345009803772, 0.0, 0.00247771292924881, 0.0, 0.0, 0.0035792572889477015, 0.0]",
         "0"
        ],
        [
         "56354",
         "Who",
         "It's Hard",
         "Any tough can fight, few can play  \nAny tough can fight, few can play  \nAny fool can fall, few can lay  \nAny fool can fall, few can lay  \nAny stud can reproduce, few can please  \nAny stud can reproduce, few can please  \nAnyone can pay, few can lease  \nAnyone can pay, few can lease  \n  \nIt's hard  \nIt's hard  \n(It's a hard, hard hand to hold  \n(it's a hard, hard hand to hold  \nIt's a hard land to control)  \nIt's a hard land to control)  \n  \nAny man can claim, few can find  \nAny man can claim, few can find  \nAny girl can blink, few can lie  \nAny girl can blink, few can lie  \nAnyone can promise, few can raise  \nAnyone can promise, few can raise  \nAnyone can try, but a few can stay  \nAnyone can try, but a few can stay  \n  \nAny brain can hide, few can stand  \nAny brain can hide, few can stand  \nAny kid can fly, few can land  \nAny kid can fly, few can land  \nAny gang can scatter, few can form  \nAny gang can scatter, few can form  \nAny kid can chatter, few can inform  \nAny kid can chatter, few can inform  \n  \nIt's hard  \nIt's very, very, very, very hard, so very hard  \nIt's hard  \nIt's very, very, very, very hard, so very hard  \n  \nIt's hard  \nIt's hard  \n(It's a hard, hard hand to hold  \n(It's a hard, hard hand to hold  \nIt's a hard land to control)  \nIt's a hard land to control)  \n  \nAny soul can sleep, few can die  \nAny soul can sleep, few can die  \nAny wimp can weep, few can cry  \nAny wimp can weep, few can cry  \nEveryone complains, few can state  \nEveryone complains, few can state  \nAnyone can stop, few can wait  \nAnyone can stop, few can wait  \n  \nIt's hard  \nIt's very, very, very, very hard, so very hard  \nIt's hard  \nIt's very, very, very, very hard, so very hard  \n  \nAnyone can do anything if they hold the right card  \nAnyone can do anything if they hold the right card  \nSo, I'm thinking about my life now  \nSo, I'm thinking about my life now  \nI'm thinking very hard  \nI'm thinking very hard  \nDeal me another hand, Lord, this one's very hard  \nDeal me another hand, Lord, this one's very hard  \nDeal me another hand, Lord, this one's very hard  \nDeal me another hand, Lord, this one's very hard\n\n",
         "{'anger': 0.8786942958831787, 'joy': 0.052629899233579636, 'sadness': 0.049386799335479736}",
         "[0.052629899233579636, 0.0, 0.049386799335479736, 0.0, 0.0, 0.8786942958831787, 0.0]",
         "5"
        ],
        [
         "10045",
         "Justin Timberlake",
         "Hallelujah",
         "Well I heard there was a secret chord  \nThat David played, and it pleased the lord  \nBut you don't really care for music, do ya?  \n  \nWell it goes like this, the fourth, the fifth  \nThe minor fall and the major lift  \nThe baffled king composing hallelujah  \n  \nHallelujah, hallelujah, hallelujah, hallelujah  \n  \nYour faith was strong but you needed proof  \nYou saw her bathing on the roof  \nHer beauty and the moonlight overthrew you  \nShe tied you to a kitchen chair  \nShe broke your throne, she cut your hair  \nAnd from your lips she drew the hallelujah  \n  \nHallelujah, hallelujah, hallelujah, hallelujah  \n  \nMaybe there's a god above  \nAll I ever learned from love  \nWas how to shoot somebody who outdrew you  \nAnd it's not a cry you can hear at night  \nNot somebody who's seen the light  \nIt's a cold and it's a broken hallelujah  \n  \nHallelujah, hallelujah, hallelujah, hallelujah  \n  \nHallelujah\n\n",
         "{'fear': 0.8764322996139526, 'anger': 0.10814370214939117, 'surprise': 0.010056848637759686}",
         "[0.0, 0.0, 0.0, 0.010056848637759686, 0.8764322996139526, 0.10814370214939117, 0.0]",
         "4"
        ],
        [
         "57386",
         "Yoko Ono",
         "Light On The Other Side",
         "When I come to the dock and sit very still,  \nI wonder why on earth we fight and kill.  \nI see a light on the other side flickering to me,  \nAs if to say, you're alright, you'll find your way.  \n  \nThe world is so beautiful when I'm out here,  \nWhy can't it be the same when we're back there?  \n  \nAbove my head, straight ahead,  \nI see a bird gliding  \nAs if to say, I'm alright, I'll find my way.  \n  \nWindows are shattered,  \nStreets are battered,  \nKids are frightened,  \nMen are still at war.  \n  \nMoms are feeling sad,  \nDads are feeling bad.  \nI wanna know, I wanna know  \nIf the world's gone mad.  \n  \nAbove my head, straight ahead,  \nI see a bird gliding  \nAs if to say, I'm alright, I'll find my way.\n\n",
         "{'sadness': 0.9987236857414246, 'joy': 0.0004569442826323211, 'love': 0.00027367047732695937}",
         "[0.0004569442826323211, 0.00027367047732695937, 0.9987236857414246, 0.0, 0.0, 0.0, 0.0]",
         "2"
        ],
        [
         "31581",
         "Engelbert Humperdinck",
         "Say Goodnight",
         "When I say goodnight in your little room  \nAh, that's the time I love you best of all  \nWhen I say goodnight in your little room  \nThe shadow of your smile is on the wall  \nBut I can see the reason, it's just your way of teasin'  \nBut my, oh, my, my, my, I'll take it all  \nWhen I say goodnight in your little room  \nThe only place where we can be alone  \nWhen I say goodnight in your little room  \nTo hold you close this way, you say is wrong  \nBut I can see no reason, why you should keep on teasin'  \nIf you don't stop, our love just can't go on  \nBut I can see no reason, why you should keep on teasin'  \nWhy can't we let the night just linger on  \n\n",
         "{'sadness': 0.963361382484436, 'anger': 0.023872418329119682, 'joy': 0.006793926004320383}",
         "[0.006793926004320383, 0.0, 0.963361382484436, 0.0, 0.0, 0.023872418329119682, 0.0]",
         "2"
        ],
        [
         "13656",
         "Ne-Yo",
         "Not Strong Enough",
         "First let me say, I know it's late  \nGirl I can tell you were sleeping  \nSo sorry to wake you, but what I'ma say to you tonight  \nGirl it just couldn't wait, no, not one more day  \nNo, not one more hour  \nMmm, we've been a... Some time, you went your way I went mine  \nMy manhood won't let me cry  \nBut you act like I'm alright is something I just can't do  \nSomething I just can't do  \nKeep it... That I'm walking without you  \nSo, something I just can't do  \nWhat if I could, I'm just not strong enough to, whoa  \nNot strong enough to who  \nKeep lying to you, babe,  \nI'm just not strong enough to, girl, girl, girl, girl, girl  \n  \nI can see you looking at me,  \nYou're thinking too little too late  \nCause it was me that said that we shouldn't be  \nBut that was before I could think straight  \nMy pride, it made me lie, lie, lie  \nTo you and to myself about what I need  \nSo now I walk around with this lie, truly dying inside  \nActing like I'm just fine, it's something I just can't do  \nSomething just I can't do, keep pretending  \nThat I'm okay without, just said something I just can't do  \nSomething I just can't do  \nWhat if could I'm just no strong enough to, whoa  \nNot strong enough to who  \nKeep lying to you, babe,  \nI'm just not strong enough to, girl, girl, girl, girl, girl  \n  \nSaid I'm trying to be honest, then making you a promise  \nI'm gonna be true to you  \nCause me trying to deny that without you I would die  \nSomething I just can no longer do  \nSaid I'm trying to be honest, then making you a promise  \nI'm gonna be true to you  \nCause me trying to deny that without you I would die  \nSomething I just can no longer do  \n  \nHey, hey, oho, oho, oho, hey  \nHey, hey, oho, oho, oho, hey\n\n",
         "{'joy': 0.9912915825843811, 'sadness': 0.005942258518189192, 'anger': 0.0011308856774121523}",
         "[0.9912915825843811, 0.0, 0.005942258518189192, 0.0, 0.0, 0.0011308856774121523, 0.0]",
         "0"
        ],
        [
         "11061",
         "Kylie Minogue",
         "If I Was Your Lover",
         "You take a piece of me every time you leave  \nAnd never realize the way I feel about you  \nBut my tongue gets tied and my mouth gets dry  \nI wanna tell you but I don't know how to  \n  \nSo every night I dream (I dream)  \nHope and pray and believe  \nThat someday you'll be mine (I know)  \nWe'll live in ectascy - the world for you and me  \n  \nOne love - one life  \nEverything would be alright if I was your lover  \nOne soul - one mind  \nEverything could be so right if I was your lover  \n  \nAnother day goes by and I'd lose my mind  \nIf I didn't know that you were meant for me  \nUnder moonlit night, when the time is right  \nYou'll hold me in your arms from then on to infinity  \n  \nAnd every night I'll dream (I dream)  \nHope and pray and believe  \nSo happy that you're mine (I know)  \nWe'll live in ectascy - the world for you and me  \n  \nOne love - one life  \nEverything would be alright if I was your lover  \nOne soul - one mind  \nEverything could be so right if I was your lover  \n\n",
         "{'joy': 0.9928922653198242, 'love': 0.0029009240679442883, 'sadness': 0.002039652317762375}",
         "[0.9928922653198242, 0.0029009240679442883, 0.002039652317762375, 0.0, 0.0, 0.0, 0.0]",
         "0"
        ],
        [
         "476",
         "Alice Cooper",
         "Be With You Awhile",
         "I wish I could tell you something you didn't know  \nI wish I could give you something you didn't owe  \nI wish I could tell you a joke to make you smile  \nAnd I could be with you awhile  \n  \nJust want to be that someone you weren't looking for  \nSome nameless fascination that showed up at your door  \nAnd when you're sad and blue my jokes still make you smile  \nAnd I could be with you awhile  \n  \nI just want to take you somewhere you haven't been  \nFind an old time movie where we don't know the end  \nLost in the radio, drive another mile  \nSo I could be with you awhile  \n  \nJust want to be that someone you weren't looking for  \nSome nameless fascination that showed up at your door  \nAnd when you're sad and blue my jokes still make you smile  \nAnd I could be with you awhile  \n  \nTired of serious conversation  \nTangled up in situations  \nI feel so free 'cause you want nothing from me  \n  \nJust want to be that someone you weren't looking for  \nSome hopeless vagabond asleep there on your floor  \nAnd when you're old and gray my jokes still make you smile  \nAnd I could be with you awhile  \nJust want to be that someone you weren't looking for  \nSome nameless fascination that showed up at your door  \nAnd when you're old and gray my jokes still make you smile  \nAnd I could be with you awhile  \nI just want to be with you awhile  \nI just want to be with you awhile  \nI just want to be with you....\n\n",
         "{'joy': 0.996441662311554, 'sadness': 0.0016645160503685474, 'anger': 0.0006681607919745147}",
         "[0.996441662311554, 0.0, 0.0016645160503685474, 0.0, 0.0, 0.0006681607919745147, 0.0]",
         "0"
        ],
        [
         "12136",
         "Louis Armstrong",
         "Christmas In New Orleans",
         "Magnolia trees at night  \nSparkling bright  \nFields of cotton look wintery white  \nWhen it's Christmas time  \nIn New Orleans  \n  \nA barefoot choir in prayer  \nFills the air  \nMississippi folks  \nAre gathering there  \nWhen it's Christmas time  \nIn New Orleans  \n  \nYou'll see a dixieland Santa Claus  \nLeading the band  \nTo a good old Creole beat  \nAnd golly what a spirit  \nYou can only hear it  \nDown on Basin Street  \nYour cares will disappear  \nWhen you hear  \nHallelujah St. Nicholas is here  \nWhen it's Christmas time  \nIn New Orleans  \n  \nYou'll see  \nA dixieland Santa Claus  \nLeading the band  \nTo a good old Creole beat  \nAnd golly what a spirit  \nYou can only hear it  \nDown on Basin Street  \nYour cares will disappear  \nWhen you hear  \nHallelujah old St. Nicholas is here  \nWhen it's Christmas time  \nIn New Orleans  \n  \nWhen it's Christmas time in  \nIt's Christmas time in in New Orleans\n\n",
         "{'joy': 0.9094553589820862, 'sadness': 0.05392449349164963, 'anger': 0.025616610422730446}",
         "[0.9094553589820862, 0.0, 0.05392449349164963, 0.0, 0.0, 0.025616610422730446, 0.0]",
         "0"
        ],
        [
         "14018",
         "Nick Drake",
         "One Of These Things First",
         "I could have been a sailor, could have been a cook  \nA real live lover, could have been a book.  \nI could have been a signpost, could have been a clock  \nAs simple as a kettle, steady as a rock.  \nI could be  \nHere and now  \nI would be, I should be  \nBut how?  \nI could have been  \nOne of these things first  \nI could have been  \nOne of these things first.  \n  \nI could have been your pillar, could have been your door  \nI could have stayed beside you, could have stayed for more.  \nCould have been your statue, could have been your friend,  \nA whole long lifetime could have been the end.  \nI could be yours so true  \nI would be, I should be through and through  \nI could have been  \nOne of these things first  \nI could have been  \nOne of these things first.  \n  \nI could have been a whistle, could have been a flute  \nA real live giver, could have been a boot.  \nI could have been a signpost, could have been a clock  \nAs simple as a kettle, steady as a rock.  \nI could be even here  \nI would be, I should be so near  \nI could have been  \nOne of these things first  \nI could have been  \nOne of these things first.\n\n",
         "{'joy': 0.9820258021354675, 'anger': 0.01021477859467268, 'fear': 0.003053911728784442}",
         "[0.9820258021354675, 0.0, 0.0, 0.0, 0.003053911728784442, 0.01021477859467268, 0.0]",
         "0"
        ],
        [
         "39240",
         "Justin Timberlake",
         "Summer Love",
         "Ridin' in the drop-top with the top down  \nSaw you switchin' lanes, girl  \nPull up to the red light, lookin' right  \nCome on, let me get your name, girl  \n  \nTell me where your from, what you do, what you like  \nLet me get your brain, girl  \nAnd tell me how they that got that pretty little face  \nOn that pretty little frame girl  \n  \nBut let me show you 'round  \nLet me take you out  \nBetcha we can have some fun, girl  \n'Cause we can it do fast, fast, slow  \n  \nWhich ever way you wanna run, girl  \nBut let me buy you drinks, better yet rings  \nDo it how you want it done, girl  \nAnd who would of thought that you could be the one 'cause I  \n  \n[Chorus]  \nI can't wait to fall in love with you  \nYou can't wait to fall in love with me  \nThis just can't be summer love, you'll see  \nThis just can't be summer love-o-v-e  \n  \nCome on, and let me show you 'round  \nLet me take you out  \nBetcha we can have some fun, girl  \n'Cause you could dress it up, we could dress it down  \n  \nAny way you want it done, girl  \nOr we can stay home talkin' on the phone  \nRappin' till we see the sun, girl  \nDo what I gotta do just gotta show you  \n  \nThat I'm the one, girl  \nWell, I'm a freak ya right each and every night  \nI know how to do it insane, girl  \n'Cause I can make ya hot, make ya stop  \n  \nMake ya wanna say my name, girl  \nCome on, baby, please 'cause I'm on my knees  \nCan't get you off my brain, girl  \nBut who would of thought that you could be the one 'cause I  \n  \n[Chorus: x2]  \n  \nSummer's over for the both of us  \n(Summer's over)  \nBut that doesn't mean we should give up on us  \n(Don't give up)  \nYou're the one that I've been thinkin' of  \n(You're the one)  \nAnd I knew the day I met you you'd be the one  \n  \n[Chorus: x2]\n\n",
         "{'anger': 0.54328453540802, 'joy': 0.26971369981765747, 'love': 0.14634837210178375}",
         "[0.26971369981765747, 0.14634837210178375, 0.0, 0.0, 0.0, 0.54328453540802, 0.0]",
         "1"
        ],
        [
         "45819",
         "Nightwish",
         "Whoever Brings The Night",
         "We seduce the dark with pain and rapture  \nLike two ships that pass in the night  \nYou and I, a whore and a bashful sailor  \nWelcome to a sunrise of a dirty mind  \n  \nAll your love is a lie  \nYou one-night butterfly  \nHurt me, be the one  \nWhoever brings the night  \n  \nThe dark, created to hide the innocent white, the lust of night  \nEyes so bright, seductive lies  \nCrimson masquerade where I merely played my part  \nPoison dart of desire  \n  \nAll your love is a lie  \nYou one-night butterfly  \nHurt me, be the one  \nWhoever brings the night  \n  \nChoose a bride tonight  \nA fantasy for a zombie  \nHurt me, I love to suffer  \nYour harems are dreams for free  \n  \nEnter  \nSuck form us and live for ever  \nRotten beauty  \nWill haunt you for a lifetime  \n  \nCome with me on underwater  \nAnd drown to despise me no more  \nUnholy, unworthy  \nMy night is a dream for free  \n  \nAll your love is a lie  \nYou one-night butterfly  \nHurt me, be the one  \nWhoever brings the night  \nAll your love is a lie  \nYou one-night butterfly  \nHurt me, be the one  \n  \nWhoever brings the night  \nWhoever brings the night\n\n",
         "{'anger': 0.341156929731369, 'sadness': 0.310107558965683, 'love': 0.1952238231897354}",
         "[0.0, 0.1952238231897354, 0.310107558965683, 0.0, 0.0, 0.341156929731369, 0.0]",
         "1"
        ],
        [
         "16703",
         "R. Kelly",
         "Bad Man",
         "You see really I don't  \nGive a damn what you may think of me  \n(That's right you're a bad ass nigga)  \nI'mma do what I'mma do, I'mma say what I'mma say  \n(You think you're a bad ass nigga)  \nYa understand what I'm saying?  \nWell you better  \n  \nI was born in these streets  \nRaised in these streets  \nWalked in these streets  \nTaught by these streets  \nLived in these streets  \nHustled in these streets  \nArrested in these streets  \nProtected by these streets  \n  \nYeah you know I walk  \nThrough the valley of these streets  \nI shall not fear these streets  \nBecause I run these streets  \n  \n(Whoa, whoa, whoa, whoa, whoa)  \nAnd I've paid my own dues  \nWith my own pennies and now  \n  \n(Chorus)  \nI'm a bad man  \nI'm not ashamed of  \nA bad man yeah  \nAnd don't need your love  \nI'm a bad man yeah  \nI'm not ashamed of  \nI'm a bad man  \nMy life's made me tough  \n  \nI've stood on these blocks  \nMore hood on these blocks  \nGot paid on these blocks  \nSprayed on these blocks  \nMoved in on these blocks  \nWent out on these blocks  \nI've been around the block  \nBeen watched on these blocks  \n  \nYeah you know I walk  \nThrough the valley of these blocks  \nI shall not fear these blocks  \nBecause I run these blocks, yeah  \n  \n(Whoa, whoa, whoa, whoa, whoa)  \nPaid my own dues with my own pennies  \nAnd I'm  \n  \n[Chorus]  \n  \nNow I believe the day will come  \nWhen my heart will decide to change  \nBut until then  \nSee everything will remain the same  \n  \n[Chorus]  \n  \nSee sometimes I gotta tell myself  \n(I'm a bad man)  \nTo keep surviving  \nAnd no matter what the cause  \n(I'm a bad man)  \nI gotta keep on keeping on yeah  \nCame up in these streets  \n(I'm a bad man)  \nThere was no father there for me, hey ooh  \n(I'm a bad man)  \nCause sometimes we would just have to go without eating  \nHey how you like me now?  \n(I'm a bad man)  \nGive my life for my brother  \nSee I'm a bad mother, shut your mouth  \n(I'm a bad man)  \nGo on, go on, go on, go on\n\n",
         "{'sadness': 0.9799725413322449, 'anger': 0.015303530730307102, 'joy': 0.0030470292549580336}",
         "[0.0030470292549580336, 0.0, 0.9799725413322449, 0.0, 0.0, 0.015303530730307102, 0.0]",
         "2"
        ],
        [
         "13687",
         "Neil Diamond",
         "Be",
         "Lost  \nOn a painted sky  \nWhere the clouds are hung  \nFor the poet's eye  \nYou may find him  \nIf you may find him  \n  \nThere  \nOn a distant shore  \nBy the wings of dreams  \nThrough an open door  \nYou may know him  \nIf you may  \n  \nBe  \nAs a page that aches for words  \nWhich speaks on a theme that's timeless  \nWhile the Sun God will make for your day  \nSing  \nAs a song in search of a voice that is silent  \nAnd the one God will make for your way  \n  \nAnd we dance  \nTo a whispered voice  \nOverheard by the sould  \nUndertook by the heart  \nAnd you may know it  \nIf you may know it  \n  \nWhile the sand  \nWould become the stone  \nWhich begat the spark  \nTurned to living bone  \nHoly, holy  \nSanctus, sanctus  \n  \nBe  \nAs a page that aches for word  \nWhich speaks on a theme that is timeless  \nWhile the Sun God will make for your day  \nSing  \nAs a song in search of a voice that is silent  \nAnd the one God will make for your day\n\n",
         "{'joy': 0.9959404468536377, 'love': 0.00233910558745265, 'sadness': 0.0010248678736388683}",
         "[0.9959404468536377, 0.00233910558745265, 0.0010248678736388683, 0.0, 0.0, 0.0, 0.0]",
         "0"
        ],
        [
         "19210",
         "The Temptations",
         "The Way You Do The Things You Do",
         "You've got a smile so bright  \nYou know, you could've been a candle  \nI'm holding you so tight  \nYou know, you could've been a handle  \nThe way you swept me off my feet  \nYou know, you could've been a broom  \nThe way you smell so sweet  \nYou know, you could've been some perfume  \nWell, you could've been anything  \nThat you wanted to and I can tell  \nThe way you do the things you do  \n(The way you do the things you do,  \nThe way you do the things you do)  \nAs pretty as you are  \nYou know, you could've been a flower  \nIf good looks can cause a minute  \nYou know that you could be an hour  \nThe way you stole my heart  \nYou know, you could've been a cool crook  \nAnd baby, you're so smart  \nYou know, you could've been a schoolbook  \nWell, you could've been anything  \nThat you wanted to and I can tell  \nThe way you do the things you do  \n(The way you do the things you do,  \nThe way you do the things you do)  \nYou made my life so rich  \nYou know, you could've been some money  \nAnd baby, you're so sweet  \nYou know, you could've been some honey  \nWell, you could've been anything  \nThat you wanted to and I can tell  \nThe way you do the things you do  \n(The way you do the things you do)  \nYou really swept me off my feet  \n(The way you do the things you do)  \nYou made my life complete  \n(The way you do the things you do)  \nYou made my life so bright  \n(The way you do the things you do)  \nYou make me feel all right...\n\n",
         "{'joy': 0.8352712392807007, 'love': 0.16184833645820618, 'sadness': 0.0010935288155451417}",
         "[0.8352712392807007, 0.16184833645820618, 0.0010935288155451417, 0.0, 0.0, 0.0, 0.0]",
         "0"
        ],
        [
         "3836",
         "David Guetta",
         "Think About You",
         "I close my eyes, and there you are  \nI open my eyes, and there you are again  \nI try to eat, the food don't taste the same  \nIt ain't my fault, but still I take the blame  \nYou, you, you  \nIn my mind I already know  \nYou, you, you  \nBut my heart don't wanna let it go  \n  \nI don't wanna think about you  \nBut I can't stop if I wanted to  \nI don't wanna think about you  \nBut I can't stop if I wanted to  \nI don't wanna think about you  \nBut I can't stop if I wanted to  \nI don't wanna think about you  \nBut I can't stop if I wanted to  \nI don't wanna think about you  \nBut I can't stop if I wanted to  \nAll I do is think about you  \nBut I can't stop if I wanted to  \nAll I do is think about you  \nBut I can't stop  \n  \nI close my eyes, and there you are  \nI open my eyes, and there you are again  \nI try to sleep, but dreams just ain't the same  \nIt ain't my fault, but still I take the blame  \nYou, you, you  \nIn my mind I gotta face it  \nYou, you, you  \nBut my heart is badly aching  \n  \nI don't wanna think about you  \nBut I can't stop if I wanted to  \nI don't wanna think about you  \nBut I can't stop if I wanted to  \nI don't wanna think about you  \nBut I can't stop if I wanted to  \nI don't wanna think about you  \nBut I can't stop if I wanted to  \nI don't wanna think about you  \nBut I can't stop if I wanted to  \nAll I do is think about you  \nBut I can't stop if I wanted to  \nAll I do is think about you  \nBut I can't stop\n\n",
         "{'sadness': 0.9918547868728638, 'anger': 0.003614126006141305, 'love': 0.001986992545425892}",
         "[0.0, 0.001986992545425892, 0.9918547868728638, 0.0, 0.0, 0.003614126006141305, 0.0]",
         "2"
        ],
        [
         "7640",
         "Heart",
         "I Give Up",
         "I know you got a secret that you really don't want to show  \nYou hid something somebody did to you and you guard it like a lie  \nAnd I know what I'm talking about  \nCause I've seen it leaking out  \nBut I'm with you baby now, and I'm not sneaking out  \nCause I know and I feel you're not showing me  \nHow can I change what you won't let me see  \n  \n[Chorus]  \nI give up I give in  \nYou win this time  \nKnowing you means let you go  \nI give up I give in  \nYou win this time  \nBut don't belong  \nBaby don't belong I love you I love you  \n  \nI know eves droppers might find out more than they might wanna know  \nYeah I know but I feel you're loving me  \nHow can I change what you won't let me see  \n  \n[Chorus]\n\n",
         "{'love': 0.9952504634857178, 'joy': 0.0018230394925922155, 'sadness': 0.0010039533954113722}",
         "[0.0018230394925922155, 0.9952504634857178, 0.0010039533954113722, 0.0, 0.0, 0.0, 0.0]",
         "3"
        ],
        [
         "32768",
         "Foreigner",
         "Inside Information",
         "One man to the left  \nOne man to the right  \nOne man in the middle  \nOne man dressed in white  \n  \nOne man in the east  \nOne man from the west  \nOne man in the middle  \nOne man under house arrest  \n(Step back)  \n  \nGet hooked on the power  \nGotta stay in the game  \nbe the man of the hour  \nGotta make a name for yourself  \n  \nAnd the lady waits, so patiently  \nShe waits for the call  \nShe knows just what you need  \n  \nYou need inside, information  \nInformation at a very high price  \nShe gives you inside, information  \nThat can change your whole life overnight,  \nIn a minute  \n  \nOne man to the left  \nOne man to the right  \nOne man in the middle  \nCaught in the broad daylight  \n  \nJust a man on the street  \nAnother face in the crowd  \nOne man on the beat  \nWants everything that he's not allowed  \n  \nAnd the lady waits, so patiently  \nShe waits for the call  \nShe knows just what you need  \n  \nYou need inside, information  \nShe can get it at a very high price  \nA little, inside, information  \nIt can change your whole life overnight  \n  \nWith a little inside, information  \nYou get money, you get power, you get it all  \nYeah but that inside, information  \nCan leave you waiting for that hammer to fall  \n(Let it fall)  \n  \nShe gets that inside, information  \nInformation at a very high price  \nWith that inside, information  \nIt's danger with each roll of the dice  \n  \nYou want that inside, information  \nTake the money, take the power, take it all  \nTake that inside, information  \nBut get ready 'cause the hammer will fall  \nIt's gonna fall  \n  \nInside, information  \nInside, information  \n  \nIs she telling you straight  \nIs she telling you straight  \nIs she telling you straight\n\n",
         "{'anger': 0.638547956943512, 'joy': 0.2989250123500824, 'fear': 0.03982154279947281}",
         "[0.2989250123500824, 0.0, 0.0, 0.0, 0.03982154279947281, 0.638547956943512, 0.0]",
         "5"
        ],
        [
         "27715",
         "Christina Aguilera",
         "Move It",
         "This one  \nCan you feel it, feel the groove  \nLet the music take control and let your body move  \nJust relax and listen to the sound  \nOnce the music takes you you will finally have found  \nIt will take you away to another state of mind  \nWhere peace you'll find inside the sound  \nJust escape to a place  \nTroubles seem to flow away when you get away  \nGet this party going on, the feel of the rhythm  \nGotta, gotta make it strong, leave it going on  \nIf you wanna get away and ease your mind now  \nCome on everybody stay and let the song take you away, yeah  \nAlright  \nCan you feel it, feel the groove  \nLet the music take control and let your body move  \nJust relax and listen to the sound  \nOnce the music takes you you will finally have found  \nIt will take you away to another state of mind  \nWhere peace you'll find inside the sound  \nJust escape to a place  \nTroubles seem to flow away when you get away  \nGet this party going on, the feel of the rhythm  \nGotta, gotta make it strong, leave it going on  \nIf you wanna get away and ease your mind now  \nCome on everybody stay and let the song take you away, yeah  \n...  \n\n",
         "{'joy': 0.9985001087188721, 'love': 0.0004284206952434033, 'sadness': 0.00041412300197407603}",
         "[0.9985001087188721, 0.0004284206952434033, 0.00041412300197407603, 0.0, 0.0, 0.0, 0.0]",
         "0"
        ],
        [
         "10241",
         "Kelly Clarkson",
         "Forever Part Of Me",
         "I've been wonderin' if it's time  \nTo say what's on my mind  \n'Cause I'm in the dark  \nWhat was in your heart  \n  \n(What's in your heart)  \nI don't even know your name  \nBut the thought of you remains  \nSuddenly my pulse is jumping  \nDo you feel the same  \n  \nTalk it over with my friends  \nAnd I guess it all depends  \nHow you really feel, but can you comprehend  \nYou could be just around the corner now  \nHoping this love is yet to be found  \n  \nIt's not too late to call my name  \nSo don't you look the other way  \nOpen your eyes and you'll see  \nMy heart won't wait, don't hesitate  \nWe got a chance, we've gotta take  \nIt feels like you could be  \nForever part of me  \n  \nCan be right under my skin (right under my skin)  \nI don't know where to begin  \nWould I look the fool  \nShould I play it cool  \nOr jump right in  \n  \nHow am I supposed to know  \nWhether I should come or go  \nThink it's time we let our feelings show  \nWe might let the moment just pass us by  \nThen it's gone in the blink of an eye  \n  \nIt's not too late to call my name  \nSo don't you look the other way  \nOpen your eyes and you'll see  \nMy heart won't wait, don't hesitate  \nWe got a chance we've gotta take  \nIt feels like you could be  \nForever part of me\n\n",
         "{'joy': 0.9985601305961609, 'love': 0.00038349858368746936, 'sadness': 0.00034456350840628147}",
         "[0.9985601305961609, 0.00038349858368746936, 0.00034456350840628147, 0.0, 0.0, 0.0, 0.0]",
         "0"
        ],
        [
         "36150",
         "Hooverphonic",
         "2 Wicky",
         "(Wah-wah)  \n(Wah-wah)  \n  \nProphet 60091, this is the flight number of our galactic sun.  \nProphet 60091, before we start you should know that you're not the only one\nwho can hurt me.  \n  \nSH10151, this is the serial number of our orbital gun.  \nSH10151, you better be sure before you leave me for another one, you can hurt\nme.  \nI can hurt you.  \nYou can hurt.  \nYou can hurt me.  \nI can hurt you.  \nBut you better be sure before you leave me for another one, I can hurt you.  \nYou can hurt me.  \nBut you better be sure before you leave me for another one...\n\n",
         "{'sadness': 0.6405306458473206, 'anger': 0.2660362124443054, 'fear': 0.07308482378721237}",
         "[0.0, 0.0, 0.6405306458473206, 0.0, 0.07308482378721237, 0.2660362124443054, 0.0]",
         "2"
        ],
        [
         "8971",
         "The Jam",
         "I Need You For Someone",
         "I need you to keep me straight,  \nWhen the world don't seem so great,  \nAnd it's hard enough you know  \nI need you to be around  \nWhen my conscience brings me down  \nAnd the world seems so obscure  \nI want you to be the one  \nWho tells me off when I do wrong,  \nAnd you know I can be bad  \nI need you, I need you  \nSay you'll stay, make my day  \nNow what have I done,  \nWas it something I said - oh dear  \nI need you to turn me off,  \nWhen you think I've said enough,  \nTo the extent of being a bore  \nI need you to tell me no  \nSlap my wrists and send me home  \nTell me I can't come again  \nNow why are you crying -  \nHave I gone too far - again  \nI need you keep me straight,  \nwhen the world don't seem so great  \nand its hard enough you know  \nI need you, I need you  \nSay you'll stay  \nMake my day\n\n",
         "{'joy': 0.9979004859924316, 'surprise': 0.000634911993984133, 'sadness': 0.0005529167829081416}",
         "[0.9979004859924316, 0.0, 0.0005529167829081416, 0.000634911993984133, 0.0, 0.0, 0.0]",
         "0"
        ],
        [
         "1866",
         "Bonnie Raitt",
         "Not Cause I Wanted To",
         "Well I'm calling you  \n'Cause you deserve to know  \nYou are not the reason that I had to go,  \nLate at night in these hotel rooms  \nI think of all I've lost,  \nWhat I've put you through  \n  \nAnd if I knew the reason  \nI would tell you why somehow  \nThe feeling slipped away  \nI only did what I had to do  \nNot 'cause I wanted to  \n  \nI've got a guilty heart  \nAnd a troubled mind  \nNo matter where I go  \nYou're never far behind  \nI'd like to think  \nThat you've forgiven me  \nBut forgiveness ain't enough  \nTo wash my conscience clean  \n  \nOh and if I knew the reason  \nI would tell you why somehow  \nThe feeling slipped away  \nI only did what I had to do  \nNot 'cause I wanted to  \n  \nI only did what I had to do  \nNot 'cause I wanted to\n\n",
         "{'sadness': 0.9985309839248657, 'anger': 0.0004918158520013094, 'joy': 0.00047311719390563667}",
         "[0.00047311719390563667, 0.0, 0.9985309839248657, 0.0, 0.0, 0.0004918158520013094, 0.0]",
         "2"
        ],
        [
         "48069",
         "Peter Cetera",
         "Only Love Knows Why",
         "One more sad tomorrow  \nAnd I'm not very good at hiding my sorrow  \nIt's not the same without you  \nSo alone and so afraid  \nI thought we had it made  \nWhat about us, what about the way  \nWe were so in love, when we were together  \nI thought you'd never leave  \nNow I know this time you're gone forever  \n  \n[Chorus]  \nOnly love can break your heart  \nFill you with desire  \nAnd tear you all apart  \nOnly love can make you cry  \nOnly love knows why  \n  \nOne more night without you  \nI'm just trying to pretend that you're coming back again  \nYou know I never meant to doubt you, oh no  \nWe were young and we were free  \nNow I can't believe this has happened to me  \n  \nWhat about us, what about the way  \nWe were so in love, when we were together  \n  \n[Chorus]  \n  \nGonna be a long hard road without you  \nAnd there's one thing you should know  \nTell me who will I turn to  \nWhen I get in trouble  \nI really don't want you to go, no  \n  \nTell me who can I turn to  \nWhen I get in trouble  \nBaby please don't leave me  \nCan't you see you must believe me  \n  \nOnly love can break your heart  \nFill you with desire  \nAnd tear you down, the minute that you fall apart  \n  \nOnly love can make you cry  \nOnly love knows why, oh no  \nOnly love can tear you down  \nOnly love knows why, oh no  \n  \nOnly love will make you cry\n\n",
         "{'sadness': 0.5309432744979858, 'anger': 0.35104960203170776, 'fear': 0.056896671652793884}",
         "[0.0, 0.0, 0.5309432744979858, 0.0, 0.056896671652793884, 0.35104960203170776, 0.0]",
         "2"
        ],
        [
         "33955",
         "Gino Vannelli",
         "Father And Son",
         "Once in a life there comes a man like you  \nAnd you bear a son so much like yourself  \nAnd it's hard to believe that he's a grown man  \nBut pop I understand  \n  \nOnce every night I thank my lucky stars  \nYou've given me some guiding light  \nBut there comes a time when a father and a son  \nCan no longer be as one  \n  \nIt took me so long to recover  \nFrom the pain of having denied the love I once relied upon  \nIt takes more than time to discover  \nThat for both the young and old  \nThe truth is sometimes cold but right  \n  \nThis is my life  \nAnd I've got to hold my own  \nEven if it means hurting us both  \nAnd the wrongs become right when  \nWe stop and wonder how  \nLook at us  \nWe're better friends now\n\n",
         "{'anger': 0.9690859913825989, 'sadness': 0.0173958707600832, 'joy': 0.007704771123826504}",
         "[0.007704771123826504, 0.0, 0.0173958707600832, 0.0, 0.0, 0.9690859913825989, 0.0]",
         "5"
        ],
        [
         "47110",
         "Overkill",
         "Gasoline Dream",
         "Wishful thinking, eyes are blinking,  \nIn the sun the garbage stinking.  \nTo ignore the rancid, won't make it go away.  \n  \nUntruth spoke through blistered lip,  \nUnclean thoughts that take the step,  \nDown upon the roaches,  \nWon't go away.  \n  \nBorn! to follow!  \nTo be the first to swallow,  \nGarbage from the plate.  \nNow! to borrow!  \nA match, ignite the gasoline,  \nTo burn away.  \n  \nSurviving through a gasoline dream,  \nIn the month the razon blade gleam,  \nSlashing up the tongue, won't make it go away.  \nOn a binge of self destruction,  \n  \nChildren of the reconstruction,  \nSuck the tit of discontent,  \nGo away.  \n  \nSlam! slam down!  \nRespond in kind malcontent,  \nDon't go away.  \nBurn! burn down!  \n  \nTemple of the conscience,  \nDon't go away.  \n  \nI was soaked in gasoline,  \nPlayin' with a match.  \nI was everything I seemed,  \nThey stood and watched.  \n  \nAte from your table!  \nAte from your hand!  \nEight days of waiting!  \nBuried in the sand!  \n  \nBurn in a gasoline dream, burn away my love.  \nBurn away the conscience, burn away, my love.  \nTake away my dignity, take away my pain,  \nTake just for taking, we are one in the same...  \n  \nBurn... Burn...  \nBurn in a gasoline dream, burn away my love.  \nBurn away the conscience, burn away, my love.\n\n",
         "{'anger': 0.7374000549316406, 'sadness': 0.2040177881717682, 'joy': 0.04170520231127739}",
         "[0.04170520231127739, 0.0, 0.2040177881717682, 0.0, 0.0, 0.7374000549316406, 0.0]",
         "5"
        ],
        [
         "2593",
         "Chicago",
         "Anyway You Want",
         "Anyway you want to be  \nIt's alright with me  \nAnything you want  \nIt's alright with me  \n  \nKnow that I love you  \nKnow that I need you  \nAnyway you want  \nIt's alright with me  \n  \nBaby let me love you  \nDo what I want to do  \nAnyway you want  \nIt's alright with me  \n  \nFeels so good  \nKnow that I love you  \nKnow that I need you  \nAnyway you want  \n  \nIt's alright with me  \nAnyway you want  \nIt's alright with me  \nAnyway you want  \n  \nIt's alright with me  \nAnyway you want  \nIt's alright with me  \nAnyway you want  \n  \nWoah now  \nIt's alright it's alright  \nBaby now  \nIt's alright it's alright  \n  \nBaby let me love you  \nYeah yeah  \nYeah Yeah  \n  \nIt's alright it's alright it's alright  \nIt's alright it's alright it's alright\n\n",
         "{'joy': 0.9986948370933533, 'love': 0.0005092443898320198, 'sadness': 0.0003544259525369853}",
         "[0.9986948370933533, 0.0005092443898320198, 0.0003544259525369853, 0.0, 0.0, 0.0, 0.0]",
         "0"
        ],
        [
         "5223",
         "Enrique Iglesias",
         "Can You Hear Me",
         "I am numb but I can still feel you  \nSometimes I'm blind but I see you  \nYou are here but so far away  \n  \nThe times when you wanna, I'm missing you  \nMakes me feel like I'm spinning  \nSometimes you get what you gain  \n  \nI'm on a coaster-collision  \nAm not about to give in  \nCan't explain my position or the condition that I'm in.  \n  \nWhere I am is no limit, no walls, no ceilings  \nNo intermission, so let  \nLet the party begin.  \n  \n[Chorus]  \nHey  \nHey  \nHey all the way  \nDJ let it play.  \nHey hey can you hear me?  \nHey  \nHey  \nHey all the way  \nDJ let it play.  \nHey hey can you hear me?  \n  \nCan you hear me? can you hear me? can you hear me? can you hear me?  \n  \nDon't you mean that you're my vision  \nI gotta make a decision  \nDo I go, do I stay? (stay)  \n  \nYou've gotten into my system  \nYou are in control of my mental  \nI'm in a euphoric state  \n  \nI'm on a coaster-collision  \nAm not about to give in  \nCan't explain my position or the condition that I'm in.  \n  \nWhere I am is no limit, no walls, no ceilings  \nNo intermission, so let  \nLet the party begin  \n  \n[Chorus]  \n  \nCan you hear me? [Repeats]  \n  \n[Repeat: x5]  \nHey  \nHey  \nHey all the way  \nDJ let it play.  \nHey hey can you hear me?  \nCan you hear me?  \n  \nEnrique, yea I can  \nThis is Mr Morales\n\n",
         "{'sadness': 0.9873607158660889, 'fear': 0.006932743825018406, 'joy': 0.002947703003883362}",
         "[0.002947703003883362, 0.0, 0.9873607158660889, 0.0, 0.006932743825018406, 0.0, 0.0]",
         "2"
        ],
        [
         "47370",
         "Pat Benatar",
         "I've Got Papers On You",
         "I've got papers on you baby  \nYou gotta do what I say  \nI've got papers on you baby  \nYou gotta do what I say  \nI mean business darlin', I'm too old to play  \nI've got papers on you baby  \nAnd I mean you're mine, all mine  \nI've got papers on you baby  \nAnd I mean you're mine, all mine  \nIf you do just what I tell you darlin'  \nWe're gonna get along real fine  \n  \nNow the red light means stop  \nGreen light means go  \nTell you something once  \nI ain't gonna tell you no more  \n  \nI've got papers on you baby  \nYou gotta do what I say  \nI got old baby, and I'm too old to play  \n  \nWell I see that you eat  \nAnd I see that you got a place to stay  \nI see that you eat  \nAnd I see you got a place to stay  \nBut as long as live in this house  \nI ain't gonna let you have your way  \n  \nI've got papers on you baby  \nAnd I mean in black and white  \nI've got papers on you  \nAnd I mean in black and white  \n  \nNow I ain't hard to get along with  \nBut you just gotta treat me right\n\n",
         "{'joy': 0.9934919476509094, 'anger': 0.0029208676423877478, 'sadness': 0.001385809970088303}",
         "[0.9934919476509094, 0.0, 0.001385809970088303, 0.0, 0.0, 0.0029208676423877478, 0.0]",
         "0"
        ],
        [
         "49673",
         "Quincy Punx",
         "Cereal Killer",
         "Wake in the morning my mind is all confused  \nDon't no where to turn or what to do, pour myself  \nA great big bowl of crispy bits of rice, the cereal  \nThat talks gives me some advice  \n  \n[Chorus]  \nMy rice krispies told me to kill you tonight  \nMy rice krispies never lie  \nMy rice krispies  \n  \nTold me so many things you see, like how the  \nPhone company killed kennedy, how oprah is an  \nAlien and nixon never lied, and by tommorow  \nMorning you gotta die [chorus] this morning  \nBreakfast message was so crystal clear  \nIt was so strange I couldn't believe my ears  \n  \nMy cereal informed me your an agent for  \nThe feds, the CIA they want me dead  \n  \n[Chorus]  \n  \nElvis is alive living in New Jersey  \nThat's right they gotta give me a lobotomy  \nOne day the aliens are gonna come for me  \nI gotta kill you if I wanna be free\n\n",
         "{'fear': 0.4714796245098114, 'anger': 0.437774658203125, 'sadness': 0.07985074073076248}",
         "[0.0, 0.0, 0.07985074073076248, 0.0, 0.4714796245098114, 0.437774658203125, 0.0]",
         "4"
        ],
        [
         "23920",
         "America",
         "This Time",
         "When the whistle blows  \nAnd the goodbye hugs are over  \nThen the train pulls out of the station and rolls towards the dawn  \nWith that old suitcase in hand and a surefire plan gone over  \nThis time it will work it can't go wrong  \nCause I've got all of our dreams mixed up with my schemes  \nRollin' around in my mind  \nI know the sun's gonna shine  \nShine on me this time  \nIn a week or two  \nI'll be writing to you with good news  \nAnd I can just see your smile as you read about all that I've done  \nCause I've got all of our plans right here in my hands  \nAnd things are gonna work out just fine  \nCause I know the sun's gonna shine  \nShine on me this time  \nI've seen confusion in your eyes  \nI've seen uncertainty and fear  \nKeep on lookin' for tomorrow  \nSoon it will be here  \nThis time, it's gonna be this time  \nThis time, it's gotta be this time  \nThis time, this time (it's never never)  \nThis time, this time (the day is coming)  \nThis time, this time (it's never never)  \nThis time, this time (the day is coming)  \n\n",
         "{'joy': 0.9753299355506897, 'anger': 0.014243105426430702, 'sadness': 0.006137013901025057}",
         "[0.9753299355506897, 0.0, 0.006137013901025057, 0.0, 0.0, 0.014243105426430702, 0.0]",
         "0"
        ],
        [
         "29988",
         "Dolly Parton",
         "How Great Thou Art",
         "Oh Lord my God when I in awesome wonder  \nConsider all the worlds Thy hands have made  \nNow I see the stars and I hear the rolling thunder  \nThy art throughout the universe displayed  \nThen sings my soul my Saviour God to Thee  \nHow great Thou art oh  \nHow great Thou art  \nThen sings my soul my Saviour God to Thee  \nHow great Thou art  \nHow great Thou art  \nWhen Christ shall come with shouts of acclamation  \nTo take me home what joy shall fill my heart  \nThen I shall kneel in humble adoration and there proclaim my God  \nHow great Thou art  \nThen sings my soul\n\n",
         "{'joy': 0.9579612612724304, 'sadness': 0.018707910552620888, 'anger': 0.017901023849844933}",
         "[0.9579612612724304, 0.0, 0.018707910552620888, 0.0, 0.0, 0.017901023849844933, 0.0]",
         "0"
        ],
        [
         "9367",
         "John Denver",
         "Don't Be Kind",
         "You've been sweet, you've been good  \nI've been better than you ever cook  \nI've been yours, you've been mine  \nDon't be kind  \nYou got dreams, I've got plans  \nI'll be gone before you understand  \nI betrayed, you've been blind  \nDon't be kind  \n(Don't be kind)  \nShoot it straight as an arrow  \n(Don't be kind)  \nTo the quick, to the marrow  \nYou can say what you've got on your mind  \nDon't be kind  \nWe've been friends, we've been folks  \nWe've been lovers clinging so close  \nWe've believed but not this time  \nDon't be kind  \nWhen you hurt me, oh, you hurt me  \nThen you feel you must be nice  \nWell, it's bad enough to take it once  \nBeing kind makes it twice  \nIt's been great, it's been real  \nIt's been soft as silk and tough as steel  \nYou be yours and I'll be mine  \nDon't be kind  \n(Don't be kind)  \nShoot it straight as an arrow  \n(Don't be kind)  \nTo the quick, to the marrow  \nYou can say what you've got on your mind  \nDon't be kind  \nDon't be kind  \nYou can say what you got on your mind  \n(Don't be kind)  \nShoot it straight as an arrow  \n(Don't be kind)  \nTo the quick, to the marrow  \nYou can say what you've got on your mind  \nDon't be kind  \nDon't be kind  \nYou can say what you've got on your mind  \nDon't be kind  \nDon't be kind  \nYou can say what you've got on your mind  \nDon't be kind  \nDon't be kind  \n\n",
         "{'joy': 0.9679515361785889, 'love': 0.019521912559866905, 'anger': 0.008123288862407207}",
         "[0.9679515361785889, 0.019521912559866905, 0.0, 0.0, 0.0, 0.008123288862407207, 0.0]",
         "0"
        ]
       ],
       "shape": {
        "columns": 6,
        "rows": 1000
       }
      },
      "text/html": [
       "<div>\n",
       "<style scoped>\n",
       "    .dataframe tbody tr th:only-of-type {\n",
       "        vertical-align: middle;\n",
       "    }\n",
       "\n",
       "    .dataframe tbody tr th {\n",
       "        vertical-align: top;\n",
       "    }\n",
       "\n",
       "    .dataframe thead th {\n",
       "        text-align: right;\n",
       "    }\n",
       "</style>\n",
       "<table border=\"1\" class=\"dataframe\">\n",
       "  <thead>\n",
       "    <tr style=\"text-align: right;\">\n",
       "      <th></th>\n",
       "      <th>artist</th>\n",
       "      <th>song</th>\n",
       "      <th>text</th>\n",
       "      <th>emotion_dict</th>\n",
       "      <th>emotion_vector</th>\n",
       "      <th>cluster</th>\n",
       "    </tr>\n",
       "  </thead>\n",
       "  <tbody>\n",
       "    <tr>\n",
       "      <th>56679</th>\n",
       "      <td>Wishbone Ash</td>\n",
       "      <td>Right Or Wrong</td>\n",
       "      <td>Like to have you 'round  \\nWith all the lies t...</td>\n",
       "      <td>{'anger': 0.8817856907844543, 'sadness': 0.109...</td>\n",
       "      <td>[0.0047196513041853905, 0.0, 0.109413847327232...</td>\n",
       "      <td>5</td>\n",
       "    </tr>\n",
       "    <tr>\n",
       "      <th>224</th>\n",
       "      <td>Aerosmith</td>\n",
       "      <td>This Little Light Of Mine</td>\n",
       "      <td>This Little Light of Mine (Light of Mine),  \\n...</td>\n",
       "      <td>{'joy': 0.8830875754356384, 'anger': 0.0850654...</td>\n",
       "      <td>[0.8830875754356384, 0.0, 0.015944965183734894...</td>\n",
       "      <td>0</td>\n",
       "    </tr>\n",
       "    <tr>\n",
       "      <th>32457</th>\n",
       "      <td>Fall Out Boy</td>\n",
       "      <td>Dance, Dance</td>\n",
       "      <td>She says she's no good with words but I'm wors...</td>\n",
       "      <td>{'love': 0.8936543464660645, 'joy': 0.04676710...</td>\n",
       "      <td>[0.04676710069179535, 0.8936543464660645, 0.04...</td>\n",
       "      <td>3</td>\n",
       "    </tr>\n",
       "    <tr>\n",
       "      <th>9167</th>\n",
       "      <td>Janis Joplin</td>\n",
       "      <td>Easy Rider</td>\n",
       "      <td>Hey mama, mama, come a look at sister,  \\nShe'...</td>\n",
       "      <td>{'anger': 0.9330032467842102, 'joy': 0.0258607...</td>\n",
       "      <td>[0.025860704481601715, 0.0, 0.0233910940587520...</td>\n",
       "      <td>5</td>\n",
       "    </tr>\n",
       "    <tr>\n",
       "      <th>13270</th>\n",
       "      <td>Moody Blues</td>\n",
       "      <td>Peak Hour</td>\n",
       "      <td>I see it all through my window it seems.  \\nNe...</td>\n",
       "      <td>{'joy': 0.8706589341163635, 'anger': 0.1037658...</td>\n",
       "      <td>[0.8706589341163635, 0.0, 0.016657516360282898...</td>\n",
       "      <td>0</td>\n",
       "    </tr>\n",
       "    <tr>\n",
       "      <th>...</th>\n",
       "      <td>...</td>\n",
       "      <td>...</td>\n",
       "      <td>...</td>\n",
       "      <td>...</td>\n",
       "      <td>...</td>\n",
       "      <td>...</td>\n",
       "    </tr>\n",
       "    <tr>\n",
       "      <th>20276</th>\n",
       "      <td>Used</td>\n",
       "      <td>Generation Throwaway</td>\n",
       "      <td>Whoa  \\nGeneration throwaway  \\nWhoa  \\nGenera...</td>\n",
       "      <td>{'joy': 0.9516360759735107, 'fear': 0.02675172...</td>\n",
       "      <td>[0.9516360759735107, 0.0, 0.0, 0.0, 0.02675172...</td>\n",
       "      <td>0</td>\n",
       "    </tr>\n",
       "    <tr>\n",
       "      <th>21464</th>\n",
       "      <td>Who</td>\n",
       "      <td>Bucket T</td>\n",
       "      <td>Bucket bucket T T, bucket T bucket T,  \\nBucke...</td>\n",
       "      <td>{'joy': 0.913567304611206, 'anger': 0.07027292...</td>\n",
       "      <td>[0.913567304611206, 0.0, 0.009503941982984543,...</td>\n",
       "      <td>0</td>\n",
       "    </tr>\n",
       "    <tr>\n",
       "      <th>51282</th>\n",
       "      <td>Santana</td>\n",
       "      <td>America</td>\n",
       "      <td>This is America  \\nPOD and Santana live in La ...</td>\n",
       "      <td>{'joy': 0.9988148212432861, 'love': 0.00043445...</td>\n",
       "      <td>[0.9988148212432861, 0.0004344580229371786, 0....</td>\n",
       "      <td>0</td>\n",
       "    </tr>\n",
       "    <tr>\n",
       "      <th>56824</th>\n",
       "      <td>X</td>\n",
       "      <td>Burning House Of Love</td>\n",
       "      <td>Drive by my house late at night  \\nYou can see...</td>\n",
       "      <td>{'sadness': 0.6608747243881226, 'anger': 0.233...</td>\n",
       "      <td>[0.0, 0.0, 0.6608747243881226, 0.0, 0.09542193...</td>\n",
       "      <td>2</td>\n",
       "    </tr>\n",
       "    <tr>\n",
       "      <th>280</th>\n",
       "      <td>Air Supply</td>\n",
       "      <td>I Don't Believe You</td>\n",
       "      <td>Who are we to say who we must obey  \\nto get m...</td>\n",
       "      <td>{'joy': 0.9975436329841614, 'sadness': 0.00076...</td>\n",
       "      <td>[0.9975436329841614, 0.0, 0.000768109166529029...</td>\n",
       "      <td>0</td>\n",
       "    </tr>\n",
       "  </tbody>\n",
       "</table>\n",
       "<p>1000 rows × 6 columns</p>\n",
       "</div>"
      ],
      "text/plain": [
       "             artist                       song  \\\n",
       "56679  Wishbone Ash             Right Or Wrong   \n",
       "224       Aerosmith  This Little Light Of Mine   \n",
       "32457  Fall Out Boy               Dance, Dance   \n",
       "9167   Janis Joplin                 Easy Rider   \n",
       "13270   Moody Blues                  Peak Hour   \n",
       "...             ...                        ...   \n",
       "20276          Used       Generation Throwaway   \n",
       "21464           Who                   Bucket T   \n",
       "51282       Santana                    America   \n",
       "56824             X      Burning House Of Love   \n",
       "280      Air Supply        I Don't Believe You   \n",
       "\n",
       "                                                    text  \\\n",
       "56679  Like to have you 'round  \\nWith all the lies t...   \n",
       "224    This Little Light of Mine (Light of Mine),  \\n...   \n",
       "32457  She says she's no good with words but I'm wors...   \n",
       "9167   Hey mama, mama, come a look at sister,  \\nShe'...   \n",
       "13270  I see it all through my window it seems.  \\nNe...   \n",
       "...                                                  ...   \n",
       "20276  Whoa  \\nGeneration throwaway  \\nWhoa  \\nGenera...   \n",
       "21464  Bucket bucket T T, bucket T bucket T,  \\nBucke...   \n",
       "51282  This is America  \\nPOD and Santana live in La ...   \n",
       "56824  Drive by my house late at night  \\nYou can see...   \n",
       "280    Who are we to say who we must obey  \\nto get m...   \n",
       "\n",
       "                                            emotion_dict  \\\n",
       "56679  {'anger': 0.8817856907844543, 'sadness': 0.109...   \n",
       "224    {'joy': 0.8830875754356384, 'anger': 0.0850654...   \n",
       "32457  {'love': 0.8936543464660645, 'joy': 0.04676710...   \n",
       "9167   {'anger': 0.9330032467842102, 'joy': 0.0258607...   \n",
       "13270  {'joy': 0.8706589341163635, 'anger': 0.1037658...   \n",
       "...                                                  ...   \n",
       "20276  {'joy': 0.9516360759735107, 'fear': 0.02675172...   \n",
       "21464  {'joy': 0.913567304611206, 'anger': 0.07027292...   \n",
       "51282  {'joy': 0.9988148212432861, 'love': 0.00043445...   \n",
       "56824  {'sadness': 0.6608747243881226, 'anger': 0.233...   \n",
       "280    {'joy': 0.9975436329841614, 'sadness': 0.00076...   \n",
       "\n",
       "                                          emotion_vector  cluster  \n",
       "56679  [0.0047196513041853905, 0.0, 0.109413847327232...        5  \n",
       "224    [0.8830875754356384, 0.0, 0.015944965183734894...        0  \n",
       "32457  [0.04676710069179535, 0.8936543464660645, 0.04...        3  \n",
       "9167   [0.025860704481601715, 0.0, 0.0233910940587520...        5  \n",
       "13270  [0.8706589341163635, 0.0, 0.016657516360282898...        0  \n",
       "...                                                  ...      ...  \n",
       "20276  [0.9516360759735107, 0.0, 0.0, 0.0, 0.02675172...        0  \n",
       "21464  [0.913567304611206, 0.0, 0.009503941982984543,...        0  \n",
       "51282  [0.9988148212432861, 0.0004344580229371786, 0....        0  \n",
       "56824  [0.0, 0.0, 0.6608747243881226, 0.0, 0.09542193...        2  \n",
       "280    [0.9975436329841614, 0.0, 0.000768109166529029...        0  \n",
       "\n",
       "[1000 rows x 6 columns]"
      ]
     },
     "execution_count": 72,
     "metadata": {},
     "output_type": "execute_result"
    }
   ],
   "source": [
    "vectors = np.array(new_data['emotion_vector'].tolist())\n",
    "\n",
    "kmeans = KMeans(n_clusters=6, random_state=42)\n",
    "new_data['cluster'] = kmeans.fit_predict(vectors)\n",
    "new_data"
   ]
  },
  {
   "cell_type": "code",
   "execution_count": 73,
   "id": "3d0a6261",
   "metadata": {},
   "outputs": [],
   "source": [
    "class MusicRecommender:\n",
    "    def __init__(self, df, kmeans):\n",
    "        self.df = df\n",
    "        self.kmeans = kmeans\n",
    "        self.vectors = np.array(df['emotion_vector'].tolist())\n",
    "    \n",
    "    def recommend(self, query_vector, top_n=5):\n",
    "        # Определяем кластер запроса\n",
    "        query_cluster = self.kmeans.predict([query_vector])[0]\n",
    "        \n",
    "        # Получаем песни из этого кластера\n",
    "        cluster_songs = self.df[self.df['cluster'] == query_cluster]\n",
    "        cluster_vectors = np.array(cluster_songs['emotion_vector'].tolist())\n",
    "        \n",
    "        # Вычисляем косинусную схожесть\n",
    "        similarities = cosine_similarity([query_vector], cluster_vectors)[0]\n",
    "        cluster_songs['similarity'] = similarities\n",
    "        \n",
    "        # Сортируем по схожести\n",
    "        return cluster_songs.sort_values('similarity', ascending=False).head(top_n)"
   ]
  },
  {
   "cell_type": "markdown",
   "id": "99ef6928",
   "metadata": {},
   "source": [
    "**model=\"cointegrated/rubert-tiny2-cedr-emotion-detection\"**  — модель для анализа эмоций, в данном случае это модель, обученная для распознавания эмоций в русском языке."
   ]
  },
  {
   "cell_type": "code",
   "execution_count": 74,
   "id": "67dc294f",
   "metadata": {},
   "outputs": [
    {
     "name": "stderr",
     "output_type": "stream",
     "text": [
      "Device set to use cpu\n",
      "c:\\Users\\admin\\anaconda3\\Lib\\site-packages\\transformers\\pipelines\\text_classification.py:106: UserWarning: `return_all_scores` is now deprecated,  if want a similar functionality use `top_k=None` instead of `return_all_scores=True` or `top_k=1` instead of `return_all_scores=False`.\n",
      "  warnings.warn(\n"
     ]
    }
   ],
   "source": [
    "classifier = pipeline(\"text-classification\", \n",
    "                        model=\"cointegrated/rubert-tiny2-cedr-emotion-detection\",\n",
    "                        return_all_scores=True)"
   ]
  },
  {
   "cell_type": "code",
   "execution_count": 75,
   "id": "9bb83c2e",
   "metadata": {},
   "outputs": [
    {
     "data": {
      "text/plain": [
       "{'joy': 0.9306477904319763,\n",
       " 'surprise': 0.09164230525493622,\n",
       " 'anger': 0.026012258604168892,\n",
       " 'fear': 0.015287277288734913,\n",
       " 'no_emotion': 0.007913720794022083,\n",
       " 'sadness': 0.006766302045434713}"
      ]
     },
     "execution_count": 75,
     "metadata": {},
     "output_type": "execute_result"
    }
   ],
   "source": [
    "def get_multiple_emotions(query, top_k=6):\n",
    "    emotions = classifier(query)[0]\n",
    "    return {e['label']: e['score'] for e in sorted(emotions, key=lambda x: -x['score'])[:top_k]}\n",
    "\n",
    "\n",
    "mood = get_multiple_emotions(\"Афигенное настроение!\")\n",
    "mood"
   ]
  },
  {
   "cell_type": "code",
   "execution_count": 76,
   "id": "2a8face5",
   "metadata": {},
   "outputs": [
    {
     "data": {
      "text/plain": [
       "[0.9306477904319763,\n",
       " 0.0,\n",
       " 0.006766302045434713,\n",
       " 0.09164230525493622,\n",
       " 0.015287277288734913,\n",
       " 0.026012258604168892,\n",
       " 0.007913720794022083]"
      ]
     },
     "execution_count": 76,
     "metadata": {},
     "output_type": "execute_result"
    }
   ],
   "source": [
    "to_emotion_vector(mood)"
   ]
  },
  {
   "cell_type": "code",
   "execution_count": 77,
   "id": "ee58d195",
   "metadata": {},
   "outputs": [
    {
     "name": "stdout",
     "output_type": "stream",
     "text": [
      "              artist              song  similarity\n",
      "39416      Kate Bush              Once    0.998612\n",
      "38378     John Waite           Godhead    0.997051\n",
      "20562   Van Morrison      Daring Night    0.996273\n",
      "25580  Black Sabbath  Feels Good To Me    0.995814\n",
      "17663        Rihanna  Music Of The Sun    0.995635\n"
     ]
    },
    {
     "name": "stderr",
     "output_type": "stream",
     "text": [
      "C:\\Users\\admin\\AppData\\Local\\Temp\\ipykernel_29488\\1121105414.py:17: SettingWithCopyWarning: \n",
      "A value is trying to be set on a copy of a slice from a DataFrame.\n",
      "Try using .loc[row_indexer,col_indexer] = value instead\n",
      "\n",
      "See the caveats in the documentation: https://pandas.pydata.org/pandas-docs/stable/user_guide/indexing.html#returning-a-view-versus-a-copy\n",
      "  cluster_songs['similarity'] = similarities\n"
     ]
    }
   ],
   "source": [
    "recommender = MusicRecommender(new_data, kmeans)\n",
    "\n",
    "joy_query = to_emotion_vector(mood)\n",
    "recommendations = recommender.recommend(joy_query)\n",
    "\n",
    "# Вывод результатов\n",
    "print(recommendations[['artist', 'song', 'similarity']])\n"
   ]
  }
 ],
 "metadata": {
  "kernelspec": {
   "display_name": "base",
   "language": "python",
   "name": "python3"
  },
  "language_info": {
   "codemirror_mode": {
    "name": "ipython",
    "version": 3
   },
   "file_extension": ".py",
   "mimetype": "text/x-python",
   "name": "python",
   "nbconvert_exporter": "python",
   "pygments_lexer": "ipython3",
   "version": "3.12.7"
  }
 },
 "nbformat": 4,
 "nbformat_minor": 5
}
